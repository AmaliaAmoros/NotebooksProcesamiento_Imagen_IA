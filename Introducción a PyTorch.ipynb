{
  "nbformat": 4,
  "nbformat_minor": 0,
  "metadata": {
    "colab": {
      "provenance": [],
      "gpuType": "T4"
    },
    "kernelspec": {
      "name": "python3",
      "display_name": "Python 3"
    },
    "language_info": {
      "name": "python"
    },
    "accelerator": "GPU"
  },
  "cells": [
    {
      "cell_type": "markdown",
      "source": [
        "# Introducción\n",
        "\n",
        "En este notebook veremos una iniciación a PyTorch que es otro framework de código abierto de aprendizaje automático y deep learning desarrollada por Facebook's AI Research lab (FAIR). Ofrece un conjunto de herramientas y funcionalidades que hacen que sea más fácil construir y entrenar modelos de aprendizaje profundo Deep Learning.\n",
        "\n",
        "Vamos a aprender tanto su uso básico como su aplicación en tareas de clasificación de imágenes, detección de objetos y segmentación."
      ],
      "metadata": {
        "id": "3CGRgRLpSRQi"
      }
    },
    {
      "cell_type": "markdown",
      "source": [
        "# Markdown\n",
        "\n",
        "Markdown es una sintaxis de marcado ligera que se utiliza comúnmente para formatear texto en documentos web, como páginas web, foros, wikis y documentos de texto. Aquí tienes algunas indicaciones básicas sobre Markdown\n",
        "\n",
        "# Puedes Modificar los títulos de las secciones\n",
        "## Y hacer secciones anidadas\n",
        "### Donde vas poniendo elementos de menor importancia\n",
        "#### Título H4\n",
        "##### Título H5\n",
        "\n",
        "### Listas\n",
        "\n",
        "También, podemos hacer listas de cosas:\n",
        "- Simplemente añadiendo un guión, ya nos aparece un punto\n",
        "- Otro guión, y ya tenemos una lista con dos elementos\n",
        "  - Si queremos crear una lista dentro de una lista...\n",
        "  - ... sólo tenemos que hacer TAB + guión\n",
        "\n",
        "\n",
        "Lo mismo podemos hacer con listas numéricas:\n",
        "\n",
        "1. Este es el primer elemento de la lista\n",
        "2. Este es el segundo\n",
        "1. Puedo poner otra vez uno y ver qué pasa\n",
        "\n",
        "### Enlaces\n",
        "\n",
        "Para poner un enlace, esta es la sintaxis: [Google](https://www.google.com)\n",
        "- En entre corchetes ponemos el nombre con el que queremos renombrar al enlace\n",
        "- Entre paréntesis el enlace en sí mismo\n",
        "\n",
        "### También podemos poner imágenes\n",
        "\n",
        "Para ello, se sigue una sintaxis muy parecida a la de los enlaces:\n",
        "\n",
        "![Casa](https://www.ufv.ca/media/assets/future-students/abbotsford-sub-building.jpg)\n",
        "\n",
        "\n",
        "---\n",
        "\n",
        "Para separar cosas, siempre podemos poner una línea horizontal\n",
        "\n",
        "\n",
        "Algo que es muy útil es poder citar tu propio código y hacer referencia a un framework como `Tensorflow` o `Keras` o `PyTorch`.\n",
        "\n",
        "Si utilizamos seis tildes (separadas en dos filas), tendremos un espacio para código.\n",
        "\n",
        "```\n",
        "\n",
        "```\n",
        "\n",
        "\n",
        "```\n",
        "x = 3\n",
        "x.train()\n",
        "# Incluso puedes poner comentarios aquí al uso\n",
        "```\n",
        "\n",
        "Si además, le indicas el lenguaje al lado de las primeras tres comas, te colorea la sintaxis de acuerdo con el lenguaje escogido.\n",
        "\n",
        "```python\n",
        "x = 3\n",
        "x.train()\n",
        "# Incluso puedes poner comentarios aquí al uso\n",
        "```\n",
        "\n",
        "Por último, y no menos importante, se puede usar sintaxis $LaTeX$, que permite escribir notación matemática o física de forma sencilla:\n",
        "- $w_i$ son los pesos de la red neuronal\n",
        "- $\\int_{x=0}^{x=\\alpha} f(x) dx = \\frac{\\lambda}{2}\\pi $\n",
        "\n",
        "Incluso tablas (si tienes la paciencia suficiente). Ejemplo sacado de ChatGPT, claro!\n",
        "\n",
        "| Nombre       | Edad | Profesión       |\n",
        "|--------------|------|-----------------|\n",
        "| Ana          | 28   | Diseñadora      |\n",
        "| Carlos       | 35   | Desarrollador   |\n",
        "| Elena        | 24   | Fotógrafa       |\n",
        "| Javier       | 29   | Escritor        |\n",
        "\n",
        "Y por último, *por supuesto* se pueden poner varios **tipos de letra**, que ~~al final y al cabo no valen para nada~~ son __muy útiles__ para destacar mensajes!"
      ],
      "metadata": {
        "id": "b0X61wuegxw3"
      }
    },
    {
      "cell_type": "markdown",
      "source": [
        "# Debugging\n",
        "\n",
        "Debugging es el proceso para depurar (encontrar los fallos) dentro del código. Normalmente, para desarrollar código contamos con herramientas (o entornos de programación) específicos que nos ayudan a ejecutar línea a línea e ir viendo qué sucede.\n",
        "\n",
        "Sin embargo, en notebooks, esto no es tan común y la depuración del código sólo se realiza mediante `print`.\n",
        "\n",
        "Por ello, es bueno ya conocer otras herramientas"
      ],
      "metadata": {
        "id": "KbTKvEoZoGA2"
      }
    },
    {
      "cell_type": "code",
      "source": [
        "!pip install -Uqq ipdb\n",
        "import ipdb"
      ],
      "metadata": {
        "id": "tAuh2GVhloWS"
      },
      "execution_count": null,
      "outputs": []
    },
    {
      "cell_type": "code",
      "source": [
        "%pdb on"
      ],
      "metadata": {
        "id": "tCoQ-A8woheZ"
      },
      "execution_count": null,
      "outputs": []
    },
    {
      "cell_type": "code",
      "source": [
        "def fibonacci(n):\n",
        "    if n <= 0:\n",
        "        return []\n",
        "    elif n == 1:\n",
        "        return [0]\n",
        "    elif n == 2:\n",
        "        return [0, 1]\n",
        "    else:\n",
        "        fib_sequence = [0, 1]\n",
        "        while len(fib_sequence) < n:\n",
        "            next_value = fib_sequence[-1] + fib_sequence[-2]\n",
        "            # print(next_value) # (1. Descomentar esta línea)\n",
        "            ipdb.set_trace(context=6) # (2. Descomentar esta línea)\n",
        "            fib_sequence.append(next_value)\n",
        "        return fib_sequence"
      ],
      "metadata": {
        "id": "r-8iRVTqolCy"
      },
      "execution_count": 11,
      "outputs": []
    },
    {
      "cell_type": "code",
      "source": [
        "fibonacci(10)"
      ],
      "metadata": {
        "colab": {
          "base_uri": "https://localhost:8080/"
        },
        "id": "KVmJj2CQpIXo",
        "outputId": "29dc4276-4a58-4ac8-8512-de1e69aa54fc"
      },
      "execution_count": 12,
      "outputs": [
        {
          "output_type": "stream",
          "name": "stderr",
          "text": [
            "\n",
            "PYDEV DEBUGGER WARNING:\n",
            "sys.settrace() should not be used when the debugger is being used.\n",
            "This may cause the debugger to stop working correctly.\n",
            "If this is needed, please check: \n",
            "http://pydev.blogspot.com/2007/06/why-cant-pydev-debugger-work-with.html\n",
            "to see how to restore the debug tracing back correctly.\n",
            "Call Location:\n",
            "  File \"/usr/lib/python3.10/bdb.py\", line 336, in set_trace\n",
            "    sys.settrace(self.trace_dispatch)\n",
            "\n"
          ]
        },
        {
          "name": "stdout",
          "output_type": "stream",
          "text": [
            "> \u001b[0;32m<ipython-input-11-9c856583bca4>\u001b[0m(14)\u001b[0;36mfibonacci\u001b[0;34m()\u001b[0m\n",
            "\u001b[0;32m     10 \u001b[0;31m        \u001b[0;32mwhile\u001b[0m \u001b[0mlen\u001b[0m\u001b[0;34m(\u001b[0m\u001b[0mfib_sequence\u001b[0m\u001b[0;34m)\u001b[0m \u001b[0;34m<\u001b[0m \u001b[0mn\u001b[0m\u001b[0;34m:\u001b[0m\u001b[0;34m\u001b[0m\u001b[0;34m\u001b[0m\u001b[0m\n",
            "\u001b[0m\u001b[0;32m     11 \u001b[0;31m            \u001b[0mnext_value\u001b[0m \u001b[0;34m=\u001b[0m \u001b[0mfib_sequence\u001b[0m\u001b[0;34m[\u001b[0m\u001b[0;34m-\u001b[0m\u001b[0;36m1\u001b[0m\u001b[0;34m]\u001b[0m \u001b[0;34m+\u001b[0m \u001b[0mfib_sequence\u001b[0m\u001b[0;34m[\u001b[0m\u001b[0;34m-\u001b[0m\u001b[0;36m2\u001b[0m\u001b[0;34m]\u001b[0m\u001b[0;34m\u001b[0m\u001b[0;34m\u001b[0m\u001b[0m\n",
            "\u001b[0m\u001b[0;32m     12 \u001b[0;31m            \u001b[0;31m# print(next_value) # (1. Descomentar esta línea)\u001b[0m\u001b[0;34m\u001b[0m\u001b[0;34m\u001b[0m\u001b[0m\n",
            "\u001b[0m\u001b[0;32m     13 \u001b[0;31m            \u001b[0mipdb\u001b[0m\u001b[0;34m.\u001b[0m\u001b[0mset_trace\u001b[0m\u001b[0;34m(\u001b[0m\u001b[0mcontext\u001b[0m\u001b[0;34m=\u001b[0m\u001b[0;36m6\u001b[0m\u001b[0;34m)\u001b[0m \u001b[0;31m# (2. Descomentar esta línea)\u001b[0m\u001b[0;34m\u001b[0m\u001b[0;34m\u001b[0m\u001b[0m\n",
            "\u001b[0m\u001b[0;32m---> 14 \u001b[0;31m            \u001b[0mfib_sequence\u001b[0m\u001b[0;34m.\u001b[0m\u001b[0mappend\u001b[0m\u001b[0;34m(\u001b[0m\u001b[0mnext_value\u001b[0m\u001b[0;34m)\u001b[0m\u001b[0;34m\u001b[0m\u001b[0;34m\u001b[0m\u001b[0m\n",
            "\u001b[0m\u001b[0;32m     15 \u001b[0;31m        \u001b[0;32mreturn\u001b[0m \u001b[0mfib_sequence\u001b[0m\u001b[0;34m\u001b[0m\u001b[0;34m\u001b[0m\u001b[0m\n",
            "\u001b[0m\n",
            "ipdb> next_value\n",
            "1\n",
            "ipdb> next_value = next_value + 1\n",
            "ipdb> next_value\n",
            "2\n",
            "ipdb> c\n"
          ]
        },
        {
          "output_type": "stream",
          "name": "stderr",
          "text": [
            "\n",
            "PYDEV DEBUGGER WARNING:\n",
            "sys.settrace() should not be used when the debugger is being used.\n",
            "This may cause the debugger to stop working correctly.\n",
            "If this is needed, please check: \n",
            "http://pydev.blogspot.com/2007/06/why-cant-pydev-debugger-work-with.html\n",
            "to see how to restore the debug tracing back correctly.\n",
            "Call Location:\n",
            "  File \"/usr/lib/python3.10/bdb.py\", line 347, in set_continue\n",
            "    sys.settrace(None)\n",
            "\n"
          ]
        },
        {
          "name": "stdout",
          "output_type": "stream",
          "text": [
            "> \u001b[0;32m<ipython-input-11-9c856583bca4>\u001b[0m(14)\u001b[0;36mfibonacci\u001b[0;34m()\u001b[0m\n",
            "\u001b[0;32m     10 \u001b[0;31m        \u001b[0;32mwhile\u001b[0m \u001b[0mlen\u001b[0m\u001b[0;34m(\u001b[0m\u001b[0mfib_sequence\u001b[0m\u001b[0;34m)\u001b[0m \u001b[0;34m<\u001b[0m \u001b[0mn\u001b[0m\u001b[0;34m:\u001b[0m\u001b[0;34m\u001b[0m\u001b[0;34m\u001b[0m\u001b[0m\n",
            "\u001b[0m\u001b[0;32m     11 \u001b[0;31m            \u001b[0mnext_value\u001b[0m \u001b[0;34m=\u001b[0m \u001b[0mfib_sequence\u001b[0m\u001b[0;34m[\u001b[0m\u001b[0;34m-\u001b[0m\u001b[0;36m1\u001b[0m\u001b[0;34m]\u001b[0m \u001b[0;34m+\u001b[0m \u001b[0mfib_sequence\u001b[0m\u001b[0;34m[\u001b[0m\u001b[0;34m-\u001b[0m\u001b[0;36m2\u001b[0m\u001b[0;34m]\u001b[0m\u001b[0;34m\u001b[0m\u001b[0;34m\u001b[0m\u001b[0m\n",
            "\u001b[0m\u001b[0;32m     12 \u001b[0;31m            \u001b[0;31m# print(next_value) # (1. Descomentar esta línea)\u001b[0m\u001b[0;34m\u001b[0m\u001b[0;34m\u001b[0m\u001b[0m\n",
            "\u001b[0m\u001b[0;32m     13 \u001b[0;31m            \u001b[0mipdb\u001b[0m\u001b[0;34m.\u001b[0m\u001b[0mset_trace\u001b[0m\u001b[0;34m(\u001b[0m\u001b[0mcontext\u001b[0m\u001b[0;34m=\u001b[0m\u001b[0;36m6\u001b[0m\u001b[0;34m)\u001b[0m \u001b[0;31m# (2. Descomentar esta línea)\u001b[0m\u001b[0;34m\u001b[0m\u001b[0;34m\u001b[0m\u001b[0m\n",
            "\u001b[0m\u001b[0;32m---> 14 \u001b[0;31m            \u001b[0mfib_sequence\u001b[0m\u001b[0;34m.\u001b[0m\u001b[0mappend\u001b[0m\u001b[0;34m(\u001b[0m\u001b[0mnext_value\u001b[0m\u001b[0;34m)\u001b[0m\u001b[0;34m\u001b[0m\u001b[0;34m\u001b[0m\u001b[0m\n",
            "\u001b[0m\u001b[0;32m     15 \u001b[0;31m        \u001b[0;32mreturn\u001b[0m \u001b[0mfib_sequence\u001b[0m\u001b[0;34m\u001b[0m\u001b[0;34m\u001b[0m\u001b[0m\n",
            "\u001b[0m\n",
            "ipdb> next_value\n",
            "3\n",
            "ipdb> c\n",
            "> \u001b[0;32m<ipython-input-11-9c856583bca4>\u001b[0m(14)\u001b[0;36mfibonacci\u001b[0;34m()\u001b[0m\n",
            "\u001b[0;32m     10 \u001b[0;31m        \u001b[0;32mwhile\u001b[0m \u001b[0mlen\u001b[0m\u001b[0;34m(\u001b[0m\u001b[0mfib_sequence\u001b[0m\u001b[0;34m)\u001b[0m \u001b[0;34m<\u001b[0m \u001b[0mn\u001b[0m\u001b[0;34m:\u001b[0m\u001b[0;34m\u001b[0m\u001b[0;34m\u001b[0m\u001b[0m\n",
            "\u001b[0m\u001b[0;32m     11 \u001b[0;31m            \u001b[0mnext_value\u001b[0m \u001b[0;34m=\u001b[0m \u001b[0mfib_sequence\u001b[0m\u001b[0;34m[\u001b[0m\u001b[0;34m-\u001b[0m\u001b[0;36m1\u001b[0m\u001b[0;34m]\u001b[0m \u001b[0;34m+\u001b[0m \u001b[0mfib_sequence\u001b[0m\u001b[0;34m[\u001b[0m\u001b[0;34m-\u001b[0m\u001b[0;36m2\u001b[0m\u001b[0;34m]\u001b[0m\u001b[0;34m\u001b[0m\u001b[0;34m\u001b[0m\u001b[0m\n",
            "\u001b[0m\u001b[0;32m     12 \u001b[0;31m            \u001b[0;31m# print(next_value) # (1. Descomentar esta línea)\u001b[0m\u001b[0;34m\u001b[0m\u001b[0;34m\u001b[0m\u001b[0m\n",
            "\u001b[0m\u001b[0;32m     13 \u001b[0;31m            \u001b[0mipdb\u001b[0m\u001b[0;34m.\u001b[0m\u001b[0mset_trace\u001b[0m\u001b[0;34m(\u001b[0m\u001b[0mcontext\u001b[0m\u001b[0;34m=\u001b[0m\u001b[0;36m6\u001b[0m\u001b[0;34m)\u001b[0m \u001b[0;31m# (2. Descomentar esta línea)\u001b[0m\u001b[0;34m\u001b[0m\u001b[0;34m\u001b[0m\u001b[0m\n",
            "\u001b[0m\u001b[0;32m---> 14 \u001b[0;31m            \u001b[0mfib_sequence\u001b[0m\u001b[0;34m.\u001b[0m\u001b[0mappend\u001b[0m\u001b[0;34m(\u001b[0m\u001b[0mnext_value\u001b[0m\u001b[0;34m)\u001b[0m\u001b[0;34m\u001b[0m\u001b[0;34m\u001b[0m\u001b[0m\n",
            "\u001b[0m\u001b[0;32m     15 \u001b[0;31m        \u001b[0;32mreturn\u001b[0m \u001b[0mfib_sequence\u001b[0m\u001b[0;34m\u001b[0m\u001b[0;34m\u001b[0m\u001b[0m\n",
            "\u001b[0m\n",
            "ipdb> c\n",
            "> \u001b[0;32m<ipython-input-11-9c856583bca4>\u001b[0m(14)\u001b[0;36mfibonacci\u001b[0;34m()\u001b[0m\n",
            "\u001b[0;32m     10 \u001b[0;31m        \u001b[0;32mwhile\u001b[0m \u001b[0mlen\u001b[0m\u001b[0;34m(\u001b[0m\u001b[0mfib_sequence\u001b[0m\u001b[0;34m)\u001b[0m \u001b[0;34m<\u001b[0m \u001b[0mn\u001b[0m\u001b[0;34m:\u001b[0m\u001b[0;34m\u001b[0m\u001b[0;34m\u001b[0m\u001b[0m\n",
            "\u001b[0m\u001b[0;32m     11 \u001b[0;31m            \u001b[0mnext_value\u001b[0m \u001b[0;34m=\u001b[0m \u001b[0mfib_sequence\u001b[0m\u001b[0;34m[\u001b[0m\u001b[0;34m-\u001b[0m\u001b[0;36m1\u001b[0m\u001b[0;34m]\u001b[0m \u001b[0;34m+\u001b[0m \u001b[0mfib_sequence\u001b[0m\u001b[0;34m[\u001b[0m\u001b[0;34m-\u001b[0m\u001b[0;36m2\u001b[0m\u001b[0;34m]\u001b[0m\u001b[0;34m\u001b[0m\u001b[0;34m\u001b[0m\u001b[0m\n",
            "\u001b[0m\u001b[0;32m     12 \u001b[0;31m            \u001b[0;31m# print(next_value) # (1. Descomentar esta línea)\u001b[0m\u001b[0;34m\u001b[0m\u001b[0;34m\u001b[0m\u001b[0m\n",
            "\u001b[0m\u001b[0;32m     13 \u001b[0;31m            \u001b[0mipdb\u001b[0m\u001b[0;34m.\u001b[0m\u001b[0mset_trace\u001b[0m\u001b[0;34m(\u001b[0m\u001b[0mcontext\u001b[0m\u001b[0;34m=\u001b[0m\u001b[0;36m6\u001b[0m\u001b[0;34m)\u001b[0m \u001b[0;31m# (2. Descomentar esta línea)\u001b[0m\u001b[0;34m\u001b[0m\u001b[0;34m\u001b[0m\u001b[0m\n",
            "\u001b[0m\u001b[0;32m---> 14 \u001b[0;31m            \u001b[0mfib_sequence\u001b[0m\u001b[0;34m.\u001b[0m\u001b[0mappend\u001b[0m\u001b[0;34m(\u001b[0m\u001b[0mnext_value\u001b[0m\u001b[0;34m)\u001b[0m\u001b[0;34m\u001b[0m\u001b[0;34m\u001b[0m\u001b[0m\n",
            "\u001b[0m\u001b[0;32m     15 \u001b[0;31m        \u001b[0;32mreturn\u001b[0m \u001b[0mfib_sequence\u001b[0m\u001b[0;34m\u001b[0m\u001b[0;34m\u001b[0m\u001b[0m\n",
            "\u001b[0m\n",
            "ipdb> next_value\n",
            "8\n",
            "ipdb> u\n",
            "> \u001b[0;32m<ipython-input-12-57408513f147>\u001b[0m(1)\u001b[0;36m<cell line: 1>\u001b[0;34m()\u001b[0m\n",
            "\u001b[0;32m----> 1 \u001b[0;31m\u001b[0mfibonacci\u001b[0m\u001b[0;34m(\u001b[0m\u001b[0;36m10\u001b[0m\u001b[0;34m)\u001b[0m\u001b[0;34m\u001b[0m\u001b[0;34m\u001b[0m\u001b[0m\n",
            "\u001b[0m\n",
            "ipdb> d\n",
            "> \u001b[0;32m<ipython-input-11-9c856583bca4>\u001b[0m(14)\u001b[0;36mfibonacci\u001b[0;34m()\u001b[0m\n",
            "\u001b[0;32m     10 \u001b[0;31m        \u001b[0;32mwhile\u001b[0m \u001b[0mlen\u001b[0m\u001b[0;34m(\u001b[0m\u001b[0mfib_sequence\u001b[0m\u001b[0;34m)\u001b[0m \u001b[0;34m<\u001b[0m \u001b[0mn\u001b[0m\u001b[0;34m:\u001b[0m\u001b[0;34m\u001b[0m\u001b[0;34m\u001b[0m\u001b[0m\n",
            "\u001b[0m\u001b[0;32m     11 \u001b[0;31m            \u001b[0mnext_value\u001b[0m \u001b[0;34m=\u001b[0m \u001b[0mfib_sequence\u001b[0m\u001b[0;34m[\u001b[0m\u001b[0;34m-\u001b[0m\u001b[0;36m1\u001b[0m\u001b[0;34m]\u001b[0m \u001b[0;34m+\u001b[0m \u001b[0mfib_sequence\u001b[0m\u001b[0;34m[\u001b[0m\u001b[0;34m-\u001b[0m\u001b[0;36m2\u001b[0m\u001b[0;34m]\u001b[0m\u001b[0;34m\u001b[0m\u001b[0;34m\u001b[0m\u001b[0m\n",
            "\u001b[0m\u001b[0;32m     12 \u001b[0;31m            \u001b[0;31m# print(next_value) # (1. Descomentar esta línea)\u001b[0m\u001b[0;34m\u001b[0m\u001b[0;34m\u001b[0m\u001b[0m\n",
            "\u001b[0m\u001b[0;32m     13 \u001b[0;31m            \u001b[0mipdb\u001b[0m\u001b[0;34m.\u001b[0m\u001b[0mset_trace\u001b[0m\u001b[0;34m(\u001b[0m\u001b[0mcontext\u001b[0m\u001b[0;34m=\u001b[0m\u001b[0;36m6\u001b[0m\u001b[0;34m)\u001b[0m \u001b[0;31m# (2. Descomentar esta línea)\u001b[0m\u001b[0;34m\u001b[0m\u001b[0;34m\u001b[0m\u001b[0m\n",
            "\u001b[0m\u001b[0;32m---> 14 \u001b[0;31m            \u001b[0mfib_sequence\u001b[0m\u001b[0;34m.\u001b[0m\u001b[0mappend\u001b[0m\u001b[0;34m(\u001b[0m\u001b[0mnext_value\u001b[0m\u001b[0;34m)\u001b[0m\u001b[0;34m\u001b[0m\u001b[0;34m\u001b[0m\u001b[0m\n",
            "\u001b[0m\u001b[0;32m     15 \u001b[0;31m        \u001b[0;32mreturn\u001b[0m \u001b[0mfib_sequence\u001b[0m\u001b[0;34m\u001b[0m\u001b[0;34m\u001b[0m\u001b[0m\n",
            "\u001b[0m\n",
            "ipdb> bt\n",
            "\u001b[0;31m    [... skipping 27 hidden frame(s)]\u001b[0m\n",
            "\n",
            "  \u001b[0;32m<ipython-input-12-57408513f147>\u001b[0m(1)\u001b[0;36m<cell line: 1>\u001b[0;34m()\u001b[0m\n",
            "\u001b[0;32m----> 1 \u001b[0;31m\u001b[0mfibonacci\u001b[0m\u001b[0;34m(\u001b[0m\u001b[0;36m10\u001b[0m\u001b[0;34m)\u001b[0m\u001b[0;34m\u001b[0m\u001b[0;34m\u001b[0m\u001b[0m\n",
            "\u001b[0m\n",
            "> \u001b[0;32m<ipython-input-11-9c856583bca4>\u001b[0m(14)\u001b[0;36mfibonacci\u001b[0;34m()\u001b[0m\n",
            "\u001b[0;32m     10 \u001b[0;31m        \u001b[0;32mwhile\u001b[0m \u001b[0mlen\u001b[0m\u001b[0;34m(\u001b[0m\u001b[0mfib_sequence\u001b[0m\u001b[0;34m)\u001b[0m \u001b[0;34m<\u001b[0m \u001b[0mn\u001b[0m\u001b[0;34m:\u001b[0m\u001b[0;34m\u001b[0m\u001b[0;34m\u001b[0m\u001b[0m\n",
            "\u001b[0m\u001b[0;32m     11 \u001b[0;31m            \u001b[0mnext_value\u001b[0m \u001b[0;34m=\u001b[0m \u001b[0mfib_sequence\u001b[0m\u001b[0;34m[\u001b[0m\u001b[0;34m-\u001b[0m\u001b[0;36m1\u001b[0m\u001b[0;34m]\u001b[0m \u001b[0;34m+\u001b[0m \u001b[0mfib_sequence\u001b[0m\u001b[0;34m[\u001b[0m\u001b[0;34m-\u001b[0m\u001b[0;36m2\u001b[0m\u001b[0;34m]\u001b[0m\u001b[0;34m\u001b[0m\u001b[0;34m\u001b[0m\u001b[0m\n",
            "\u001b[0m\u001b[0;32m     12 \u001b[0;31m            \u001b[0;31m# print(next_value) # (1. Descomentar esta línea)\u001b[0m\u001b[0;34m\u001b[0m\u001b[0;34m\u001b[0m\u001b[0m\n",
            "\u001b[0m\u001b[0;32m     13 \u001b[0;31m            \u001b[0mipdb\u001b[0m\u001b[0;34m.\u001b[0m\u001b[0mset_trace\u001b[0m\u001b[0;34m(\u001b[0m\u001b[0mcontext\u001b[0m\u001b[0;34m=\u001b[0m\u001b[0;36m6\u001b[0m\u001b[0;34m)\u001b[0m \u001b[0;31m# (2. Descomentar esta línea)\u001b[0m\u001b[0;34m\u001b[0m\u001b[0;34m\u001b[0m\u001b[0m\n",
            "\u001b[0m\u001b[0;32m---> 14 \u001b[0;31m            \u001b[0mfib_sequence\u001b[0m\u001b[0;34m.\u001b[0m\u001b[0mappend\u001b[0m\u001b[0;34m(\u001b[0m\u001b[0mnext_value\u001b[0m\u001b[0;34m)\u001b[0m\u001b[0;34m\u001b[0m\u001b[0;34m\u001b[0m\u001b[0m\n",
            "\u001b[0m\u001b[0;32m     15 \u001b[0;31m        \u001b[0;32mreturn\u001b[0m \u001b[0mfib_sequence\u001b[0m\u001b[0;34m\u001b[0m\u001b[0;34m\u001b[0m\u001b[0m\n",
            "\u001b[0m\n",
            "ipdb> p\n",
            "*** SyntaxError: invalid syntax\n",
            "ipdb> l\n",
            "\u001b[1;32m      9 \u001b[0m        \u001b[0mfib_sequence\u001b[0m \u001b[0;34m=\u001b[0m \u001b[0;34m[\u001b[0m\u001b[0;36m0\u001b[0m\u001b[0;34m,\u001b[0m \u001b[0;36m1\u001b[0m\u001b[0;34m]\u001b[0m\u001b[0;34m\u001b[0m\u001b[0;34m\u001b[0m\u001b[0m\n",
            "\u001b[1;32m     10 \u001b[0m        \u001b[0;32mwhile\u001b[0m \u001b[0mlen\u001b[0m\u001b[0;34m(\u001b[0m\u001b[0mfib_sequence\u001b[0m\u001b[0;34m)\u001b[0m \u001b[0;34m<\u001b[0m \u001b[0mn\u001b[0m\u001b[0;34m:\u001b[0m\u001b[0;34m\u001b[0m\u001b[0;34m\u001b[0m\u001b[0m\n",
            "\u001b[1;32m     11 \u001b[0m            \u001b[0mnext_value\u001b[0m \u001b[0;34m=\u001b[0m \u001b[0mfib_sequence\u001b[0m\u001b[0;34m[\u001b[0m\u001b[0;34m-\u001b[0m\u001b[0;36m1\u001b[0m\u001b[0;34m]\u001b[0m \u001b[0;34m+\u001b[0m \u001b[0mfib_sequence\u001b[0m\u001b[0;34m[\u001b[0m\u001b[0;34m-\u001b[0m\u001b[0;36m2\u001b[0m\u001b[0;34m]\u001b[0m\u001b[0;34m\u001b[0m\u001b[0;34m\u001b[0m\u001b[0m\n",
            "\u001b[1;32m     12 \u001b[0m            \u001b[0;31m# print(next_value) # (1. Descomentar esta línea)\u001b[0m\u001b[0;34m\u001b[0m\u001b[0;34m\u001b[0m\u001b[0m\n",
            "\u001b[1;32m     13 \u001b[0m            \u001b[0mipdb\u001b[0m\u001b[0;34m.\u001b[0m\u001b[0mset_trace\u001b[0m\u001b[0;34m(\u001b[0m\u001b[0mcontext\u001b[0m\u001b[0;34m=\u001b[0m\u001b[0;36m6\u001b[0m\u001b[0;34m)\u001b[0m \u001b[0;31m# (2. Descomentar esta línea)\u001b[0m\u001b[0;34m\u001b[0m\u001b[0;34m\u001b[0m\u001b[0m\n",
            "\u001b[0;32m---> 14 \u001b[0;31m            \u001b[0mfib_sequence\u001b[0m\u001b[0;34m.\u001b[0m\u001b[0mappend\u001b[0m\u001b[0;34m(\u001b[0m\u001b[0mnext_value\u001b[0m\u001b[0;34m)\u001b[0m\u001b[0;34m\u001b[0m\u001b[0;34m\u001b[0m\u001b[0m\n",
            "\u001b[0m\u001b[1;32m     15 \u001b[0m        \u001b[0;32mreturn\u001b[0m \u001b[0mfib_sequence\u001b[0m\u001b[0;34m\u001b[0m\u001b[0;34m\u001b[0m\u001b[0m\n",
            "\n",
            "ipdb> h\n",
            "\n",
            "Documented commands (type help <topic>):\n",
            "========================================\n",
            "EOF    commands   enable    ll        pp       s                until \n",
            "a      condition  exit      longlist  psource  skip_hidden      up    \n",
            "alias  cont       h         n         q        skip_predicates  w     \n",
            "args   context    help      next      quit     source           whatis\n",
            "b      continue   ignore    p         r        step             where \n",
            "break  d          interact  pdef      restart  tbreak         \n",
            "bt     debug      j         pdoc      return   u              \n",
            "c      disable    jump      pfile     retval   unalias        \n",
            "cl     display    l         pinfo     run      undisplay      \n",
            "clear  down       list      pinfo2    rv       unt            \n",
            "\n",
            "Miscellaneous help topics:\n",
            "==========================\n",
            "exec  pdb\n",
            "\n",
            "ipdb> whatis fib_sequence\n",
            "<class 'list'>\n",
            "ipdb> type(fib_sequence)\n",
            "<class 'list'>\n",
            "ipdb> q\n"
          ]
        },
        {
          "output_type": "stream",
          "name": "stderr",
          "text": [
            "\n",
            "PYDEV DEBUGGER WARNING:\n",
            "sys.settrace() should not be used when the debugger is being used.\n",
            "This may cause the debugger to stop working correctly.\n",
            "If this is needed, please check: \n",
            "http://pydev.blogspot.com/2007/06/why-cant-pydev-debugger-work-with.html\n",
            "to see how to restore the debug tracing back correctly.\n",
            "Call Location:\n",
            "  File \"/usr/lib/python3.10/bdb.py\", line 361, in set_quit\n",
            "    sys.settrace(None)\n",
            "\n"
          ]
        }
      ]
    },
    {
      "cell_type": "markdown",
      "source": [
        "- c (continue): Continúa la ejecución hasta que se alcanza el siguiente punto de interrupción o se finaliza el programa.\n",
        "\n",
        "- n (next): Ejecuta la siguiente línea de código sin entrar en las funciones.\n",
        "\n",
        "- s (step): Entra en la siguiente función llamada.\n",
        "\n",
        "- q (quit): Sale del depurador y finaliza la ejecución del programa.\n",
        "\n",
        "- b (break): Establece un punto de ruptura en la línea actual o en una línea específica. Por ejemplo, b 10 establecerá un punto de ruptura en la línea 10 del archivo actual.\n",
        "\n",
        "- l (list): Muestra un fragmento del código fuente actual con la línea actual resaltada.\n",
        "\n",
        "- p (print): Evalúa una expresión y muestra su valor. Por ejemplo, p variable mostrará el valor de la variable en ese punto de ejecución.\n",
        "\n",
        "- pp (pprint): Imprime una expresión de manera más legible si es una estructura de datos compleja, como un diccionario.\n",
        "\n",
        "- help: Muestra información de ayuda sobre los comandos disponibles.\n",
        "\n",
        "- h (history): Muestra un historial de comandos previamente ingresados.\n",
        "\n",
        "- bt (backtrace): Muestra la pila de llamadas actual, lo que indica cómo se llegó al punto actual en el código.\n",
        "\n",
        "- u (up): Se mueve hacia arriba en la pila de llamadas para inspeccionar el contexto de llamadas anteriores.\n",
        "\n",
        "- d (down): Se mueve hacia abajo en la pila de llamadas para regresar al contexto anterior."
      ],
      "metadata": {
        "id": "K-AJKNdGqHWg"
      }
    },
    {
      "cell_type": "markdown",
      "source": [
        "## Primeros pasos\n",
        "\n",
        "Lo primero de todo será cargar las bibliotecas que más tardes usaremos."
      ],
      "metadata": {
        "id": "P5zvj_hETp8v"
      }
    },
    {
      "cell_type": "code",
      "source": [
        "import torch\n",
        "import torch.nn as nn\n",
        "import torch.nn.functional as F\n",
        "import torch.optim as optim\n",
        "import torchvision\n",
        "import torchvision.transforms as transforms\n",
        "import torchvision.datasets as datasets"
      ],
      "metadata": {
        "id": "6oRJNrODTvkr"
      },
      "execution_count": 25,
      "outputs": []
    },
    {
      "cell_type": "markdown",
      "source": [
        "Podemos ya intuir para qué servirá cada cosa puesto que tenemos cierta experiencia con otros frameworks.\n",
        "\n",
        "El único aspecto que parece más ambiguo es el concepto de `transforms` que aún no hemos visto en teoría."
      ],
      "metadata": {
        "id": "DNDUcE1cUFNL"
      }
    },
    {
      "cell_type": "markdown",
      "source": [
        "Veamos ahora qué versión de `PyTorch` tenemos instalada, pues cada versión conlleva diferentes funcionalidades (aunque normalmente compatibles entre versiones)"
      ],
      "metadata": {
        "id": "xnQtpaomUYNi"
      }
    },
    {
      "cell_type": "code",
      "source": [
        "print(torch.__version__)"
      ],
      "metadata": {
        "id": "48V428ayUh04"
      },
      "execution_count": null,
      "outputs": []
    },
    {
      "cell_type": "markdown",
      "source": [
        "## ¿Qué es esto de CUDA?\n",
        "\n",
        "`CUDA` (Compute Unified Device Architecture) es una plataforma desarrollada por NVIDIA para la programación de GPU y es ampliamente utilizada en el aprendizaje profundo para acelerar operaciones numéricas en GPU.\n",
        "\n",
        "Lo que nos indica ese `+cu118` es que esta versión de `PyTorch` es compatible con `CUDA 11.8`.\n",
        "\n",
        "Veamos ahora varios comandos útiles de `CUDA` para ver si podemos hacer uso de GPUs. Estos comandos valen para cualquier entorno (no solo Google Colab)."
      ],
      "metadata": {
        "id": "hVqmi_-hUmHp"
      }
    },
    {
      "cell_type": "code",
      "source": [
        "# ¿Está disponible CUDA en tu sistema?\n",
        "print(torch.cuda.is_available())"
      ],
      "metadata": {
        "colab": {
          "base_uri": "https://localhost:8080/"
        },
        "id": "ZsJzsr6MUldU",
        "outputId": "3d153e4e-5d77-4308-a4d4-0fe39622ffe1"
      },
      "execution_count": 27,
      "outputs": [
        {
          "output_type": "stream",
          "name": "stdout",
          "text": [
            "True\n"
          ]
        }
      ]
    },
    {
      "cell_type": "code",
      "source": [
        "# Selecciona el primer dispositivo CUDA\n",
        "device = torch.device(\"cuda:0\")"
      ],
      "metadata": {
        "id": "DqyXWQYYWmcf"
      },
      "execution_count": 28,
      "outputs": []
    },
    {
      "cell_type": "code",
      "source": [
        "# Obtiene el número total de dispositivos CUDA disponibles\n",
        "num_cuda_devices = torch.cuda.device_count()\n",
        "print(f'El sistema tiene un total de {num_cuda_devices} dispositivo(s) disponible(s)')"
      ],
      "metadata": {
        "colab": {
          "base_uri": "https://localhost:8080/"
        },
        "id": "FmRKwcOdXnBC",
        "outputId": "c3ee175b-9908-4e6e-debc-eef232b4aa0f"
      },
      "execution_count": 29,
      "outputs": [
        {
          "output_type": "stream",
          "name": "stdout",
          "text": [
            "El sistema tiene un total de 1 dispositivo(s) disponible(s)\n"
          ]
        }
      ]
    },
    {
      "cell_type": "code",
      "source": [
        "# Obtiene el dispositivo actual (por defecto)\n",
        "current_device = torch.cuda.current_device()\n",
        "\n",
        "# Obtiene el nombre del dispositivo\n",
        "device_name = torch.cuda.get_device_name(current_device)\n",
        "\n",
        "print(f\"Dispositivo actual: {current_device}, Nombre: {device_name}\")"
      ],
      "metadata": {
        "colab": {
          "base_uri": "https://localhost:8080/"
        },
        "id": "cZiBiLcuXoAA",
        "outputId": "2e3622d0-19bb-459f-8f0c-ef54793579a4"
      },
      "execution_count": 30,
      "outputs": [
        {
          "output_type": "stream",
          "name": "stdout",
          "text": [
            "Dispositivo actual: 0, Nombre: Tesla T4\n"
          ]
        }
      ]
    },
    {
      "cell_type": "markdown",
      "source": [
        "Una manera de elegir entre GPUs y CPU es el siguiente en función del resultado dado por `torch.cuda.is_available()`"
      ],
      "metadata": {
        "id": "TeS_TINZZ6sC"
      }
    },
    {
      "cell_type": "code",
      "source": [
        "device = torch.device(\"cuda:0\" if torch.cuda.is_available() else \"cpu\")"
      ],
      "metadata": {
        "id": "OTOYiTV6Z4pB"
      },
      "execution_count": 12,
      "outputs": []
    },
    {
      "cell_type": "markdown",
      "source": [
        "Podemos hacer operaciones con tensores y moverlas a dichos dispositivos para que aceleremos la ejecución de las operaciones"
      ],
      "metadata": {
        "id": "w3TzZmtuYSCv"
      }
    },
    {
      "cell_type": "code",
      "source": [
        "tensor_on_cpu = torch.randn(3, 3)\n",
        "tensor_on_gpu = tensor_on_cpu.to(device)\n",
        "\n",
        "# Cualquier operación que realicemos ahora sobre tensor_on_gpu se realizará en la GPU\n",
        "result = tensor_on_gpu + 1"
      ],
      "metadata": {
        "id": "kUs9cxDXYRjh"
      },
      "execution_count": 8,
      "outputs": []
    },
    {
      "cell_type": "markdown",
      "source": [
        "## ¿Qué puedo saber exáctamente sobre las GPUs del sistema?\n",
        "\n",
        "Si queremos saber exáctamente cómo se llaman todos nuestros dispositivos GPU, podemos hacer uso de este paquete: `GPUtil`"
      ],
      "metadata": {
        "id": "fLcA1dInY-cI"
      }
    },
    {
      "cell_type": "code",
      "source": [
        "!pip install gputil"
      ],
      "metadata": {
        "colab": {
          "base_uri": "https://localhost:8080/"
        },
        "id": "4ouzX8SjW70R",
        "outputId": "1540d6fd-bdbf-461d-93fc-b73c3c48d276"
      },
      "execution_count": 9,
      "outputs": [
        {
          "output_type": "stream",
          "name": "stdout",
          "text": [
            "Collecting gputil\n",
            "  Downloading GPUtil-1.4.0.tar.gz (5.5 kB)\n",
            "  Preparing metadata (setup.py) ... \u001b[?25l\u001b[?25hdone\n",
            "Building wheels for collected packages: gputil\n",
            "  Building wheel for gputil (setup.py) ... \u001b[?25l\u001b[?25hdone\n",
            "  Created wheel for gputil: filename=GPUtil-1.4.0-py3-none-any.whl size=7392 sha256=248dcf2b5607cc79c6f6c95b228a01ebc02b7eb1fb6a8f3fd754b4fa8eec9beb\n",
            "  Stored in directory: /root/.cache/pip/wheels/a9/8a/bd/81082387151853ab8b6b3ef33426e98f5cbfebc3c397a9d4d0\n",
            "Successfully built gputil\n",
            "Installing collected packages: gputil\n",
            "Successfully installed gputil-1.4.0\n"
          ]
        }
      ]
    },
    {
      "cell_type": "code",
      "source": [
        "import GPUtil\n",
        "\n",
        "# Obtiene una lista de todas las GPUs disponibles\n",
        "gpus = GPUtil.getGPUs()"
      ],
      "metadata": {
        "id": "FEe-UZttWqQ_"
      },
      "execution_count": 10,
      "outputs": []
    },
    {
      "cell_type": "code",
      "source": [
        "# Itera a través de las GPUs y obtén información\n",
        "for gpu in gpus:\n",
        "    print(f\"ID: {gpu.id}, Nombre: {gpu.name}, Utilización: {gpu.load * 100}%\")"
      ],
      "metadata": {
        "colab": {
          "base_uri": "https://localhost:8080/"
        },
        "id": "yIV0erI7XGmC",
        "outputId": "03248a3d-f4e2-4aeb-d6e5-85f2b3ca9e6b"
      },
      "execution_count": 11,
      "outputs": [
        {
          "output_type": "stream",
          "name": "stdout",
          "text": [
            "ID: 0, Nombre: Tesla T4, Utilización: 0.0%\n"
          ]
        }
      ]
    },
    {
      "cell_type": "markdown",
      "source": [
        "# Cargando Datos\n",
        "\n",
        "Para ello, vamos a descargar dos archivos de datos de dos orígenes diferentes: Google Drive y OneDrive, para que así tengáis disponibles varias opciones de compartir archivos.\n",
        "\n",
        "Ambos conjuntos de datos están sacados de competiciones de Kaggle:\n",
        "\n",
        "- La primera trata sobre [imágenes CT de regiones pectorales](https://www.kaggle.com/datasets/mohamedhanyyy/chest-ctscan-images)\n",
        "\n",
        "- La segunda trata sobre [detección de problemas en la columna vertebral mediante rayos X](https://www.kaggle.com/datasets/trainingdatapro/spine-x-ray)\n",
        "\n",
        "Veremos dos maneras de estructurar la información y por lo tanto dos maneras de recorrer la estructura de dichos datos"
      ],
      "metadata": {
        "id": "D7zSr0_5aK4O"
      }
    },
    {
      "cell_type": "code",
      "execution_count": 12,
      "metadata": {
        "id": "ijW-cwIF21NW",
        "colab": {
          "base_uri": "https://localhost:8080/"
        },
        "outputId": "0502395c-d97f-4e3b-a928-ddce7c4b5a0f"
      },
      "outputs": [
        {
          "output_type": "stream",
          "name": "stdout",
          "text": [
            "Requirement already satisfied: gdown in /usr/local/lib/python3.10/dist-packages (4.6.6)\n",
            "Requirement already satisfied: filelock in /usr/local/lib/python3.10/dist-packages (from gdown) (3.12.4)\n",
            "Requirement already satisfied: requests[socks] in /usr/local/lib/python3.10/dist-packages (from gdown) (2.31.0)\n",
            "Requirement already satisfied: six in /usr/local/lib/python3.10/dist-packages (from gdown) (1.16.0)\n",
            "Requirement already satisfied: tqdm in /usr/local/lib/python3.10/dist-packages (from gdown) (4.66.1)\n",
            "Requirement already satisfied: beautifulsoup4 in /usr/local/lib/python3.10/dist-packages (from gdown) (4.11.2)\n",
            "Requirement already satisfied: soupsieve>1.2 in /usr/local/lib/python3.10/dist-packages (from beautifulsoup4->gdown) (2.5)\n",
            "Requirement already satisfied: charset-normalizer<4,>=2 in /usr/local/lib/python3.10/dist-packages (from requests[socks]->gdown) (3.3.1)\n",
            "Requirement already satisfied: idna<4,>=2.5 in /usr/local/lib/python3.10/dist-packages (from requests[socks]->gdown) (3.4)\n",
            "Requirement already satisfied: urllib3<3,>=1.21.1 in /usr/local/lib/python3.10/dist-packages (from requests[socks]->gdown) (2.0.7)\n",
            "Requirement already satisfied: certifi>=2017.4.17 in /usr/local/lib/python3.10/dist-packages (from requests[socks]->gdown) (2023.7.22)\n",
            "Requirement already satisfied: PySocks!=1.5.7,>=1.5.6 in /usr/local/lib/python3.10/dist-packages (from requests[socks]->gdown) (1.7.1)\n",
            "Downloading...\n",
            "From: https://drive.google.com/uc?id=1buNH-AFE9Tf4wzQHhqzFfSmmIr3poFoK\n",
            "To: /content/Chest CT-Scan Images Dataset.zip\n",
            "100% 124M/124M [00:04<00:00, 26.6MB/s]\n",
            "Archive:  /content/Chest CT-Scan Images Dataset.zip\n",
            "  inflating: Data/test/adenocarcinoma/000108 (3).png  \n",
            "  inflating: Data/test/adenocarcinoma/000109 (2).png  \n",
            "  inflating: Data/test/adenocarcinoma/000109 (4).png  \n",
            "  inflating: Data/test/adenocarcinoma/000109 (5).png  \n",
            "  inflating: Data/test/adenocarcinoma/000112 (2).png  \n",
            "  inflating: Data/test/adenocarcinoma/000113 (7).png  \n",
            "  inflating: Data/test/adenocarcinoma/000114 (5).png  \n",
            "  inflating: Data/test/adenocarcinoma/000114.png  \n",
            "  inflating: Data/test/adenocarcinoma/000115 (4).png  \n",
            "  inflating: Data/test/adenocarcinoma/000115 (8).png  \n",
            "  inflating: Data/test/adenocarcinoma/000115.png  \n",
            "  inflating: Data/test/adenocarcinoma/000116 (5).png  \n",
            "  inflating: Data/test/adenocarcinoma/000116 (7).png  \n",
            "  inflating: Data/test/adenocarcinoma/000116 (9).png  \n",
            "  inflating: Data/test/adenocarcinoma/000117 (4).png  \n",
            "  inflating: Data/test/adenocarcinoma/000117 (8).png  \n",
            "  inflating: Data/test/adenocarcinoma/000117.png  \n",
            "  inflating: Data/test/adenocarcinoma/000118 (5).png  \n",
            "  inflating: Data/test/adenocarcinoma/000118 (7).png  \n",
            "  inflating: Data/test/adenocarcinoma/000119 (4).png  \n",
            "  inflating: Data/test/adenocarcinoma/000119 (5).png  \n",
            "  inflating: Data/test/adenocarcinoma/000119 (6).png  \n",
            "  inflating: Data/test/adenocarcinoma/000120.png  \n",
            "  inflating: Data/test/adenocarcinoma/000121 (6).png  \n",
            "  inflating: Data/test/adenocarcinoma/000121 (7).png  \n",
            "  inflating: Data/test/adenocarcinoma/000121.png  \n",
            "  inflating: Data/test/adenocarcinoma/000122 (4).png  \n",
            "  inflating: Data/test/adenocarcinoma/000122.png  \n",
            "  inflating: Data/test/adenocarcinoma/000123 (4).png  \n",
            "  inflating: Data/test/adenocarcinoma/000123 (6).png  \n",
            "  inflating: Data/test/adenocarcinoma/000123 (9).png  \n",
            "  inflating: Data/test/adenocarcinoma/000124 (6).png  \n",
            "  inflating: Data/test/adenocarcinoma/000124 (9).png  \n",
            "  inflating: Data/test/adenocarcinoma/000125 (2).png  \n",
            "  inflating: Data/test/adenocarcinoma/000125 (4).png  \n",
            "  inflating: Data/test/adenocarcinoma/000125 (5).png  \n",
            "  inflating: Data/test/adenocarcinoma/000125 (6).png  \n",
            "  inflating: Data/test/adenocarcinoma/000125 (8).png  \n",
            "  inflating: Data/test/adenocarcinoma/000126 (6).png  \n",
            "  inflating: Data/test/adenocarcinoma/000127 (5).png  \n",
            "  inflating: Data/test/adenocarcinoma/000128 (5).png  \n",
            "  inflating: Data/test/adenocarcinoma/000129 (5).png  \n",
            "  inflating: Data/test/adenocarcinoma/000129.png  \n",
            "  inflating: Data/test/adenocarcinoma/000130 (6).png  \n",
            "  inflating: Data/test/adenocarcinoma/000131 (2).png  \n",
            "  inflating: Data/test/adenocarcinoma/000132 (2).png  \n",
            "  inflating: Data/test/adenocarcinoma/000132 (7).png  \n",
            "  inflating: Data/test/adenocarcinoma/000132 (8).png  \n",
            "  inflating: Data/test/adenocarcinoma/000132.png  \n",
            "  inflating: Data/test/adenocarcinoma/000133 (2).png  \n",
            "  inflating: Data/test/adenocarcinoma/000133 (4).png  \n",
            "  inflating: Data/test/adenocarcinoma/000134 (2).png  \n",
            "  inflating: Data/test/adenocarcinoma/000134 (9).png  \n",
            "  inflating: Data/test/adenocarcinoma/000134.png  \n",
            "  inflating: Data/test/adenocarcinoma/000135 (5).png  \n",
            "  inflating: Data/test/adenocarcinoma/000136 (2).png  \n",
            "  inflating: Data/test/adenocarcinoma/000136 (8).png  \n",
            "  inflating: Data/test/adenocarcinoma/000137 (2).png  \n",
            "  inflating: Data/test/adenocarcinoma/000137 (4).png  \n",
            "  inflating: Data/test/adenocarcinoma/000137 (8).png  \n",
            "  inflating: Data/test/adenocarcinoma/000138 (6).png  \n",
            "  inflating: Data/test/adenocarcinoma/000138 (9).png  \n",
            "  inflating: Data/test/adenocarcinoma/000139 (5).png  \n",
            "  inflating: Data/test/adenocarcinoma/000139 (6).png  \n",
            "  inflating: Data/test/adenocarcinoma/000139 (8).png  \n",
            "  inflating: Data/test/adenocarcinoma/000139 (9).png  \n",
            "  inflating: Data/test/adenocarcinoma/000139.png  \n",
            "  inflating: Data/test/adenocarcinoma/000140.png  \n",
            "  inflating: Data/test/adenocarcinoma/000141 (2).png  \n",
            "  inflating: Data/test/adenocarcinoma/000142.png  \n",
            "  inflating: Data/test/adenocarcinoma/000143 (5).png  \n",
            "  inflating: Data/test/adenocarcinoma/000143 (6).png  \n",
            "  inflating: Data/test/adenocarcinoma/000144 (2).png  \n",
            "  inflating: Data/test/adenocarcinoma/000144 (5).png  \n",
            "  inflating: Data/test/adenocarcinoma/000145 (9).png  \n",
            "  inflating: Data/test/adenocarcinoma/000146 (3).png  \n",
            "  inflating: Data/test/adenocarcinoma/000146 (6).png  \n",
            "  inflating: Data/test/adenocarcinoma/000147.png  \n",
            "  inflating: Data/test/adenocarcinoma/000148 (3).png  \n",
            "  inflating: Data/test/adenocarcinoma/000148 (6).png  \n",
            "  inflating: Data/test/adenocarcinoma/000148 (8).png  \n",
            "  inflating: Data/test/adenocarcinoma/000148.png  \n",
            "  inflating: Data/test/adenocarcinoma/000149 (2).png  \n",
            "  inflating: Data/test/adenocarcinoma/000149 (4).png  \n",
            "  inflating: Data/test/adenocarcinoma/000149 (7).png  \n",
            "  inflating: Data/test/adenocarcinoma/000151 (5).png  \n",
            "  inflating: Data/test/adenocarcinoma/000153 (5).png  \n",
            "  inflating: Data/test/adenocarcinoma/000155 (4).png  \n",
            "  inflating: Data/test/adenocarcinoma/000155.png  \n",
            "  inflating: Data/test/adenocarcinoma/000156 (4).png  \n",
            "  inflating: Data/test/adenocarcinoma/000157 (5).png  \n",
            "  inflating: Data/test/adenocarcinoma/000157 (6).png  \n",
            "  inflating: Data/test/adenocarcinoma/000158 (2).png  \n",
            "  inflating: Data/test/adenocarcinoma/000158 (3).png  \n",
            "  inflating: Data/test/adenocarcinoma/000158 (5).png  \n",
            "  inflating: Data/test/adenocarcinoma/000158 (6).png  \n",
            "  inflating: Data/test/adenocarcinoma/000158.png  \n",
            "  inflating: Data/test/adenocarcinoma/000160 (4).png  \n",
            "  inflating: Data/test/adenocarcinoma/000160 (6).png  \n",
            "  inflating: Data/test/adenocarcinoma/000161 (4).png  \n",
            "  inflating: Data/test/adenocarcinoma/000161 (5).png  \n",
            "  inflating: Data/test/adenocarcinoma/000163 (3).png  \n",
            "  inflating: Data/test/adenocarcinoma/000163 (7).png  \n",
            "  inflating: Data/test/adenocarcinoma/000164 (5).png  \n",
            "  inflating: Data/test/adenocarcinoma/000165 (6).png  \n",
            "  inflating: Data/test/adenocarcinoma/000166 (2).png  \n",
            "  inflating: Data/test/adenocarcinoma/000166 (3).png  \n",
            "  inflating: Data/test/adenocarcinoma/000166 (4).png  \n",
            "  inflating: Data/test/adenocarcinoma/000167 (3).png  \n",
            "  inflating: Data/test/adenocarcinoma/000167 (8).png  \n",
            "  inflating: Data/test/adenocarcinoma/000168 (3).png  \n",
            "  inflating: Data/test/adenocarcinoma/000171 (5).png  \n",
            "  inflating: Data/test/adenocarcinoma/000171.png  \n",
            "  inflating: Data/test/adenocarcinoma/000172 (3).png  \n",
            "  inflating: Data/test/adenocarcinoma/000173 (5).png  \n",
            "  inflating: Data/test/adenocarcinoma/000173 (7).png  \n",
            "  inflating: Data/test/adenocarcinoma/000174 (4).png  \n",
            "  inflating: Data/test/adenocarcinoma/000176 (2).png  \n",
            "  inflating: Data/test/adenocarcinoma/000177 (4).png  \n",
            "  inflating: Data/test/adenocarcinoma/000177.png  \n",
            "  inflating: Data/test/large.cell.carcinoma/000108.png  \n",
            "  inflating: Data/test/large.cell.carcinoma/000110.png  \n",
            "  inflating: Data/test/large.cell.carcinoma/000111 (2).png  \n",
            "  inflating: Data/test/large.cell.carcinoma/000111.png  \n",
            "  inflating: Data/test/large.cell.carcinoma/000113 (2).png  \n",
            "  inflating: Data/test/large.cell.carcinoma/000113.png  \n",
            "  inflating: Data/test/large.cell.carcinoma/000114.png  \n",
            "  inflating: Data/test/large.cell.carcinoma/000115 (2).png  \n",
            "  inflating: Data/test/large.cell.carcinoma/000116.png  \n",
            "  inflating: Data/test/large.cell.carcinoma/000118.png  \n",
            "  inflating: Data/test/large.cell.carcinoma/000120.png  \n",
            "  inflating: Data/test/large.cell.carcinoma/000122.png  \n",
            "  inflating: Data/test/large.cell.carcinoma/000123.png  \n",
            "  inflating: Data/test/large.cell.carcinoma/000124 (2).png  \n",
            "  inflating: Data/test/large.cell.carcinoma/000126.png  \n",
            "  inflating: Data/test/large.cell.carcinoma/000127 (2).png  \n",
            "  inflating: Data/test/large.cell.carcinoma/000128 (2).png  \n",
            "  inflating: Data/test/large.cell.carcinoma/000128.png  \n",
            "  inflating: Data/test/large.cell.carcinoma/000130.png  \n",
            "  inflating: Data/test/large.cell.carcinoma/000131 (2).png  \n",
            "  inflating: Data/test/large.cell.carcinoma/000131.png  \n",
            "  inflating: Data/test/large.cell.carcinoma/000132 (2).png  \n",
            "  inflating: Data/test/large.cell.carcinoma/000133 (2).png  \n",
            "  inflating: Data/test/large.cell.carcinoma/000133.png  \n",
            "  inflating: Data/test/large.cell.carcinoma/000136 (2).png  \n",
            "  inflating: Data/test/large.cell.carcinoma/000137.png  \n",
            "  inflating: Data/test/large.cell.carcinoma/000138 (2).png  \n",
            "  inflating: Data/test/large.cell.carcinoma/000141.png  \n",
            "  inflating: Data/test/large.cell.carcinoma/000143.png  \n",
            "  inflating: Data/test/large.cell.carcinoma/000147 (2).png  \n",
            "  inflating: Data/test/large.cell.carcinoma/000148 (2).png  \n",
            "  inflating: Data/test/large.cell.carcinoma/000148.png  \n",
            "  inflating: Data/test/large.cell.carcinoma/000149.png  \n",
            "  inflating: Data/test/large.cell.carcinoma/000150.png  \n",
            "  inflating: Data/test/large.cell.carcinoma/000154 (2).png  \n",
            "  inflating: Data/test/large.cell.carcinoma/000154.png  \n",
            "  inflating: Data/test/large.cell.carcinoma/000155.png  \n",
            "  inflating: Data/test/large.cell.carcinoma/000158.png  \n",
            "  inflating: Data/test/large.cell.carcinoma/000159 (2).png  \n",
            "  inflating: Data/test/large.cell.carcinoma/000159.png  \n",
            "  inflating: Data/test/large.cell.carcinoma/000160.png  \n",
            "  inflating: Data/test/large.cell.carcinoma/000162.png  \n",
            "  inflating: Data/test/large.cell.carcinoma/000163.png  \n",
            "  inflating: Data/test/large.cell.carcinoma/000169.png  \n",
            "  inflating: Data/test/large.cell.carcinoma/000170.png  \n",
            "  inflating: Data/test/large.cell.carcinoma/000171.png  \n",
            "  inflating: Data/test/large.cell.carcinoma/000172 (2).png  \n",
            "  inflating: Data/test/large.cell.carcinoma/000172.png  \n",
            "  inflating: Data/test/large.cell.carcinoma/000173 (2).png  \n",
            "  inflating: Data/test/large.cell.carcinoma/000173.png  \n",
            "  inflating: Data/test/large.cell.carcinoma/000174.png  \n",
            "  inflating: Data/test/normal/10 (2) - Copy.png  \n",
            "  inflating: Data/test/normal/10 (2).png  \n",
            "  inflating: Data/test/normal/10 - Copy (2) - Copy.png  \n",
            "  inflating: Data/test/normal/10 - Copy (2).png  \n",
            "  inflating: Data/test/normal/10 - Copy (3).png  \n",
            "  inflating: Data/test/normal/10 - Copy - Copy.png  \n",
            "  inflating: Data/test/normal/10 - Copy.png  \n",
            "  inflating: Data/test/normal/10.png  \n",
            "  inflating: Data/test/normal/11 (2) - Copy.png  \n",
            "  inflating: Data/test/normal/11 (2).png  \n",
            "  inflating: Data/test/normal/11 - Copy (2) - Copy.png  \n",
            "  inflating: Data/test/normal/11 - Copy (2).png  \n",
            "  inflating: Data/test/normal/11 - Copy (3).png  \n",
            "  inflating: Data/test/normal/11 - Copy - Copy.png  \n",
            "  inflating: Data/test/normal/11 - Copy.png  \n",
            "  inflating: Data/test/normal/11.png  \n",
            "  inflating: Data/test/normal/12 (2) - Copy.png  \n",
            "  inflating: Data/test/normal/12 (2).png  \n",
            "  inflating: Data/test/normal/12 - Copy (2) - Copy.png  \n",
            "  inflating: Data/test/normal/12 - Copy (2).png  \n",
            "  inflating: Data/test/normal/12 - Copy (3).png  \n",
            "  inflating: Data/test/normal/12 - Copy - Copy.png  \n",
            "  inflating: Data/test/normal/12 - Copy.png  \n",
            "  inflating: Data/test/normal/21.png  \n",
            "  inflating: Data/test/normal/22.png  \n",
            "  inflating: Data/test/normal/23.png  \n",
            "  inflating: Data/test/normal/24 - Copy.png  \n",
            "  inflating: Data/test/normal/24.png  \n",
            "  inflating: Data/test/normal/25.png  \n",
            "  inflating: Data/test/normal/6 (2) - Copy.png  \n",
            "  inflating: Data/test/normal/6 (2).png  \n",
            "  inflating: Data/test/normal/6 - Copy (2) - Copy.png  \n",
            "  inflating: Data/test/normal/6 - Copy (2).png  \n",
            "  inflating: Data/test/normal/6 - Copy (3).png  \n",
            "  inflating: Data/test/normal/6 - Copy.png  \n",
            "  inflating: Data/test/normal/6.png  \n",
            "  inflating: Data/test/normal/7 (2) - Copy.png  \n",
            "  inflating: Data/test/normal/7 (2).png  \n",
            "  inflating: Data/test/normal/7 - Copy (2) - Copy.png  \n",
            "  inflating: Data/test/normal/7 - Copy (2).png  \n",
            "  inflating: Data/test/normal/7 - Copy (3).png  \n",
            "  inflating: Data/test/normal/7 - Copy - Copy.png  \n",
            "  inflating: Data/test/normal/7 - Copy.png  \n",
            "  inflating: Data/test/normal/7.png  \n",
            "  inflating: Data/test/normal/8 (2) - Copy.png  \n",
            "  inflating: Data/test/normal/8 (2).png  \n",
            "  inflating: Data/test/normal/8 - Copy (2) - Copy.png  \n",
            "  inflating: Data/test/normal/8 - Copy (2).png  \n",
            "  inflating: Data/test/normal/8 - Copy (3).png  \n",
            "  inflating: Data/test/normal/8 - Copy - Copy.png  \n",
            "  inflating: Data/test/normal/8 - Copy.png  \n",
            "  inflating: Data/test/normal/8.png  \n",
            "  inflating: Data/test/normal/normal - Copy.png  \n",
            "  inflating: Data/test/normal/normal.png  \n",
            "  inflating: Data/test/squamous.cell.carcinoma/000108 (6).png  \n",
            "  inflating: Data/test/squamous.cell.carcinoma/000110 (2).png  \n",
            "  inflating: Data/test/squamous.cell.carcinoma/000111.png  \n",
            "  inflating: Data/test/squamous.cell.carcinoma/000112.png  \n",
            "  inflating: Data/test/squamous.cell.carcinoma/000114 (2).png  \n",
            "  inflating: Data/test/squamous.cell.carcinoma/000114 (3).png  \n",
            "  inflating: Data/test/squamous.cell.carcinoma/000115 (4).png  \n",
            "  inflating: Data/test/squamous.cell.carcinoma/000115 (5).png  \n",
            "  inflating: Data/test/squamous.cell.carcinoma/000116 (5).png  \n",
            "  inflating: Data/test/squamous.cell.carcinoma/000117 (2).png  \n",
            "  inflating: Data/test/squamous.cell.carcinoma/000117 (3).png  \n",
            "  inflating: Data/test/squamous.cell.carcinoma/000117 (5).png  \n",
            "  inflating: Data/test/squamous.cell.carcinoma/000118 (3).png  \n",
            "  inflating: Data/test/squamous.cell.carcinoma/000118 (4).png  \n",
            "  inflating: Data/test/squamous.cell.carcinoma/000119 (4).png  \n",
            "  inflating: Data/test/squamous.cell.carcinoma/000119.png  \n",
            "  inflating: Data/test/squamous.cell.carcinoma/000120 (2).png  \n",
            "  inflating: Data/test/squamous.cell.carcinoma/000120 (3).png  \n",
            "  inflating: Data/test/squamous.cell.carcinoma/000120 (5).png  \n",
            "  inflating: Data/test/squamous.cell.carcinoma/000121 (5).png  \n",
            "  inflating: Data/test/squamous.cell.carcinoma/000121.png  \n",
            "  inflating: Data/test/squamous.cell.carcinoma/000122 (6).png  \n",
            "  inflating: Data/test/squamous.cell.carcinoma/000122.png  \n",
            "  inflating: Data/test/squamous.cell.carcinoma/000124 (4).png  \n",
            "  inflating: Data/test/squamous.cell.carcinoma/000124 (5).png  \n",
            "  inflating: Data/test/squamous.cell.carcinoma/000124.png  \n",
            "  inflating: Data/test/squamous.cell.carcinoma/000125 (2).png  \n",
            "  inflating: Data/test/squamous.cell.carcinoma/000125 (6).png  \n",
            "  inflating: Data/test/squamous.cell.carcinoma/000125.png  \n",
            "  inflating: Data/test/squamous.cell.carcinoma/000126 (4).png  \n",
            "  inflating: Data/test/squamous.cell.carcinoma/000127 (2).png  \n",
            "  inflating: Data/test/squamous.cell.carcinoma/000127 (6).png  \n",
            "  inflating: Data/test/squamous.cell.carcinoma/000127.png  \n",
            "  inflating: Data/test/squamous.cell.carcinoma/000129 (2).png  \n",
            "  inflating: Data/test/squamous.cell.carcinoma/000129 (6).png  \n",
            "  inflating: Data/test/squamous.cell.carcinoma/000130 (4).png  \n",
            "  inflating: Data/test/squamous.cell.carcinoma/000131 (6).png  \n",
            "  inflating: Data/test/squamous.cell.carcinoma/000132 (4).png  \n",
            "  inflating: Data/test/squamous.cell.carcinoma/000133 (2).png  \n",
            "  inflating: Data/test/squamous.cell.carcinoma/000133 (3).png  \n",
            "  inflating: Data/test/squamous.cell.carcinoma/000134 (5).png  \n",
            "  inflating: Data/test/squamous.cell.carcinoma/000135 (4).png  \n",
            "  inflating: Data/test/squamous.cell.carcinoma/000135.png  \n",
            "  inflating: Data/test/squamous.cell.carcinoma/000136 (4).png  \n",
            "  inflating: Data/test/squamous.cell.carcinoma/000136 (6).png  \n",
            "  inflating: Data/test/squamous.cell.carcinoma/000137 (3).png  \n",
            "  inflating: Data/test/squamous.cell.carcinoma/000137.png  \n",
            "  inflating: Data/test/squamous.cell.carcinoma/000139 (4).png  \n",
            "  inflating: Data/test/squamous.cell.carcinoma/000139 (5).png  \n",
            "  inflating: Data/test/squamous.cell.carcinoma/000139 (6).png  \n",
            "  inflating: Data/test/squamous.cell.carcinoma/000141 (2).png  \n",
            "  inflating: Data/test/squamous.cell.carcinoma/000141 (4).png  \n",
            "  inflating: Data/test/squamous.cell.carcinoma/000142 (5).png  \n",
            "  inflating: Data/test/squamous.cell.carcinoma/000142 (6).png  \n",
            "  inflating: Data/test/squamous.cell.carcinoma/000144 (5).png  \n",
            "  inflating: Data/test/squamous.cell.carcinoma/000145 (6).png  \n",
            "  inflating: Data/test/squamous.cell.carcinoma/000146 (6).png  \n",
            "  inflating: Data/test/squamous.cell.carcinoma/000148 (3).png  \n",
            "  inflating: Data/test/squamous.cell.carcinoma/000148 (4).png  \n",
            "  inflating: Data/test/squamous.cell.carcinoma/000149 (4).png  \n",
            "  inflating: Data/test/squamous.cell.carcinoma/000151 (6).png  \n",
            "  inflating: Data/test/squamous.cell.carcinoma/000151.png  \n",
            "  inflating: Data/test/squamous.cell.carcinoma/000153 (3).png  \n",
            "  inflating: Data/test/squamous.cell.carcinoma/000153 (4).png  \n",
            "  inflating: Data/test/squamous.cell.carcinoma/000153.png  \n",
            "  inflating: Data/test/squamous.cell.carcinoma/000154 (2).png  \n",
            "  inflating: Data/test/squamous.cell.carcinoma/000154 (3).png  \n",
            "  inflating: Data/test/squamous.cell.carcinoma/000154 (4).png  \n",
            "  inflating: Data/test/squamous.cell.carcinoma/000155 (3).png  \n",
            "  inflating: Data/test/squamous.cell.carcinoma/000155.png  \n",
            "  inflating: Data/test/squamous.cell.carcinoma/000156 (2).png  \n",
            "  inflating: Data/test/squamous.cell.carcinoma/000157 (6).png  \n",
            "  inflating: Data/test/squamous.cell.carcinoma/000158 (4).png  \n",
            "  inflating: Data/test/squamous.cell.carcinoma/000158 (6).png  \n",
            "  inflating: Data/test/squamous.cell.carcinoma/000159 (5).png  \n",
            "  inflating: Data/test/squamous.cell.carcinoma/000160 (4).png  \n",
            "  inflating: Data/test/squamous.cell.carcinoma/000162 (2).png  \n",
            "  inflating: Data/test/squamous.cell.carcinoma/000162.png  \n",
            "  inflating: Data/test/squamous.cell.carcinoma/000163 (4).png  \n",
            "  inflating: Data/test/squamous.cell.carcinoma/000163 (5).png  \n",
            "  inflating: Data/test/squamous.cell.carcinoma/000163 (6).png  \n",
            "  inflating: Data/test/squamous.cell.carcinoma/000164 (5).png  \n",
            "  inflating: Data/test/squamous.cell.carcinoma/000166 (4).png  \n",
            "  inflating: Data/test/squamous.cell.carcinoma/000167 (2).png  \n",
            "  inflating: Data/test/squamous.cell.carcinoma/000168 (2).png  \n",
            "  inflating: Data/test/squamous.cell.carcinoma/000169 (6).png  \n",
            "  inflating: Data/test/squamous.cell.carcinoma/000170 (2).png  \n",
            "  inflating: Data/test/squamous.cell.carcinoma/000172 (6).png  \n",
            "  inflating: Data/test/squamous.cell.carcinoma/000174 (3).png  \n",
            "  inflating: Data/test/squamous.cell.carcinoma/000177 (3).png  \n",
            "  inflating: Data/train/adenocarcinoma_left.lower.lobe_T2_N0_M0_Ib/000000 (6).png  \n",
            "  inflating: Data/train/adenocarcinoma_left.lower.lobe_T2_N0_M0_Ib/000005 (3).png  \n",
            "  inflating: Data/train/adenocarcinoma_left.lower.lobe_T2_N0_M0_Ib/000005 (9).png  \n",
            "  inflating: Data/train/adenocarcinoma_left.lower.lobe_T2_N0_M0_Ib/000008 (10).png  \n",
            "  inflating: Data/train/adenocarcinoma_left.lower.lobe_T2_N0_M0_Ib/000009 (3).png  \n",
            "  inflating: Data/train/adenocarcinoma_left.lower.lobe_T2_N0_M0_Ib/000009 (7).png  \n",
            "  inflating: Data/train/adenocarcinoma_left.lower.lobe_T2_N0_M0_Ib/000013 (4).png  \n",
            "  inflating: Data/train/adenocarcinoma_left.lower.lobe_T2_N0_M0_Ib/000013 (8).png  \n",
            "  inflating: Data/train/adenocarcinoma_left.lower.lobe_T2_N0_M0_Ib/000014 (7).png  \n",
            "  inflating: Data/train/adenocarcinoma_left.lower.lobe_T2_N0_M0_Ib/000015 (10).png  \n",
            "  inflating: Data/train/adenocarcinoma_left.lower.lobe_T2_N0_M0_Ib/000015 (4).png  \n",
            "  inflating: Data/train/adenocarcinoma_left.lower.lobe_T2_N0_M0_Ib/000015 (9).png  \n",
            "  inflating: Data/train/adenocarcinoma_left.lower.lobe_T2_N0_M0_Ib/000016 (9).png  \n",
            "  inflating: Data/train/adenocarcinoma_left.lower.lobe_T2_N0_M0_Ib/000017 (6).png  \n",
            "  inflating: Data/train/adenocarcinoma_left.lower.lobe_T2_N0_M0_Ib/000017 (8).png  \n",
            "  inflating: Data/train/adenocarcinoma_left.lower.lobe_T2_N0_M0_Ib/000018 (5).png  \n",
            "  inflating: Data/train/adenocarcinoma_left.lower.lobe_T2_N0_M0_Ib/000019 (5).png  \n",
            "  inflating: Data/train/adenocarcinoma_left.lower.lobe_T2_N0_M0_Ib/000020 (10).png  \n",
            "  inflating: Data/train/adenocarcinoma_left.lower.lobe_T2_N0_M0_Ib/000020 (5).png  \n",
            "  inflating: Data/train/adenocarcinoma_left.lower.lobe_T2_N0_M0_Ib/000020 (6).png  \n",
            "  inflating: Data/train/adenocarcinoma_left.lower.lobe_T2_N0_M0_Ib/000021 (3).png  \n",
            "  inflating: Data/train/adenocarcinoma_left.lower.lobe_T2_N0_M0_Ib/000021 (4).png  \n",
            "  inflating: Data/train/adenocarcinoma_left.lower.lobe_T2_N0_M0_Ib/000021 (5).png  \n",
            "  inflating: Data/train/adenocarcinoma_left.lower.lobe_T2_N0_M0_Ib/000021 (6).png  \n",
            "  inflating: Data/train/adenocarcinoma_left.lower.lobe_T2_N0_M0_Ib/000021 (8).png  \n",
            "  inflating: Data/train/adenocarcinoma_left.lower.lobe_T2_N0_M0_Ib/000022 (10).png  \n",
            "  inflating: Data/train/adenocarcinoma_left.lower.lobe_T2_N0_M0_Ib/000022 (2).png  \n",
            "  inflating: Data/train/adenocarcinoma_left.lower.lobe_T2_N0_M0_Ib/000022 (8).png  \n",
            "  inflating: Data/train/adenocarcinoma_left.lower.lobe_T2_N0_M0_Ib/000022 (9).png  \n",
            "  inflating: Data/train/adenocarcinoma_left.lower.lobe_T2_N0_M0_Ib/000022.png  \n",
            "  inflating: Data/train/adenocarcinoma_left.lower.lobe_T2_N0_M0_Ib/000023 (10).png  \n",
            "  inflating: Data/train/adenocarcinoma_left.lower.lobe_T2_N0_M0_Ib/000023 (5).png  \n",
            "  inflating: Data/train/adenocarcinoma_left.lower.lobe_T2_N0_M0_Ib/000023 (7).png  \n",
            "  inflating: Data/train/adenocarcinoma_left.lower.lobe_T2_N0_M0_Ib/000023 (9).png  \n",
            "  inflating: Data/train/adenocarcinoma_left.lower.lobe_T2_N0_M0_Ib/000024 (10).png  \n",
            "  inflating: Data/train/adenocarcinoma_left.lower.lobe_T2_N0_M0_Ib/000024 (6).png  \n",
            "  inflating: Data/train/adenocarcinoma_left.lower.lobe_T2_N0_M0_Ib/000024 (7).png  \n",
            "  inflating: Data/train/adenocarcinoma_left.lower.lobe_T2_N0_M0_Ib/000024.png  \n",
            "  inflating: Data/train/adenocarcinoma_left.lower.lobe_T2_N0_M0_Ib/000025 (6).png  \n",
            "  inflating: Data/train/adenocarcinoma_left.lower.lobe_T2_N0_M0_Ib/000026 (10).png  \n",
            "  inflating: Data/train/adenocarcinoma_left.lower.lobe_T2_N0_M0_Ib/000026 (3).png  \n",
            "  inflating: Data/train/adenocarcinoma_left.lower.lobe_T2_N0_M0_Ib/000027 (4).png  \n",
            "  inflating: Data/train/adenocarcinoma_left.lower.lobe_T2_N0_M0_Ib/000027 (6).png  \n",
            "  inflating: Data/train/adenocarcinoma_left.lower.lobe_T2_N0_M0_Ib/000029 (4).png  \n",
            "  inflating: Data/train/adenocarcinoma_left.lower.lobe_T2_N0_M0_Ib/000029 (5).png  \n",
            "  inflating: Data/train/adenocarcinoma_left.lower.lobe_T2_N0_M0_Ib/000029 (9).png  \n",
            "  inflating: Data/train/adenocarcinoma_left.lower.lobe_T2_N0_M0_Ib/000030 (4).png  \n",
            "  inflating: Data/train/adenocarcinoma_left.lower.lobe_T2_N0_M0_Ib/000031 (3).png  \n",
            "  inflating: Data/train/adenocarcinoma_left.lower.lobe_T2_N0_M0_Ib/000032 (8).png  \n",
            "  inflating: Data/train/adenocarcinoma_left.lower.lobe_T2_N0_M0_Ib/000033 (9).png  \n",
            "  inflating: Data/train/adenocarcinoma_left.lower.lobe_T2_N0_M0_Ib/000034 (6).png  \n",
            "  inflating: Data/train/adenocarcinoma_left.lower.lobe_T2_N0_M0_Ib/000035 (4).png  \n",
            "  inflating: Data/train/adenocarcinoma_left.lower.lobe_T2_N0_M0_Ib/000035 (5).png  \n",
            "  inflating: Data/train/adenocarcinoma_left.lower.lobe_T2_N0_M0_Ib/000035 (6).png  \n",
            "  inflating: Data/train/adenocarcinoma_left.lower.lobe_T2_N0_M0_Ib/000035 (8).png  \n",
            "  inflating: Data/train/adenocarcinoma_left.lower.lobe_T2_N0_M0_Ib/000036 (6).png  \n",
            "  inflating: Data/train/adenocarcinoma_left.lower.lobe_T2_N0_M0_Ib/000036 (7).png  \n",
            "  inflating: Data/train/adenocarcinoma_left.lower.lobe_T2_N0_M0_Ib/000040 (10).png  \n",
            "  inflating: Data/train/adenocarcinoma_left.lower.lobe_T2_N0_M0_Ib/000040 (3).png  \n",
            "  inflating: Data/train/adenocarcinoma_left.lower.lobe_T2_N0_M0_Ib/000040 (5).png  \n",
            "  inflating: Data/train/adenocarcinoma_left.lower.lobe_T2_N0_M0_Ib/000041 (2).png  \n",
            "  inflating: Data/train/adenocarcinoma_left.lower.lobe_T2_N0_M0_Ib/000041 (4).png  \n",
            "  inflating: Data/train/adenocarcinoma_left.lower.lobe_T2_N0_M0_Ib/000041 (7).png  \n",
            "  inflating: Data/train/adenocarcinoma_left.lower.lobe_T2_N0_M0_Ib/000041 (8).png  \n",
            "  inflating: Data/train/adenocarcinoma_left.lower.lobe_T2_N0_M0_Ib/000042 (10).png  \n",
            "  inflating: Data/train/adenocarcinoma_left.lower.lobe_T2_N0_M0_Ib/000044 (10).png  \n",
            "  inflating: Data/train/adenocarcinoma_left.lower.lobe_T2_N0_M0_Ib/000044 (9).png  \n",
            "  inflating: Data/train/adenocarcinoma_left.lower.lobe_T2_N0_M0_Ib/000046 (5).png  \n",
            "  inflating: Data/train/adenocarcinoma_left.lower.lobe_T2_N0_M0_Ib/000048 (8).png  \n",
            "  inflating: Data/train/adenocarcinoma_left.lower.lobe_T2_N0_M0_Ib/000048.png  \n",
            "  inflating: Data/train/adenocarcinoma_left.lower.lobe_T2_N0_M0_Ib/000049 (5).png  \n",
            "  inflating: Data/train/adenocarcinoma_left.lower.lobe_T2_N0_M0_Ib/000049 (9).png  \n",
            "  inflating: Data/train/adenocarcinoma_left.lower.lobe_T2_N0_M0_Ib/000050 (3).png  \n",
            "  inflating: Data/train/adenocarcinoma_left.lower.lobe_T2_N0_M0_Ib/000050 (5).png  \n",
            "  inflating: Data/train/adenocarcinoma_left.lower.lobe_T2_N0_M0_Ib/000050 (7).png  \n",
            "  inflating: Data/train/adenocarcinoma_left.lower.lobe_T2_N0_M0_Ib/000050 (8).png  \n",
            "  inflating: Data/train/adenocarcinoma_left.lower.lobe_T2_N0_M0_Ib/000051 (3).png  \n",
            "  inflating: Data/train/adenocarcinoma_left.lower.lobe_T2_N0_M0_Ib/000051 (4).png  \n",
            "  inflating: Data/train/adenocarcinoma_left.lower.lobe_T2_N0_M0_Ib/000052 (10).png  \n",
            "  inflating: Data/train/adenocarcinoma_left.lower.lobe_T2_N0_M0_Ib/000054 (5).png  \n",
            "  inflating: Data/train/adenocarcinoma_left.lower.lobe_T2_N0_M0_Ib/000054 (6).png  \n",
            "  inflating: Data/train/adenocarcinoma_left.lower.lobe_T2_N0_M0_Ib/000054 (7).png  \n",
            "  inflating: Data/train/adenocarcinoma_left.lower.lobe_T2_N0_M0_Ib/000054.png  \n",
            "  inflating: Data/train/adenocarcinoma_left.lower.lobe_T2_N0_M0_Ib/000055 (2).png  \n",
            "  inflating: Data/train/adenocarcinoma_left.lower.lobe_T2_N0_M0_Ib/000056 (7).png  \n",
            "  inflating: Data/train/adenocarcinoma_left.lower.lobe_T2_N0_M0_Ib/000057 (2).png  \n",
            "  inflating: Data/train/adenocarcinoma_left.lower.lobe_T2_N0_M0_Ib/000057.png  \n",
            "  inflating: Data/train/adenocarcinoma_left.lower.lobe_T2_N0_M0_Ib/000058 (4).png  \n",
            "  inflating: Data/train/adenocarcinoma_left.lower.lobe_T2_N0_M0_Ib/000058 (5).png  \n",
            "  inflating: Data/train/adenocarcinoma_left.lower.lobe_T2_N0_M0_Ib/000059 (7).png  \n",
            "  inflating: Data/train/adenocarcinoma_left.lower.lobe_T2_N0_M0_Ib/000061.png  \n",
            "  inflating: Data/train/adenocarcinoma_left.lower.lobe_T2_N0_M0_Ib/000063 (3).png  \n",
            "  inflating: Data/train/adenocarcinoma_left.lower.lobe_T2_N0_M0_Ib/000063 (5).png  \n",
            "  inflating: Data/train/adenocarcinoma_left.lower.lobe_T2_N0_M0_Ib/000063 (7).png  \n",
            "  inflating: Data/train/adenocarcinoma_left.lower.lobe_T2_N0_M0_Ib/000065 (3).png  \n",
            "  inflating: Data/train/adenocarcinoma_left.lower.lobe_T2_N0_M0_Ib/000065 (8).png  \n",
            "  inflating: Data/train/adenocarcinoma_left.lower.lobe_T2_N0_M0_Ib/000065 (9).png  \n",
            "  inflating: Data/train/adenocarcinoma_left.lower.lobe_T2_N0_M0_Ib/000066 (10).png  \n",
            "  inflating: Data/train/adenocarcinoma_left.lower.lobe_T2_N0_M0_Ib/000066 (9).png  \n",
            "  inflating: Data/train/adenocarcinoma_left.lower.lobe_T2_N0_M0_Ib/000067 (10).png  \n",
            "  inflating: Data/train/adenocarcinoma_left.lower.lobe_T2_N0_M0_Ib/000067.png  \n",
            "  inflating: Data/train/adenocarcinoma_left.lower.lobe_T2_N0_M0_Ib/000068 (10).png  \n",
            "  inflating: Data/train/adenocarcinoma_left.lower.lobe_T2_N0_M0_Ib/000068 (3).png  \n",
            "  inflating: Data/train/adenocarcinoma_left.lower.lobe_T2_N0_M0_Ib/000068 (9).png  \n",
            "  inflating: Data/train/adenocarcinoma_left.lower.lobe_T2_N0_M0_Ib/000069 (6).png  \n",
            "  inflating: Data/train/adenocarcinoma_left.lower.lobe_T2_N0_M0_Ib/000071 (3).png  \n",
            "  inflating: Data/train/adenocarcinoma_left.lower.lobe_T2_N0_M0_Ib/000072 (10).png  \n",
            "  inflating: Data/train/adenocarcinoma_left.lower.lobe_T2_N0_M0_Ib/000074 (5).png  \n",
            "  inflating: Data/train/adenocarcinoma_left.lower.lobe_T2_N0_M0_Ib/000075 (5).png  \n",
            "  inflating: Data/train/adenocarcinoma_left.lower.lobe_T2_N0_M0_Ib/000077 (6).png  \n",
            "  inflating: Data/train/adenocarcinoma_left.lower.lobe_T2_N0_M0_Ib/000077 (9).png  \n",
            "  inflating: Data/train/adenocarcinoma_left.lower.lobe_T2_N0_M0_Ib/000078 (6).png  \n",
            "  inflating: Data/train/adenocarcinoma_left.lower.lobe_T2_N0_M0_Ib/000079 (6).png  \n",
            "  inflating: Data/train/adenocarcinoma_left.lower.lobe_T2_N0_M0_Ib/000080 (10).png  \n",
            "  inflating: Data/train/adenocarcinoma_left.lower.lobe_T2_N0_M0_Ib/000080 (6).png  \n",
            "  inflating: Data/train/adenocarcinoma_left.lower.lobe_T2_N0_M0_Ib/000081 (2).png  \n",
            "  inflating: Data/train/adenocarcinoma_left.lower.lobe_T2_N0_M0_Ib/000083 (3).png  \n",
            "  inflating: Data/train/adenocarcinoma_left.lower.lobe_T2_N0_M0_Ib/000083 (6).png  \n",
            "  inflating: Data/train/adenocarcinoma_left.lower.lobe_T2_N0_M0_Ib/000084 (2).png  \n",
            "  inflating: Data/train/adenocarcinoma_left.lower.lobe_T2_N0_M0_Ib/000084 (3).png  \n",
            "  inflating: Data/train/adenocarcinoma_left.lower.lobe_T2_N0_M0_Ib/000084 (7).png  \n",
            "  inflating: Data/train/adenocarcinoma_left.lower.lobe_T2_N0_M0_Ib/000084.png  \n",
            "  inflating: Data/train/adenocarcinoma_left.lower.lobe_T2_N0_M0_Ib/000085 (10).png  \n",
            "  inflating: Data/train/adenocarcinoma_left.lower.lobe_T2_N0_M0_Ib/000085 (4).png  \n",
            "  inflating: Data/train/adenocarcinoma_left.lower.lobe_T2_N0_M0_Ib/000085 (7).png  \n",
            "  inflating: Data/train/adenocarcinoma_left.lower.lobe_T2_N0_M0_Ib/000086 (3).png  \n",
            "  inflating: Data/train/adenocarcinoma_left.lower.lobe_T2_N0_M0_Ib/000086 (8).png  \n",
            "  inflating: Data/train/adenocarcinoma_left.lower.lobe_T2_N0_M0_Ib/000087 (4).png  \n",
            "  inflating: Data/train/adenocarcinoma_left.lower.lobe_T2_N0_M0_Ib/000087 (8).png  \n",
            "  inflating: Data/train/adenocarcinoma_left.lower.lobe_T2_N0_M0_Ib/000089 (8).png  \n",
            "  inflating: Data/train/adenocarcinoma_left.lower.lobe_T2_N0_M0_Ib/000090 (2).png  \n",
            "  inflating: Data/train/adenocarcinoma_left.lower.lobe_T2_N0_M0_Ib/000091 (3).png  \n",
            "  inflating: Data/train/adenocarcinoma_left.lower.lobe_T2_N0_M0_Ib/000091 (7).png  \n",
            "  inflating: Data/train/adenocarcinoma_left.lower.lobe_T2_N0_M0_Ib/000091.png  \n",
            "  inflating: Data/train/adenocarcinoma_left.lower.lobe_T2_N0_M0_Ib/000092 (10).png  \n",
            "  inflating: Data/train/adenocarcinoma_left.lower.lobe_T2_N0_M0_Ib/000093 (10).png  \n",
            "  inflating: Data/train/adenocarcinoma_left.lower.lobe_T2_N0_M0_Ib/000093 (4).png  \n",
            "  inflating: Data/train/adenocarcinoma_left.lower.lobe_T2_N0_M0_Ib/000093 (6).png  \n",
            "  inflating: Data/train/adenocarcinoma_left.lower.lobe_T2_N0_M0_Ib/000095 (6).png  \n",
            "  inflating: Data/train/adenocarcinoma_left.lower.lobe_T2_N0_M0_Ib/000095.png  \n",
            "  inflating: Data/train/adenocarcinoma_left.lower.lobe_T2_N0_M0_Ib/000096 (7).png  \n",
            "  inflating: Data/train/adenocarcinoma_left.lower.lobe_T2_N0_M0_Ib/000097 (10).png  \n",
            "  inflating: Data/train/adenocarcinoma_left.lower.lobe_T2_N0_M0_Ib/000097 (2).png  \n",
            "  inflating: Data/train/adenocarcinoma_left.lower.lobe_T2_N0_M0_Ib/000097 (3).png  \n",
            "  inflating: Data/train/adenocarcinoma_left.lower.lobe_T2_N0_M0_Ib/000098 (5).png  \n",
            "  inflating: Data/train/adenocarcinoma_left.lower.lobe_T2_N0_M0_Ib/000098 (8).png  \n",
            "  inflating: Data/train/adenocarcinoma_left.lower.lobe_T2_N0_M0_Ib/000099 (7).png  \n",
            "  inflating: Data/train/adenocarcinoma_left.lower.lobe_T2_N0_M0_Ib/000100 (10).png  \n",
            "  inflating: Data/train/adenocarcinoma_left.lower.lobe_T2_N0_M0_Ib/000101 (7).png  \n",
            "  inflating: Data/train/adenocarcinoma_left.lower.lobe_T2_N0_M0_Ib/000102 (2).png  \n",
            "  inflating: Data/train/adenocarcinoma_left.lower.lobe_T2_N0_M0_Ib/000102 (3).png  \n",
            "  inflating: Data/train/adenocarcinoma_left.lower.lobe_T2_N0_M0_Ib/000102 (7).png  \n",
            "  inflating: Data/train/adenocarcinoma_left.lower.lobe_T2_N0_M0_Ib/000102.png  \n",
            "  inflating: Data/train/adenocarcinoma_left.lower.lobe_T2_N0_M0_Ib/000103 (9).png  \n",
            "  inflating: Data/train/adenocarcinoma_left.lower.lobe_T2_N0_M0_Ib/000104 (10).png  \n",
            "  inflating: Data/train/adenocarcinoma_left.lower.lobe_T2_N0_M0_Ib/000104 (4).png  \n",
            "  inflating: Data/train/adenocarcinoma_left.lower.lobe_T2_N0_M0_Ib/000105 (3).png  \n",
            "  inflating: Data/train/adenocarcinoma_left.lower.lobe_T2_N0_M0_Ib/000105 (4).png  \n",
            "  inflating: Data/train/adenocarcinoma_left.lower.lobe_T2_N0_M0_Ib/000105.png  \n",
            "  inflating: Data/train/adenocarcinoma_left.lower.lobe_T2_N0_M0_Ib/000106 (10).png  \n",
            "  inflating: Data/train/adenocarcinoma_left.lower.lobe_T2_N0_M0_Ib/000106 (4).png  \n",
            "  inflating: Data/train/adenocarcinoma_left.lower.lobe_T2_N0_M0_Ib/000106 (8).png  \n",
            "  inflating: Data/train/adenocarcinoma_left.lower.lobe_T2_N0_M0_Ib/000107 (9).png  \n",
            "  inflating: Data/train/adenocarcinoma_left.lower.lobe_T2_N0_M0_Ib/000118 (4).png  \n",
            "  inflating: Data/train/adenocarcinoma_left.lower.lobe_T2_N0_M0_Ib/000118 (6).png  \n",
            "  inflating: Data/train/adenocarcinoma_left.lower.lobe_T2_N0_M0_Ib/000119 (10).png  \n",
            "  inflating: Data/train/adenocarcinoma_left.lower.lobe_T2_N0_M0_Ib/000119 (4).png  \n",
            "  inflating: Data/train/adenocarcinoma_left.lower.lobe_T2_N0_M0_Ib/000119 (5).png  \n",
            "  inflating: Data/train/adenocarcinoma_left.lower.lobe_T2_N0_M0_Ib/000119 (6).png  \n",
            "  inflating: Data/train/adenocarcinoma_left.lower.lobe_T2_N0_M0_Ib/000121 (10).png  \n",
            "  inflating: Data/train/adenocarcinoma_left.lower.lobe_T2_N0_M0_Ib/000121 (9).png  \n",
            "  inflating: Data/train/adenocarcinoma_left.lower.lobe_T2_N0_M0_Ib/000121.png  \n",
            "  inflating: Data/train/adenocarcinoma_left.lower.lobe_T2_N0_M0_Ib/000122.png  \n",
            "  inflating: Data/train/adenocarcinoma_left.lower.lobe_T2_N0_M0_Ib/ad1.png  \n",
            "  inflating: Data/train/adenocarcinoma_left.lower.lobe_T2_N0_M0_Ib/ad10.png  \n",
            "  inflating: Data/train/adenocarcinoma_left.lower.lobe_T2_N0_M0_Ib/ad11.png  \n",
            "  inflating: Data/train/adenocarcinoma_left.lower.lobe_T2_N0_M0_Ib/ad12.png  \n",
            "  inflating: Data/train/adenocarcinoma_left.lower.lobe_T2_N0_M0_Ib/ad13.png  \n",
            "  inflating: Data/train/adenocarcinoma_left.lower.lobe_T2_N0_M0_Ib/ad14.png  \n",
            "  inflating: Data/train/adenocarcinoma_left.lower.lobe_T2_N0_M0_Ib/ad15.png  \n",
            "  inflating: Data/train/adenocarcinoma_left.lower.lobe_T2_N0_M0_Ib/ad16.png  \n",
            "  inflating: Data/train/adenocarcinoma_left.lower.lobe_T2_N0_M0_Ib/ad17.png  \n",
            "  inflating: Data/train/adenocarcinoma_left.lower.lobe_T2_N0_M0_Ib/ad18.png  \n",
            "  inflating: Data/train/adenocarcinoma_left.lower.lobe_T2_N0_M0_Ib/ad19.png  \n",
            "  inflating: Data/train/adenocarcinoma_left.lower.lobe_T2_N0_M0_Ib/ad2.png  \n",
            "  inflating: Data/train/adenocarcinoma_left.lower.lobe_T2_N0_M0_Ib/ad20.png  \n",
            "  inflating: Data/train/adenocarcinoma_left.lower.lobe_T2_N0_M0_Ib/ad21.png  \n",
            "  inflating: Data/train/adenocarcinoma_left.lower.lobe_T2_N0_M0_Ib/ad22.png  \n",
            "  inflating: Data/train/adenocarcinoma_left.lower.lobe_T2_N0_M0_Ib/ad3.png  \n",
            "  inflating: Data/train/adenocarcinoma_left.lower.lobe_T2_N0_M0_Ib/ad4.png  \n",
            "  inflating: Data/train/adenocarcinoma_left.lower.lobe_T2_N0_M0_Ib/ad5.png  \n",
            "  inflating: Data/train/adenocarcinoma_left.lower.lobe_T2_N0_M0_Ib/ad6.png  \n",
            "  inflating: Data/train/adenocarcinoma_left.lower.lobe_T2_N0_M0_Ib/ad7.png  \n",
            "  inflating: Data/train/adenocarcinoma_left.lower.lobe_T2_N0_M0_Ib/ad8.png  \n",
            "  inflating: Data/train/adenocarcinoma_left.lower.lobe_T2_N0_M0_Ib/ad9.png  \n",
            "  inflating: Data/train/large.cell.carcinoma_left.hilum_T2_N2_M0_IIIa/000002.png  \n",
            "  inflating: Data/train/large.cell.carcinoma_left.hilum_T2_N2_M0_IIIa/000003 (3).png  \n",
            "  inflating: Data/train/large.cell.carcinoma_left.hilum_T2_N2_M0_IIIa/000003 (4).png  \n",
            "  inflating: Data/train/large.cell.carcinoma_left.hilum_T2_N2_M0_IIIa/000009 (3).png  \n",
            "  inflating: Data/train/large.cell.carcinoma_left.hilum_T2_N2_M0_IIIa/000009 (4).png  \n",
            "  inflating: Data/train/large.cell.carcinoma_left.hilum_T2_N2_M0_IIIa/000010.png  \n",
            "  inflating: Data/train/large.cell.carcinoma_left.hilum_T2_N2_M0_IIIa/000015.png  \n",
            "  inflating: Data/train/large.cell.carcinoma_left.hilum_T2_N2_M0_IIIa/000016 (3).png  \n",
            "  inflating: Data/train/large.cell.carcinoma_left.hilum_T2_N2_M0_IIIa/000016 (4).png  \n",
            "  inflating: Data/train/large.cell.carcinoma_left.hilum_T2_N2_M0_IIIa/000017.png  \n",
            "  inflating: Data/train/large.cell.carcinoma_left.hilum_T2_N2_M0_IIIa/000018 (2).png  \n",
            "  inflating: Data/train/large.cell.carcinoma_left.hilum_T2_N2_M0_IIIa/000019 (3).png  \n",
            "  inflating: Data/train/large.cell.carcinoma_left.hilum_T2_N2_M0_IIIa/000019 (4).png  \n",
            "  inflating: Data/train/large.cell.carcinoma_left.hilum_T2_N2_M0_IIIa/000020 (3).png  \n",
            "  inflating: Data/train/large.cell.carcinoma_left.hilum_T2_N2_M0_IIIa/000020 (4).png  \n",
            "  inflating: Data/train/large.cell.carcinoma_left.hilum_T2_N2_M0_IIIa/000021.png  \n",
            "  inflating: Data/train/large.cell.carcinoma_left.hilum_T2_N2_M0_IIIa/000023 (2).png  \n",
            "  inflating: Data/train/large.cell.carcinoma_left.hilum_T2_N2_M0_IIIa/000024 (2).png  \n",
            "  inflating: Data/train/large.cell.carcinoma_left.hilum_T2_N2_M0_IIIa/000026 (2).png  \n",
            "  inflating: Data/train/large.cell.carcinoma_left.hilum_T2_N2_M0_IIIa/000026.png  \n",
            "  inflating: Data/train/large.cell.carcinoma_left.hilum_T2_N2_M0_IIIa/000027 (2).png  \n",
            "  inflating: Data/train/large.cell.carcinoma_left.hilum_T2_N2_M0_IIIa/000027.png  \n",
            "  inflating: Data/train/large.cell.carcinoma_left.hilum_T2_N2_M0_IIIa/000031 (2).png  \n",
            "  inflating: Data/train/large.cell.carcinoma_left.hilum_T2_N2_M0_IIIa/000031.png  \n",
            "  inflating: Data/train/large.cell.carcinoma_left.hilum_T2_N2_M0_IIIa/000032.png  \n",
            "  inflating: Data/train/large.cell.carcinoma_left.hilum_T2_N2_M0_IIIa/000033 (3).png  \n",
            "  inflating: Data/train/large.cell.carcinoma_left.hilum_T2_N2_M0_IIIa/000033 (4).png  \n",
            "  inflating: Data/train/large.cell.carcinoma_left.hilum_T2_N2_M0_IIIa/000034 (2).png  \n",
            "  inflating: Data/train/large.cell.carcinoma_left.hilum_T2_N2_M0_IIIa/000039 (3).png  \n",
            "  inflating: Data/train/large.cell.carcinoma_left.hilum_T2_N2_M0_IIIa/000039 (4).png  \n",
            "  inflating: Data/train/large.cell.carcinoma_left.hilum_T2_N2_M0_IIIa/000040 (2).png  \n",
            "  inflating: Data/train/large.cell.carcinoma_left.hilum_T2_N2_M0_IIIa/000041 (3).png  \n",
            "  inflating: Data/train/large.cell.carcinoma_left.hilum_T2_N2_M0_IIIa/000041 (4).png  \n",
            "  inflating: Data/train/large.cell.carcinoma_left.hilum_T2_N2_M0_IIIa/000041.png  \n",
            "  inflating: Data/train/large.cell.carcinoma_left.hilum_T2_N2_M0_IIIa/000042 (2).png  \n",
            "  inflating: Data/train/large.cell.carcinoma_left.hilum_T2_N2_M0_IIIa/000043 (2).png  \n",
            "  inflating: Data/train/large.cell.carcinoma_left.hilum_T2_N2_M0_IIIa/000045.png  \n",
            "  inflating: Data/train/large.cell.carcinoma_left.hilum_T2_N2_M0_IIIa/000046.png  \n",
            "  inflating: Data/train/large.cell.carcinoma_left.hilum_T2_N2_M0_IIIa/000047 (2).png  \n",
            "  inflating: Data/train/large.cell.carcinoma_left.hilum_T2_N2_M0_IIIa/000051.png  \n",
            "  inflating: Data/train/large.cell.carcinoma_left.hilum_T2_N2_M0_IIIa/000055 (3).png  \n",
            "  inflating: Data/train/large.cell.carcinoma_left.hilum_T2_N2_M0_IIIa/000055 (4).png  \n",
            "  inflating: Data/train/large.cell.carcinoma_left.hilum_T2_N2_M0_IIIa/000055.png  \n",
            "  inflating: Data/train/large.cell.carcinoma_left.hilum_T2_N2_M0_IIIa/000056 (3).png  \n",
            "  inflating: Data/train/large.cell.carcinoma_left.hilum_T2_N2_M0_IIIa/000056 (4).png  \n",
            "  inflating: Data/train/large.cell.carcinoma_left.hilum_T2_N2_M0_IIIa/000057 (3).png  \n",
            "  inflating: Data/train/large.cell.carcinoma_left.hilum_T2_N2_M0_IIIa/000057 (4).png  \n",
            "  inflating: Data/train/large.cell.carcinoma_left.hilum_T2_N2_M0_IIIa/000057.png  \n",
            "  inflating: Data/train/large.cell.carcinoma_left.hilum_T2_N2_M0_IIIa/000058 (3).png  \n",
            "  inflating: Data/train/large.cell.carcinoma_left.hilum_T2_N2_M0_IIIa/000058 (4).png  \n",
            "  inflating: Data/train/large.cell.carcinoma_left.hilum_T2_N2_M0_IIIa/000059 (3).png  \n",
            "  inflating: Data/train/large.cell.carcinoma_left.hilum_T2_N2_M0_IIIa/000059 (4).png  \n",
            "  inflating: Data/train/large.cell.carcinoma_left.hilum_T2_N2_M0_IIIa/000060.png  \n",
            "  inflating: Data/train/large.cell.carcinoma_left.hilum_T2_N2_M0_IIIa/000062 (2).png  \n",
            "  inflating: Data/train/large.cell.carcinoma_left.hilum_T2_N2_M0_IIIa/000062 (3).png  \n",
            "  inflating: Data/train/large.cell.carcinoma_left.hilum_T2_N2_M0_IIIa/000062 (4).png  \n",
            "  inflating: Data/train/large.cell.carcinoma_left.hilum_T2_N2_M0_IIIa/000062.png  \n",
            "  inflating: Data/train/large.cell.carcinoma_left.hilum_T2_N2_M0_IIIa/000063 (2).png  \n",
            "  inflating: Data/train/large.cell.carcinoma_left.hilum_T2_N2_M0_IIIa/000063.png  \n",
            "  inflating: Data/train/large.cell.carcinoma_left.hilum_T2_N2_M0_IIIa/000065 (2).png  \n",
            "  inflating: Data/train/large.cell.carcinoma_left.hilum_T2_N2_M0_IIIa/000066 (2).png  \n",
            "  inflating: Data/train/large.cell.carcinoma_left.hilum_T2_N2_M0_IIIa/000066.png  \n",
            "  inflating: Data/train/large.cell.carcinoma_left.hilum_T2_N2_M0_IIIa/000068 (3).png  \n",
            "  inflating: Data/train/large.cell.carcinoma_left.hilum_T2_N2_M0_IIIa/000068 (4).png  \n",
            "  inflating: Data/train/large.cell.carcinoma_left.hilum_T2_N2_M0_IIIa/000068.png  \n",
            "  inflating: Data/train/large.cell.carcinoma_left.hilum_T2_N2_M0_IIIa/000069.png  \n",
            "  inflating: Data/train/large.cell.carcinoma_left.hilum_T2_N2_M0_IIIa/000071 (2).png  \n",
            "  inflating: Data/train/large.cell.carcinoma_left.hilum_T2_N2_M0_IIIa/000072 (2).png  \n",
            "  inflating: Data/train/large.cell.carcinoma_left.hilum_T2_N2_M0_IIIa/000073 (2).png  \n",
            "  inflating: Data/train/large.cell.carcinoma_left.hilum_T2_N2_M0_IIIa/000076 (3).png  \n",
            "  inflating: Data/train/large.cell.carcinoma_left.hilum_T2_N2_M0_IIIa/000076 (4).png  \n",
            "  inflating: Data/train/large.cell.carcinoma_left.hilum_T2_N2_M0_IIIa/000077.png  \n",
            "  inflating: Data/train/large.cell.carcinoma_left.hilum_T2_N2_M0_IIIa/000078 (3).png  \n",
            "  inflating: Data/train/large.cell.carcinoma_left.hilum_T2_N2_M0_IIIa/000078 (4).png  \n",
            "  inflating: Data/train/large.cell.carcinoma_left.hilum_T2_N2_M0_IIIa/000080.png  \n",
            "  inflating: Data/train/large.cell.carcinoma_left.hilum_T2_N2_M0_IIIa/000081.png  \n",
            "  inflating: Data/train/large.cell.carcinoma_left.hilum_T2_N2_M0_IIIa/000084 (2).png  \n",
            "  inflating: Data/train/large.cell.carcinoma_left.hilum_T2_N2_M0_IIIa/000084.png  \n",
            "  inflating: Data/train/large.cell.carcinoma_left.hilum_T2_N2_M0_IIIa/000089.png  \n",
            "  inflating: Data/train/large.cell.carcinoma_left.hilum_T2_N2_M0_IIIa/000093 (3).png  \n",
            "  inflating: Data/train/large.cell.carcinoma_left.hilum_T2_N2_M0_IIIa/000093 (4).png  \n",
            "  inflating: Data/train/large.cell.carcinoma_left.hilum_T2_N2_M0_IIIa/000094 (2).png  \n",
            "  inflating: Data/train/large.cell.carcinoma_left.hilum_T2_N2_M0_IIIa/000094 (3).png  \n",
            "  inflating: Data/train/large.cell.carcinoma_left.hilum_T2_N2_M0_IIIa/000094 (4).png  \n",
            "  inflating: Data/train/large.cell.carcinoma_left.hilum_T2_N2_M0_IIIa/000095 (2).png  \n",
            "  inflating: Data/train/large.cell.carcinoma_left.hilum_T2_N2_M0_IIIa/000095 (3).png  \n",
            "  inflating: Data/train/large.cell.carcinoma_left.hilum_T2_N2_M0_IIIa/000095 (4).png  \n",
            "  inflating: Data/train/large.cell.carcinoma_left.hilum_T2_N2_M0_IIIa/000095.png  \n",
            "  inflating: Data/train/large.cell.carcinoma_left.hilum_T2_N2_M0_IIIa/000097 (2).png  \n",
            "  inflating: Data/train/large.cell.carcinoma_left.hilum_T2_N2_M0_IIIa/000097.png  \n",
            "  inflating: Data/train/large.cell.carcinoma_left.hilum_T2_N2_M0_IIIa/000098 (3).png  \n",
            "  inflating: Data/train/large.cell.carcinoma_left.hilum_T2_N2_M0_IIIa/000098 (4).png  \n",
            "  inflating: Data/train/large.cell.carcinoma_left.hilum_T2_N2_M0_IIIa/000104 (2).png  \n",
            "  inflating: Data/train/large.cell.carcinoma_left.hilum_T2_N2_M0_IIIa/000104.png  \n",
            "  inflating: Data/train/large.cell.carcinoma_left.hilum_T2_N2_M0_IIIa/000105 (2).png  \n",
            "  inflating: Data/train/large.cell.carcinoma_left.hilum_T2_N2_M0_IIIa/000105.png  \n",
            "  inflating: Data/train/large.cell.carcinoma_left.hilum_T2_N2_M0_IIIa/000106 (2).png  \n",
            "  inflating: Data/train/large.cell.carcinoma_left.hilum_T2_N2_M0_IIIa/000106.png  \n",
            "  inflating: Data/train/large.cell.carcinoma_left.hilum_T2_N2_M0_IIIa/000133.png  \n",
            "  inflating: Data/train/large.cell.carcinoma_left.hilum_T2_N2_M0_IIIa/000137.png  \n",
            "  inflating: Data/train/large.cell.carcinoma_left.hilum_T2_N2_M0_IIIa/000143.png  \n",
            "  inflating: Data/train/large.cell.carcinoma_left.hilum_T2_N2_M0_IIIa/000149.png  \n",
            "  inflating: Data/train/large.cell.carcinoma_left.hilum_T2_N2_M0_IIIa/000150.png  \n",
            "  inflating: Data/train/large.cell.carcinoma_left.hilum_T2_N2_M0_IIIa/000154.png  \n",
            "  inflating: Data/train/large.cell.carcinoma_left.hilum_T2_N2_M0_IIIa/000159.png  \n",
            "  inflating: Data/train/large.cell.carcinoma_left.hilum_T2_N2_M0_IIIa/000169.png  \n",
            "  inflating: Data/train/large.cell.carcinoma_left.hilum_T2_N2_M0_IIIa/000172.png  \n",
            "  inflating: Data/train/large.cell.carcinoma_left.hilum_T2_N2_M0_IIIa/000173.png  \n",
            "  inflating: Data/train/large.cell.carcinoma_left.hilum_T2_N2_M0_IIIa/di1.png  \n",
            "  inflating: Data/train/large.cell.carcinoma_left.hilum_T2_N2_M0_IIIa/l1.png  \n",
            "  inflating: Data/train/large.cell.carcinoma_left.hilum_T2_N2_M0_IIIa/l2.png  \n",
            "  inflating: Data/train/large.cell.carcinoma_left.hilum_T2_N2_M0_IIIa/l3.png  \n",
            "  inflating: Data/train/large.cell.carcinoma_left.hilum_T2_N2_M0_IIIa/l4.png  \n",
            "  inflating: Data/train/large.cell.carcinoma_left.hilum_T2_N2_M0_IIIa/l5.png  \n",
            "  inflating: Data/train/large.cell.carcinoma_left.hilum_T2_N2_M0_IIIa/l6.png  \n",
            "  inflating: Data/train/normal/10 (2) - Copy.png  \n",
            "  inflating: Data/train/normal/10 (2).png  \n",
            "  inflating: Data/train/normal/10 - Copy (2) - Copy.png  \n",
            "  inflating: Data/train/normal/10 - Copy (2).png  \n",
            "  inflating: Data/train/normal/10 - Copy (3).png  \n",
            "  inflating: Data/train/normal/10 - Copy - Copy.png  \n",
            "  inflating: Data/train/normal/10 - Copy.png  \n",
            "  inflating: Data/train/normal/10.png  \n",
            "  inflating: Data/train/normal/11 (2) - Copy.png  \n",
            "  inflating: Data/train/normal/11 (2).png  \n",
            "  inflating: Data/train/normal/11 - Copy (2) - Copy.png  \n",
            "  inflating: Data/train/normal/11 - Copy (2).png  \n",
            "  inflating: Data/train/normal/11 - Copy (3).png  \n",
            "  inflating: Data/train/normal/11 - Copy - Copy.png  \n",
            "  inflating: Data/train/normal/11 - Copy.png  \n",
            "  inflating: Data/train/normal/11.png  \n",
            "  inflating: Data/train/normal/12 (2) - Copy.png  \n",
            "  inflating: Data/train/normal/12 (2).png  \n",
            "  inflating: Data/train/normal/12 - Copy (2) - Copy.png  \n",
            "  inflating: Data/train/normal/12 - Copy (2).png  \n",
            "  inflating: Data/train/normal/12 - Copy (3).png  \n",
            "  inflating: Data/train/normal/12 - Copy - Copy.png  \n",
            "  inflating: Data/train/normal/12 - Copy.png  \n",
            "  inflating: Data/train/normal/12.png  \n",
            "  inflating: Data/train/normal/13 (2) - Copy.png  \n",
            "  inflating: Data/train/normal/13 (2).png  \n",
            "  inflating: Data/train/normal/13 - Copy (2) - Copy.png  \n",
            "  inflating: Data/train/normal/13 - Copy (2).png  \n",
            "  inflating: Data/train/normal/13 - Copy (3).png  \n",
            "  inflating: Data/train/normal/13 - Copy - Copy.png  \n",
            "  inflating: Data/train/normal/13 - Copy.png  \n",
            "  inflating: Data/train/normal/13.png  \n",
            "  inflating: Data/train/normal/16 (2) - Copy.png  \n",
            "  inflating: Data/train/normal/16 (2).png  \n",
            "  inflating: Data/train/normal/16 - Copy (2) - Copy.png  \n",
            "  inflating: Data/train/normal/16 - Copy (2).png  \n",
            "  inflating: Data/train/normal/16 - Copy (3).png  \n",
            "  inflating: Data/train/normal/16 - Copy - Copy.png  \n",
            "  inflating: Data/train/normal/16 - Copy.png  \n",
            "  inflating: Data/train/normal/16.png  \n",
            "  inflating: Data/train/normal/17 (2) - Copy.png  \n",
            "  inflating: Data/train/normal/17 (2).png  \n",
            "  inflating: Data/train/normal/17 - Copy (2) - Copy.png  \n",
            "  inflating: Data/train/normal/17 - Copy (2).png  \n",
            "  inflating: Data/train/normal/17 - Copy (3).png  \n",
            "  inflating: Data/train/normal/17 - Copy - Copy.png  \n",
            "  inflating: Data/train/normal/17 - Copy.png  \n",
            "  inflating: Data/train/normal/17.png  \n",
            "  inflating: Data/train/normal/18 (2) - Copy.png  \n",
            "  inflating: Data/train/normal/18 (2).png  \n",
            "  inflating: Data/train/normal/18 - Copy (2) - Copy.png  \n",
            "  inflating: Data/train/normal/18 - Copy (2).png  \n",
            "  inflating: Data/train/normal/18 - Copy (3).png  \n",
            "  inflating: Data/train/normal/18 - Copy - Copy.png  \n",
            "  inflating: Data/train/normal/18 - Copy.png  \n",
            "  inflating: Data/train/normal/18.png  \n",
            "  inflating: Data/train/normal/19 (2) - Copy.png  \n",
            "  inflating: Data/train/normal/19 (2).png  \n",
            "  inflating: Data/train/normal/19 - Copy (2) - Copy.png  \n",
            "  inflating: Data/train/normal/19 - Copy (2).png  \n",
            "  inflating: Data/train/normal/19 - Copy (3).png  \n",
            "  inflating: Data/train/normal/19 - Copy - Copy.png  \n",
            "  inflating: Data/train/normal/19 - Copy.png  \n",
            "  inflating: Data/train/normal/19.png  \n",
            "  inflating: Data/train/normal/2 (2) - Copy.png  \n",
            "  inflating: Data/train/normal/2 (2).png  \n",
            "  inflating: Data/train/normal/2 - Copy (2) - Copy.png  \n",
            "  inflating: Data/train/normal/2 - Copy (2).png  \n",
            "  inflating: Data/train/normal/2 - Copy (3).png  \n",
            "  inflating: Data/train/normal/2 - Copy - Copy.png  \n",
            "  inflating: Data/train/normal/2 - Copy.png  \n",
            "  inflating: Data/train/normal/2.png  \n",
            "  inflating: Data/train/normal/20 (2) - Copy.png  \n",
            "  inflating: Data/train/normal/20 (2).png  \n",
            "  inflating: Data/train/normal/20 - Copy (2) - Copy.png  \n",
            "  inflating: Data/train/normal/20 - Copy (2).png  \n",
            "  inflating: Data/train/normal/20 - Copy (3).png  \n",
            "  inflating: Data/train/normal/20 - Copy - Copy.png  \n",
            "  inflating: Data/train/normal/20 - Copy.png  \n",
            "  inflating: Data/train/normal/20.png  \n",
            "  inflating: Data/train/normal/21 - Copy (2) - Copy.png  \n",
            "  inflating: Data/train/normal/21 - Copy (2).png  \n",
            "  inflating: Data/train/normal/21 - Copy - Copy.png  \n",
            "  inflating: Data/train/normal/21 - Copy.png  \n",
            "  inflating: Data/train/normal/3 (2) - Copy.png  \n",
            "  inflating: Data/train/normal/3 (2).png  \n",
            "  inflating: Data/train/normal/3 - Copy (2) - Copy.png  \n",
            "  inflating: Data/train/normal/3 - Copy (2).png  \n",
            "  inflating: Data/train/normal/3 - Copy (3).png  \n",
            "  inflating: Data/train/normal/3 - Copy - Copy.png  \n",
            "  inflating: Data/train/normal/3 - Copy.png  \n",
            "  inflating: Data/train/normal/3.png  \n",
            "  inflating: Data/train/normal/4 (2) - Copy.png  \n",
            "  inflating: Data/train/normal/4 (2).png  \n",
            "  inflating: Data/train/normal/4 - Copy (2) - Copy.png  \n",
            "  inflating: Data/train/normal/4 - Copy (2).png  \n",
            "  inflating: Data/train/normal/4 - Copy (3).png  \n",
            "  inflating: Data/train/normal/4 - Copy - Copy.png  \n",
            "  inflating: Data/train/normal/4 - Copy.png  \n",
            "  inflating: Data/train/normal/4.png  \n",
            "  inflating: Data/train/normal/5 (2) - Copy.png  \n",
            "  inflating: Data/train/normal/5 (2).png  \n",
            "  inflating: Data/train/normal/5 - Copy (2) - Copy.png  \n",
            "  inflating: Data/train/normal/5 - Copy (2).png  \n",
            "  inflating: Data/train/normal/5 - Copy (3).png  \n",
            "  inflating: Data/train/normal/5 - Copy - Copy.png  \n",
            "  inflating: Data/train/normal/5 - Copy.png  \n",
            "  inflating: Data/train/normal/5.png  \n",
            "  inflating: Data/train/normal/6 (2) - Copy.png  \n",
            "  inflating: Data/train/normal/6 (2).png  \n",
            "  inflating: Data/train/normal/6 - Copy (2) - Copy.png  \n",
            "  inflating: Data/train/normal/6 - Copy (2).png  \n",
            "  inflating: Data/train/normal/6 - Copy (3).png  \n",
            "  inflating: Data/train/normal/6 - Copy - Copy.png  \n",
            "  inflating: Data/train/normal/6 - Copy.png  \n",
            "  inflating: Data/train/normal/6.png  \n",
            "  inflating: Data/train/normal/7 (2) - Copy.png  \n",
            "  inflating: Data/train/normal/7 (2).png  \n",
            "  inflating: Data/train/normal/7 - Copy (2) - Copy.png  \n",
            "  inflating: Data/train/normal/7 - Copy (2).png  \n",
            "  inflating: Data/train/normal/7 - Copy (3).png  \n",
            "  inflating: Data/train/normal/7 - Copy - Copy.png  \n",
            "  inflating: Data/train/normal/7 - Copy.png  \n",
            "  inflating: Data/train/normal/7.png  \n",
            "  inflating: Data/train/normal/8 (2) - Copy.png  \n",
            "  inflating: Data/train/normal/8 (2).png  \n",
            "  inflating: Data/train/normal/8 - Copy (2) - Copy.png  \n",
            "  inflating: Data/train/normal/8 - Copy (2).png  \n",
            "  inflating: Data/train/normal/8 - Copy (3).png  \n",
            "  inflating: Data/train/normal/8 - Copy - Copy.png  \n",
            "  inflating: Data/train/normal/8 - Copy.png  \n",
            "  inflating: Data/train/normal/8.png  \n",
            "  inflating: Data/train/normal/n6 (2) - Copy.jpg  \n",
            "  inflating: Data/train/normal/n6 (2).jpg  \n",
            "  inflating: Data/train/normal/n6 - Copy.jpg  \n",
            "  inflating: Data/train/normal/n6.jpg  \n",
            "  inflating: Data/train/normal/n7 (2) - Copy.png  \n",
            "  inflating: Data/train/normal/n7 (2).png  \n",
            "  inflating: Data/train/normal/n7 - Copy.png  \n",
            "  inflating: Data/train/normal/n7.png  \n",
            "  inflating: Data/train/normal/n8 (2) - Copy.jpg  \n",
            "  inflating: Data/train/normal/n8 (2).jpg  \n",
            "  inflating: Data/train/normal/n8 - Copy.jpg  \n",
            "  inflating: Data/train/normal/n8.jpg  \n",
            "  inflating: Data/train/normal/n9 (2) - Copy.jpg  \n",
            "  inflating: Data/train/normal/n9 (2).jpg  \n",
            "  inflating: Data/train/normal/n9 - Copy.jpg  \n",
            "  inflating: Data/train/normal/n9.jpg  \n",
            "  inflating: Data/train/squamous.cell.carcinoma_left.hilum_T1_N2_M0_IIIa/000002 (4).png  \n",
            "  inflating: Data/train/squamous.cell.carcinoma_left.hilum_T1_N2_M0_IIIa/000002 (6).png  \n",
            "  inflating: Data/train/squamous.cell.carcinoma_left.hilum_T1_N2_M0_IIIa/000003.png  \n",
            "  inflating: Data/train/squamous.cell.carcinoma_left.hilum_T1_N2_M0_IIIa/000004 (4).png  \n",
            "  inflating: Data/train/squamous.cell.carcinoma_left.hilum_T1_N2_M0_IIIa/000004 (5).png  \n",
            "  inflating: Data/train/squamous.cell.carcinoma_left.hilum_T1_N2_M0_IIIa/000004 (7).png  \n",
            "  inflating: Data/train/squamous.cell.carcinoma_left.hilum_T1_N2_M0_IIIa/000006 (4).png  \n",
            "  inflating: Data/train/squamous.cell.carcinoma_left.hilum_T1_N2_M0_IIIa/000006.png  \n",
            "  inflating: Data/train/squamous.cell.carcinoma_left.hilum_T1_N2_M0_IIIa/000007 (4).png  \n",
            "  inflating: Data/train/squamous.cell.carcinoma_left.hilum_T1_N2_M0_IIIa/000007.png  \n",
            "  inflating: Data/train/squamous.cell.carcinoma_left.hilum_T1_N2_M0_IIIa/000008 (3).png  \n",
            "  inflating: Data/train/squamous.cell.carcinoma_left.hilum_T1_N2_M0_IIIa/000009 (2).png  \n",
            "  inflating: Data/train/squamous.cell.carcinoma_left.hilum_T1_N2_M0_IIIa/000010 (6).png  \n",
            "  inflating: Data/train/squamous.cell.carcinoma_left.hilum_T1_N2_M0_IIIa/000013 (6).png  \n",
            "  inflating: Data/train/squamous.cell.carcinoma_left.hilum_T1_N2_M0_IIIa/000015 (5).png  \n",
            "  inflating: Data/train/squamous.cell.carcinoma_left.hilum_T1_N2_M0_IIIa/000015 (7).png  \n",
            "  inflating: Data/train/squamous.cell.carcinoma_left.hilum_T1_N2_M0_IIIa/000016 (3).png  \n",
            "  inflating: Data/train/squamous.cell.carcinoma_left.hilum_T1_N2_M0_IIIa/000017 (4).png  \n",
            "  inflating: Data/train/squamous.cell.carcinoma_left.hilum_T1_N2_M0_IIIa/000018 (6).png  \n",
            "  inflating: Data/train/squamous.cell.carcinoma_left.hilum_T1_N2_M0_IIIa/000024 (5).png  \n",
            "  inflating: Data/train/squamous.cell.carcinoma_left.hilum_T1_N2_M0_IIIa/000024 (7).png  \n",
            "  inflating: Data/train/squamous.cell.carcinoma_left.hilum_T1_N2_M0_IIIa/000027 (2).png  \n",
            "  inflating: Data/train/squamous.cell.carcinoma_left.hilum_T1_N2_M0_IIIa/000028 (4).png  \n",
            "  inflating: Data/train/squamous.cell.carcinoma_left.hilum_T1_N2_M0_IIIa/000028 (5).png  \n",
            "  inflating: Data/train/squamous.cell.carcinoma_left.hilum_T1_N2_M0_IIIa/000028 (7).png  \n",
            "  inflating: Data/train/squamous.cell.carcinoma_left.hilum_T1_N2_M0_IIIa/000029 (4).png  \n",
            "  inflating: Data/train/squamous.cell.carcinoma_left.hilum_T1_N2_M0_IIIa/000030 (2).png  \n",
            "  inflating: Data/train/squamous.cell.carcinoma_left.hilum_T1_N2_M0_IIIa/000030 (5).png  \n",
            "  inflating: Data/train/squamous.cell.carcinoma_left.hilum_T1_N2_M0_IIIa/000030 (7).png  \n",
            "  inflating: Data/train/squamous.cell.carcinoma_left.hilum_T1_N2_M0_IIIa/000032.png  \n",
            "  inflating: Data/train/squamous.cell.carcinoma_left.hilum_T1_N2_M0_IIIa/000033.png  \n",
            "  inflating: Data/train/squamous.cell.carcinoma_left.hilum_T1_N2_M0_IIIa/000035 (5).png  \n",
            "  inflating: Data/train/squamous.cell.carcinoma_left.hilum_T1_N2_M0_IIIa/000035.png  \n",
            "  inflating: Data/train/squamous.cell.carcinoma_left.hilum_T1_N2_M0_IIIa/000036 (4).png  \n",
            "  inflating: Data/train/squamous.cell.carcinoma_left.hilum_T1_N2_M0_IIIa/000037 (2).png  \n",
            "  inflating: Data/train/squamous.cell.carcinoma_left.hilum_T1_N2_M0_IIIa/000038 (2).png  \n",
            "  inflating: Data/train/squamous.cell.carcinoma_left.hilum_T1_N2_M0_IIIa/000038 (5).png  \n",
            "  inflating: Data/train/squamous.cell.carcinoma_left.hilum_T1_N2_M0_IIIa/000038 (7).png  \n",
            "  inflating: Data/train/squamous.cell.carcinoma_left.hilum_T1_N2_M0_IIIa/000041 (4).png  \n",
            "  inflating: Data/train/squamous.cell.carcinoma_left.hilum_T1_N2_M0_IIIa/000043 (3).png  \n",
            "  inflating: Data/train/squamous.cell.carcinoma_left.hilum_T1_N2_M0_IIIa/000043.png  \n",
            "  inflating: Data/train/squamous.cell.carcinoma_left.hilum_T1_N2_M0_IIIa/000044 (2).png  \n",
            "  inflating: Data/train/squamous.cell.carcinoma_left.hilum_T1_N2_M0_IIIa/000046 (4).png  \n",
            "  inflating: Data/train/squamous.cell.carcinoma_left.hilum_T1_N2_M0_IIIa/000046 (5).png  \n",
            "  inflating: Data/train/squamous.cell.carcinoma_left.hilum_T1_N2_M0_IIIa/000046 (6).png  \n",
            "  inflating: Data/train/squamous.cell.carcinoma_left.hilum_T1_N2_M0_IIIa/000046 (7).png  \n",
            "  inflating: Data/train/squamous.cell.carcinoma_left.hilum_T1_N2_M0_IIIa/000048 (5).png  \n",
            "  inflating: Data/train/squamous.cell.carcinoma_left.hilum_T1_N2_M0_IIIa/000048 (7).png  \n",
            "  inflating: Data/train/squamous.cell.carcinoma_left.hilum_T1_N2_M0_IIIa/000048.png  \n",
            "  inflating: Data/train/squamous.cell.carcinoma_left.hilum_T1_N2_M0_IIIa/000049 (3).png  \n",
            "  inflating: Data/train/squamous.cell.carcinoma_left.hilum_T1_N2_M0_IIIa/000050 (2).png  \n",
            "  inflating: Data/train/squamous.cell.carcinoma_left.hilum_T1_N2_M0_IIIa/000050 (6).png  \n",
            "  inflating: Data/train/squamous.cell.carcinoma_left.hilum_T1_N2_M0_IIIa/000051 (3).png  \n",
            "  inflating: Data/train/squamous.cell.carcinoma_left.hilum_T1_N2_M0_IIIa/000052 (4).png  \n",
            "  inflating: Data/train/squamous.cell.carcinoma_left.hilum_T1_N2_M0_IIIa/000053 (6).png  \n",
            "  inflating: Data/train/squamous.cell.carcinoma_left.hilum_T1_N2_M0_IIIa/000053.png  \n",
            "  inflating: Data/train/squamous.cell.carcinoma_left.hilum_T1_N2_M0_IIIa/000054 (3).png  \n",
            "  inflating: Data/train/squamous.cell.carcinoma_left.hilum_T1_N2_M0_IIIa/000054.png  \n",
            "  inflating: Data/train/squamous.cell.carcinoma_left.hilum_T1_N2_M0_IIIa/000055 (2).png  \n",
            "  inflating: Data/train/squamous.cell.carcinoma_left.hilum_T1_N2_M0_IIIa/000055 (3).png  \n",
            "  inflating: Data/train/squamous.cell.carcinoma_left.hilum_T1_N2_M0_IIIa/000056 (5).png  \n",
            "  inflating: Data/train/squamous.cell.carcinoma_left.hilum_T1_N2_M0_IIIa/000056 (7).png  \n",
            "  inflating: Data/train/squamous.cell.carcinoma_left.hilum_T1_N2_M0_IIIa/000057 (3).png  \n",
            "  inflating: Data/train/squamous.cell.carcinoma_left.hilum_T1_N2_M0_IIIa/000057 (4).png  \n",
            "  inflating: Data/train/squamous.cell.carcinoma_left.hilum_T1_N2_M0_IIIa/000057 (5).png  \n",
            "  inflating: Data/train/squamous.cell.carcinoma_left.hilum_T1_N2_M0_IIIa/000057 (6).png  \n",
            "  inflating: Data/train/squamous.cell.carcinoma_left.hilum_T1_N2_M0_IIIa/000057 (7).png  \n",
            "  inflating: Data/train/squamous.cell.carcinoma_left.hilum_T1_N2_M0_IIIa/000058 (3).png  \n",
            "  inflating: Data/train/squamous.cell.carcinoma_left.hilum_T1_N2_M0_IIIa/000058 (5).png  \n",
            "  inflating: Data/train/squamous.cell.carcinoma_left.hilum_T1_N2_M0_IIIa/000058 (7).png  \n",
            "  inflating: Data/train/squamous.cell.carcinoma_left.hilum_T1_N2_M0_IIIa/000058.png  \n",
            "  inflating: Data/train/squamous.cell.carcinoma_left.hilum_T1_N2_M0_IIIa/000060 (2).png  \n",
            "  inflating: Data/train/squamous.cell.carcinoma_left.hilum_T1_N2_M0_IIIa/000062 (5).png  \n",
            "  inflating: Data/train/squamous.cell.carcinoma_left.hilum_T1_N2_M0_IIIa/000062 (7).png  \n",
            "  inflating: Data/train/squamous.cell.carcinoma_left.hilum_T1_N2_M0_IIIa/000063 (3).png  \n",
            "  inflating: Data/train/squamous.cell.carcinoma_left.hilum_T1_N2_M0_IIIa/000063 (6).png  \n",
            "  inflating: Data/train/squamous.cell.carcinoma_left.hilum_T1_N2_M0_IIIa/000063.png  \n",
            "  inflating: Data/train/squamous.cell.carcinoma_left.hilum_T1_N2_M0_IIIa/000064 (4).png  \n",
            "  inflating: Data/train/squamous.cell.carcinoma_left.hilum_T1_N2_M0_IIIa/000065 (5).png  \n",
            "  inflating: Data/train/squamous.cell.carcinoma_left.hilum_T1_N2_M0_IIIa/000065 (7).png  \n",
            "  inflating: Data/train/squamous.cell.carcinoma_left.hilum_T1_N2_M0_IIIa/000066 (2).png  \n",
            "  inflating: Data/train/squamous.cell.carcinoma_left.hilum_T1_N2_M0_IIIa/000066.png  \n",
            "  inflating: Data/train/squamous.cell.carcinoma_left.hilum_T1_N2_M0_IIIa/000067 (2).png  \n",
            "  inflating: Data/train/squamous.cell.carcinoma_left.hilum_T1_N2_M0_IIIa/000067 (3).png  \n",
            "  inflating: Data/train/squamous.cell.carcinoma_left.hilum_T1_N2_M0_IIIa/000067 (5).png  \n",
            "  inflating: Data/train/squamous.cell.carcinoma_left.hilum_T1_N2_M0_IIIa/000067 (7).png  \n",
            "  inflating: Data/train/squamous.cell.carcinoma_left.hilum_T1_N2_M0_IIIa/000068 (4).png  \n",
            "  inflating: Data/train/squamous.cell.carcinoma_left.hilum_T1_N2_M0_IIIa/000069 (2).png  \n",
            "  inflating: Data/train/squamous.cell.carcinoma_left.hilum_T1_N2_M0_IIIa/000070 (2).png  \n",
            "  inflating: Data/train/squamous.cell.carcinoma_left.hilum_T1_N2_M0_IIIa/000070.png  \n",
            "  inflating: Data/train/squamous.cell.carcinoma_left.hilum_T1_N2_M0_IIIa/000071 (3).png  \n",
            "  inflating: Data/train/squamous.cell.carcinoma_left.hilum_T1_N2_M0_IIIa/000073 (6).png  \n",
            "  inflating: Data/train/squamous.cell.carcinoma_left.hilum_T1_N2_M0_IIIa/000074 (5).png  \n",
            "  inflating: Data/train/squamous.cell.carcinoma_left.hilum_T1_N2_M0_IIIa/000074 (6).png  \n",
            "  inflating: Data/train/squamous.cell.carcinoma_left.hilum_T1_N2_M0_IIIa/000074 (7).png  \n",
            "  inflating: Data/train/squamous.cell.carcinoma_left.hilum_T1_N2_M0_IIIa/000075.png  \n",
            "  inflating: Data/train/squamous.cell.carcinoma_left.hilum_T1_N2_M0_IIIa/000077 (2).png  \n",
            "  inflating: Data/train/squamous.cell.carcinoma_left.hilum_T1_N2_M0_IIIa/000077 (4).png  \n",
            "  inflating: Data/train/squamous.cell.carcinoma_left.hilum_T1_N2_M0_IIIa/000077 (5).png  \n",
            "  inflating: Data/train/squamous.cell.carcinoma_left.hilum_T1_N2_M0_IIIa/000078 (5).png  \n",
            "  inflating: Data/train/squamous.cell.carcinoma_left.hilum_T1_N2_M0_IIIa/000078 (7).png  \n",
            "  inflating: Data/train/squamous.cell.carcinoma_left.hilum_T1_N2_M0_IIIa/000078.png  \n",
            "  inflating: Data/train/squamous.cell.carcinoma_left.hilum_T1_N2_M0_IIIa/000079 (5).png  \n",
            "  inflating: Data/train/squamous.cell.carcinoma_left.hilum_T1_N2_M0_IIIa/000079 (7).png  \n",
            "  inflating: Data/train/squamous.cell.carcinoma_left.hilum_T1_N2_M0_IIIa/000079.png  \n",
            "  inflating: Data/train/squamous.cell.carcinoma_left.hilum_T1_N2_M0_IIIa/000081 (3).png  \n",
            "  inflating: Data/train/squamous.cell.carcinoma_left.hilum_T1_N2_M0_IIIa/000081 (6).png  \n",
            "  inflating: Data/train/squamous.cell.carcinoma_left.hilum_T1_N2_M0_IIIa/000081.png  \n",
            "  inflating: Data/train/squamous.cell.carcinoma_left.hilum_T1_N2_M0_IIIa/000082 (3).png  \n",
            "  inflating: Data/train/squamous.cell.carcinoma_left.hilum_T1_N2_M0_IIIa/000082 (4).png  \n",
            "  inflating: Data/train/squamous.cell.carcinoma_left.hilum_T1_N2_M0_IIIa/000083 (2).png  \n",
            "  inflating: Data/train/squamous.cell.carcinoma_left.hilum_T1_N2_M0_IIIa/000083 (5).png  \n",
            "  inflating: Data/train/squamous.cell.carcinoma_left.hilum_T1_N2_M0_IIIa/000083 (6).png  \n",
            "  inflating: Data/train/squamous.cell.carcinoma_left.hilum_T1_N2_M0_IIIa/000083 (7).png  \n",
            "  inflating: Data/train/squamous.cell.carcinoma_left.hilum_T1_N2_M0_IIIa/000084 (3).png  \n",
            "  inflating: Data/train/squamous.cell.carcinoma_left.hilum_T1_N2_M0_IIIa/000084 (5).png  \n",
            "  inflating: Data/train/squamous.cell.carcinoma_left.hilum_T1_N2_M0_IIIa/000084 (7).png  \n",
            "  inflating: Data/train/squamous.cell.carcinoma_left.hilum_T1_N2_M0_IIIa/000085.png  \n",
            "  inflating: Data/train/squamous.cell.carcinoma_left.hilum_T1_N2_M0_IIIa/000088.png  \n",
            "  inflating: Data/train/squamous.cell.carcinoma_left.hilum_T1_N2_M0_IIIa/000089 (4).png  \n",
            "  inflating: Data/train/squamous.cell.carcinoma_left.hilum_T1_N2_M0_IIIa/000090 (6).png  \n",
            "  inflating: Data/train/squamous.cell.carcinoma_left.hilum_T1_N2_M0_IIIa/000091 (5).png  \n",
            "  inflating: Data/train/squamous.cell.carcinoma_left.hilum_T1_N2_M0_IIIa/000091 (7).png  \n",
            "  inflating: Data/train/squamous.cell.carcinoma_left.hilum_T1_N2_M0_IIIa/000093.png  \n",
            "  inflating: Data/train/squamous.cell.carcinoma_left.hilum_T1_N2_M0_IIIa/000094 (3).png  \n",
            "  inflating: Data/train/squamous.cell.carcinoma_left.hilum_T1_N2_M0_IIIa/000094.png  \n",
            "  inflating: Data/train/squamous.cell.carcinoma_left.hilum_T1_N2_M0_IIIa/000096 (2).png  \n",
            "  inflating: Data/train/squamous.cell.carcinoma_left.hilum_T1_N2_M0_IIIa/000096.png  \n",
            "  inflating: Data/train/squamous.cell.carcinoma_left.hilum_T1_N2_M0_IIIa/000099 (2).png  \n",
            "  inflating: Data/train/squamous.cell.carcinoma_left.hilum_T1_N2_M0_IIIa/000099 (3).png  \n",
            "  inflating: Data/train/squamous.cell.carcinoma_left.hilum_T1_N2_M0_IIIa/000100 (4).png  \n",
            "  inflating: Data/train/squamous.cell.carcinoma_left.hilum_T1_N2_M0_IIIa/000101 (3).png  \n",
            "  inflating: Data/train/squamous.cell.carcinoma_left.hilum_T1_N2_M0_IIIa/000103.png  \n",
            "  inflating: Data/train/squamous.cell.carcinoma_left.hilum_T1_N2_M0_IIIa/000104 (2).png  \n",
            "  inflating: Data/train/squamous.cell.carcinoma_left.hilum_T1_N2_M0_IIIa/000104.png  \n",
            "  inflating: Data/train/squamous.cell.carcinoma_left.hilum_T1_N2_M0_IIIa/000105 (5).png  \n",
            "  inflating: Data/train/squamous.cell.carcinoma_left.hilum_T1_N2_M0_IIIa/000105 (7).png  \n",
            "  inflating: Data/train/squamous.cell.carcinoma_left.hilum_T1_N2_M0_IIIa/000106 (3).png  \n",
            "  inflating: Data/train/squamous.cell.carcinoma_left.hilum_T1_N2_M0_IIIa/000106 (4).png  \n",
            "  inflating: Data/train/squamous.cell.carcinoma_left.hilum_T1_N2_M0_IIIa/000106 (5).png  \n",
            "  inflating: Data/train/squamous.cell.carcinoma_left.hilum_T1_N2_M0_IIIa/000106 (6).png  \n",
            "  inflating: Data/train/squamous.cell.carcinoma_left.hilum_T1_N2_M0_IIIa/000106 (7).png  \n",
            "  inflating: Data/train/squamous.cell.carcinoma_left.hilum_T1_N2_M0_IIIa/000120 (2).png  \n",
            "  inflating: Data/train/squamous.cell.carcinoma_left.hilum_T1_N2_M0_IIIa/000120 (4).png  \n",
            "  inflating: Data/train/squamous.cell.carcinoma_left.hilum_T1_N2_M0_IIIa/000120 (6).png  \n",
            "  inflating: Data/train/squamous.cell.carcinoma_left.hilum_T1_N2_M0_IIIa/000121 (2).png  \n",
            "  inflating: Data/train/squamous.cell.carcinoma_left.hilum_T1_N2_M0_IIIa/000121.png  \n",
            "  inflating: Data/train/squamous.cell.carcinoma_left.hilum_T1_N2_M0_IIIa/000122 (3).png  \n",
            "  inflating: Data/train/squamous.cell.carcinoma_left.hilum_T1_N2_M0_IIIa/000122.png  \n",
            "  inflating: Data/train/squamous.cell.carcinoma_left.hilum_T1_N2_M0_IIIa/sq1.png  \n",
            "  inflating: Data/train/squamous.cell.carcinoma_left.hilum_T1_N2_M0_IIIa/sq2.png  \n",
            "  inflating: Data/train/squamous.cell.carcinoma_left.hilum_T1_N2_M0_IIIa/sq3.png  \n",
            "  inflating: Data/train/squamous.cell.carcinoma_left.hilum_T1_N2_M0_IIIa/sq4.png  \n",
            "  inflating: Data/train/squamous.cell.carcinoma_left.hilum_T1_N2_M0_IIIa/sq5.png  \n",
            "  inflating: Data/train/squamous.cell.carcinoma_left.hilum_T1_N2_M0_IIIa/sq6.png  \n",
            "  inflating: Data/valid/adenocarcinoma_left.lower.lobe_T2_N0_M0_Ib/000108 (7).png  \n",
            "  inflating: Data/valid/adenocarcinoma_left.lower.lobe_T2_N0_M0_Ib/000108 (8).png  \n",
            "  inflating: Data/valid/adenocarcinoma_left.lower.lobe_T2_N0_M0_Ib/000109 (3).png  \n",
            "  inflating: Data/valid/adenocarcinoma_left.lower.lobe_T2_N0_M0_Ib/000109 (4).png  \n",
            "  inflating: Data/valid/adenocarcinoma_left.lower.lobe_T2_N0_M0_Ib/000109 (8).png  \n",
            "  inflating: Data/valid/adenocarcinoma_left.lower.lobe_T2_N0_M0_Ib/000110 (7).png  \n",
            "  inflating: Data/valid/adenocarcinoma_left.lower.lobe_T2_N0_M0_Ib/000111 (2).png  \n",
            "  inflating: Data/valid/adenocarcinoma_left.lower.lobe_T2_N0_M0_Ib/000112 (2).png  \n",
            "  inflating: Data/valid/adenocarcinoma_left.lower.lobe_T2_N0_M0_Ib/000112 (9).png  \n",
            "  inflating: Data/valid/adenocarcinoma_left.lower.lobe_T2_N0_M0_Ib/000113 (3).png  \n",
            "  inflating: Data/valid/adenocarcinoma_left.lower.lobe_T2_N0_M0_Ib/000113.png  \n",
            "  inflating: Data/valid/adenocarcinoma_left.lower.lobe_T2_N0_M0_Ib/000114 (10).png  \n",
            "  inflating: Data/valid/adenocarcinoma_left.lower.lobe_T2_N0_M0_Ib/000114.png  \n",
            "  inflating: Data/valid/adenocarcinoma_left.lower.lobe_T2_N0_M0_Ib/000115 (2).png  \n",
            "  inflating: Data/valid/adenocarcinoma_left.lower.lobe_T2_N0_M0_Ib/000115 (5).png  \n",
            "  inflating: Data/valid/adenocarcinoma_left.lower.lobe_T2_N0_M0_Ib/000115 (9).png  \n",
            "  inflating: Data/valid/adenocarcinoma_left.lower.lobe_T2_N0_M0_Ib/000115.png  \n",
            "  inflating: Data/valid/adenocarcinoma_left.lower.lobe_T2_N0_M0_Ib/000116 (3).png  \n",
            "  inflating: Data/valid/adenocarcinoma_left.lower.lobe_T2_N0_M0_Ib/000116 (5).png  \n",
            "  inflating: Data/valid/adenocarcinoma_left.lower.lobe_T2_N0_M0_Ib/000116 (8).png  \n",
            "  inflating: Data/valid/adenocarcinoma_left.lower.lobe_T2_N0_M0_Ib/000116 (9).png  \n",
            "  inflating: Data/valid/adenocarcinoma_left.lower.lobe_T2_N0_M0_Ib/000117 (6).png  \n",
            "  inflating: Data/valid/adenocarcinoma_left.lower.lobe_T2_N0_M0_Ib/000117.png  \n",
            "  inflating: Data/valid/large.cell.carcinoma_left.hilum_T2_N2_M0_IIIa/000108 (2).png  \n",
            "  inflating: Data/valid/large.cell.carcinoma_left.hilum_T2_N2_M0_IIIa/000108.png  \n",
            "  inflating: Data/valid/large.cell.carcinoma_left.hilum_T2_N2_M0_IIIa/000109.png  \n",
            "  inflating: Data/valid/large.cell.carcinoma_left.hilum_T2_N2_M0_IIIa/000110 (2).png  \n",
            "  inflating: Data/valid/large.cell.carcinoma_left.hilum_T2_N2_M0_IIIa/000110.png  \n",
            "  inflating: Data/valid/large.cell.carcinoma_left.hilum_T2_N2_M0_IIIa/000111 (2).png  \n",
            "  inflating: Data/valid/large.cell.carcinoma_left.hilum_T2_N2_M0_IIIa/000111.png  \n",
            "  inflating: Data/valid/large.cell.carcinoma_left.hilum_T2_N2_M0_IIIa/000112.png  \n",
            "  inflating: Data/valid/large.cell.carcinoma_left.hilum_T2_N2_M0_IIIa/000113 (2).png  \n",
            "  inflating: Data/valid/large.cell.carcinoma_left.hilum_T2_N2_M0_IIIa/000113.png  \n",
            "  inflating: Data/valid/large.cell.carcinoma_left.hilum_T2_N2_M0_IIIa/000114.png  \n",
            "  inflating: Data/valid/large.cell.carcinoma_left.hilum_T2_N2_M0_IIIa/000115 (3).png  \n",
            "  inflating: Data/valid/large.cell.carcinoma_left.hilum_T2_N2_M0_IIIa/000115.png  \n",
            "  inflating: Data/valid/large.cell.carcinoma_left.hilum_T2_N2_M0_IIIa/000116.png  \n",
            "  inflating: Data/valid/large.cell.carcinoma_left.hilum_T2_N2_M0_IIIa/000118 (2).png  \n",
            "  inflating: Data/valid/large.cell.carcinoma_left.hilum_T2_N2_M0_IIIa/000120.png  \n",
            "  inflating: Data/valid/large.cell.carcinoma_left.hilum_T2_N2_M0_IIIa/000122.png  \n",
            "  inflating: Data/valid/large.cell.carcinoma_left.hilum_T2_N2_M0_IIIa/000126.png  \n",
            "  inflating: Data/valid/large.cell.carcinoma_left.hilum_T2_N2_M0_IIIa/000128.png  \n",
            "  inflating: Data/valid/large.cell.carcinoma_left.hilum_T2_N2_M0_IIIa/000130.png  \n",
            "  inflating: Data/valid/large.cell.carcinoma_left.hilum_T2_N2_M0_IIIa/000131.png  \n",
            "  inflating: Data/valid/normal/003828_02_01_174.png  \n",
            "  inflating: Data/valid/normal/004007_01_01_519.png  \n",
            "  inflating: Data/valid/normal/004162_01_01_150.png  \n",
            "  inflating: Data/valid/normal/4 (2).png  \n",
            "  inflating: Data/valid/normal/4 - Copy (2).png  \n",
            "  inflating: Data/valid/normal/5.png  \n",
            "  inflating: Data/valid/normal/6 - Copy (2) - Copy.png  \n",
            "  inflating: Data/valid/normal/6 - Copy (3).png  \n",
            "  inflating: Data/valid/normal/6 - Copy.png  \n",
            "  inflating: Data/valid/normal/7 - Copy (2).png  \n",
            "  inflating: Data/valid/normal/7 - Copy (3).png  \n",
            "  inflating: Data/valid/normal/7.png  \n",
            "  inflating: Data/valid/normal/8 - Copy (3).png  \n",
            "  inflating: Data/valid/squamous.cell.carcinoma_left.hilum_T1_N2_M0_IIIa/000108 (3).png  \n",
            "  inflating: Data/valid/squamous.cell.carcinoma_left.hilum_T1_N2_M0_IIIa/000110 (6).png  \n",
            "  inflating: Data/valid/squamous.cell.carcinoma_left.hilum_T1_N2_M0_IIIa/000111.png  \n",
            "  inflating: Data/valid/squamous.cell.carcinoma_left.hilum_T1_N2_M0_IIIa/000112.png  \n",
            "  inflating: Data/valid/squamous.cell.carcinoma_left.hilum_T1_N2_M0_IIIa/000114 (4).png  \n",
            "  inflating: Data/valid/squamous.cell.carcinoma_left.hilum_T1_N2_M0_IIIa/000114 (6).png  \n",
            "  inflating: Data/valid/squamous.cell.carcinoma_left.hilum_T1_N2_M0_IIIa/000115 (2).png  \n",
            "  inflating: Data/valid/squamous.cell.carcinoma_left.hilum_T1_N2_M0_IIIa/000115 (5).png  \n",
            "  inflating: Data/valid/squamous.cell.carcinoma_left.hilum_T1_N2_M0_IIIa/000116 (2).png  \n",
            "  inflating: Data/valid/squamous.cell.carcinoma_left.hilum_T1_N2_M0_IIIa/000117 (4).png  \n",
            "  inflating: Data/valid/squamous.cell.carcinoma_left.hilum_T1_N2_M0_IIIa/000117 (6).png  \n",
            "  inflating: Data/valid/squamous.cell.carcinoma_left.hilum_T1_N2_M0_IIIa/000118 (4).png  \n",
            "  inflating: Data/valid/squamous.cell.carcinoma_left.hilum_T1_N2_M0_IIIa/000118 (5).png  \n",
            "  inflating: Data/valid/squamous.cell.carcinoma_left.hilum_T1_N2_M0_IIIa/000119 (5).png  \n",
            "  inflating: Data/valid/squamous.cell.carcinoma_left.hilum_T1_N2_M0_IIIa/000119.png  \n"
          ]
        }
      ],
      "source": [
        "# https://www.kaggle.com/datasets/mohamedhanyyy/chest-ctscan-images\n",
        "!pip install gdown\n",
        "!gdown https://drive.google.com/uc?id=1buNH-AFE9Tf4wzQHhqzFfSmmIr3poFoK\n",
        "!unzip /content/Chest\\ CT-Scan\\ Images\\ Dataset.zip"
      ]
    },
    {
      "cell_type": "code",
      "source": [
        "# https://www.kaggle.com/datasets/trainingdatapro/spine-x-ray\n",
        "!pip install onedrivedownloader\n",
        "from onedrivedownloader import download\n",
        "\n",
        "download(url = 'https://universidadfv-my.sharepoint.com/:u:/g/personal/alberto_desantos_ufv_es/EYgM9mm1WLBOvuuDBuA-VWwBfNC5YkwUWvSWrEkIEKPZeA?e=GpfqX8',\n",
        "         filename = \"Spine X-ray - Scoliosis and 6 other diseases.zip\", unzip=True, force_download=True, clean=False)\n"
      ],
      "metadata": {
        "colab": {
          "base_uri": "https://localhost:8080/",
          "height": 261
        },
        "id": "RTjs8teQSjmk",
        "outputId": "86619484-f097-43b4-f0dc-fc0f1e9a4ff4"
      },
      "execution_count": 13,
      "outputs": [
        {
          "output_type": "stream",
          "name": "stdout",
          "text": [
            "Collecting onedrivedownloader\n",
            "  Downloading onedrivedownloader-1.1.3-py3-none-any.whl (5.1 kB)\n",
            "Requirement already satisfied: requests in /usr/local/lib/python3.10/dist-packages (from onedrivedownloader) (2.31.0)\n",
            "Requirement already satisfied: tqdm in /usr/local/lib/python3.10/dist-packages (from onedrivedownloader) (4.66.1)\n",
            "Requirement already satisfied: charset-normalizer<4,>=2 in /usr/local/lib/python3.10/dist-packages (from requests->onedrivedownloader) (3.3.1)\n",
            "Requirement already satisfied: idna<4,>=2.5 in /usr/local/lib/python3.10/dist-packages (from requests->onedrivedownloader) (3.4)\n",
            "Requirement already satisfied: urllib3<3,>=1.21.1 in /usr/local/lib/python3.10/dist-packages (from requests->onedrivedownloader) (2.0.7)\n",
            "Requirement already satisfied: certifi>=2017.4.17 in /usr/local/lib/python3.10/dist-packages (from requests->onedrivedownloader) (2023.7.22)\n",
            "Installing collected packages: onedrivedownloader\n",
            "Successfully installed onedrivedownloader-1.1.3\n"
          ]
        },
        {
          "output_type": "stream",
          "name": "stderr",
          "text": [
            "100%|██████████| 415M/415M [00:13<00:00, 31.5MiB/s]\n"
          ]
        },
        {
          "output_type": "stream",
          "name": "stdout",
          "text": [
            "Unzipping file...\n"
          ]
        },
        {
          "output_type": "stream",
          "name": "stderr",
          "text": [
            "Extracting files: 100%|██████████| 139/139 [00:08<00:00, 17.00it/s]\n"
          ]
        },
        {
          "output_type": "execute_result",
          "data": {
            "text/plain": [
              "''"
            ],
            "application/vnd.google.colaboratory.intrinsic+json": {
              "type": "string"
            }
          },
          "metadata": {},
          "execution_count": 13
        }
      ]
    },
    {
      "cell_type": "markdown",
      "source": [
        "Vamos a explorar ambas carpetas:\n",
        "- Tenemos una carpeta que se llama `Data` que contiene tres subcarpetas: `test`, `train` y `valid`.\n",
        "  - A su vez, dentro de cada carpeta, tenemos 4 subcarpetas que contienen 4 categorías (posibles patologías)\n",
        "- Por otro lado hay una carpeta que se llama `files` que contiene 8 carpetas con nombres de categorías (posibles patologías)\n",
        "\n",
        "Como los nombres de `Data` y `files` no son muy descriptivos de los problemas que queremos resolver, vamos a renombrar ambas carpetas.\n",
        "\n",
        "Esto lo vamos a hacer con código para que así no haya que hacerlo manualmente."
      ],
      "metadata": {
        "id": "N4ZhXrC-bf2Z"
      }
    },
    {
      "cell_type": "code",
      "source": [
        "!mv Data Chest_CT_Scan\n",
        "!mv files Spine_X_Ray"
      ],
      "metadata": {
        "id": "QD-bGgfvcLLb"
      },
      "execution_count": 14,
      "outputs": []
    },
    {
      "cell_type": "markdown",
      "source": [
        "Una vez que tenemos las carpetas renombradas, es hora de ir leyendo ambas estructuras de carpetas"
      ],
      "metadata": {
        "id": "t2cXeSmOnSZ6"
      }
    },
    {
      "cell_type": "markdown",
      "source": [
        "## Leyendo carpetas con PyTorch\n",
        "\n",
        "### Estructura Train/Valid/Test\n",
        "\n",
        "Con PyTorch es casi directo leer la estructura Train/Valida/Test. Primeramente, hay que definir la transformación que queremos hacer:\n",
        "- Si queremos reescalar las imágenes (muy usado para adaptar la imagen a la entrada de la CNN)\n",
        "- Si queremos convertirla en tensor\n",
        "- Si queremos hacer cualquier tipo de operación\n",
        "\n",
        "Aquí tenéis un ejemplo complejo de transformación ([Fuente](https://github.com/psatler/PyTorch_Challenge_Image_Classifier/blob/master/Facebook_PyTorch%60s_Challenge_Image_Classifier_Project.ipynb))\n",
        "\n",
        "```\n",
        "data_transforms = {\n",
        "    'train': transforms.Compose([ # for training\n",
        "        transforms.RandomRotation(30), # rotating by 30 degrees\n",
        "        transforms.RandomResizedCrop(224),\n",
        "        transforms.RandomHorizontalFlip(),\n",
        "        transforms.ToTensor(),\n",
        "        transforms.Normalize([0.485, 0.456, 0.406], [0.229, 0.224, 0.225])\n",
        "    ]),\n",
        "    'valid': transforms.Compose([ # for validation\n",
        "        transforms.Resize(256),\n",
        "        transforms.CenterCrop(224),\n",
        "        transforms.ToTensor(),\n",
        "        transforms.Normalize([0.485, 0.456, 0.406], [0.229, 0.224, 0.225])\n",
        "    ])\n",
        "}\n",
        "```\n",
        "\n",
        "Una vez hecho eso, hacemos uso de `DataLoader` que es un objeto que, tomando `batches` de tamaño `batch_size` va procesando la carga de datos."
      ],
      "metadata": {
        "id": "eFStY5_enZkN"
      }
    },
    {
      "cell_type": "code",
      "source": [
        "# Define transformaciones para preprocesar las imágenes (ajusta según tus necesidades)\n",
        "transform = transforms.Compose([\n",
        "    transforms.Resize((224, 224)),\n",
        "    transforms.ToTensor(),\n",
        "])"
      ],
      "metadata": {
        "id": "WmyYpQDdn3q2"
      },
      "execution_count": 15,
      "outputs": []
    },
    {
      "cell_type": "code",
      "source": [
        "# Define dataloaders para cargar los datos en lotes\n",
        "train_dataset = datasets.ImageFolder(root='/content/Chest_CT_Scan/train', transform=transform)\n",
        "train_loader = torch.utils.data.DataLoader(train_dataset, batch_size=64, shuffle=True)\n",
        "\n",
        "test_loader = torch.utils.data.DataLoader(datasets.ImageFolder(root='/content/Chest_CT_Scan/test', transform=transform), batch_size=64)\n",
        "valid_loader = torch.utils.data.DataLoader(datasets.ImageFolder(root='/content/Chest_CT_Scan/valid', transform=transform), batch_size=64)"
      ],
      "metadata": {
        "id": "CsuwgWt8nyln"
      },
      "execution_count": 16,
      "outputs": []
    },
    {
      "cell_type": "code",
      "source": [
        "for images, labels in train_loader:\n",
        "  print(labels)"
      ],
      "metadata": {
        "id": "LiF5yFtfpcn6"
      },
      "execution_count": null,
      "outputs": []
    },
    {
      "cell_type": "markdown",
      "source": [
        "### Estructura Categorías (sin Train/Valid/Test específico)\n",
        "\n",
        "Usamos esta manera de cargar datos cuando nuestra carpeta no viene ya dividida en train/valid/test."
      ],
      "metadata": {
        "id": "dvpbsgbwpvHI"
      }
    },
    {
      "cell_type": "code",
      "source": [
        "# Crea un objeto ImageFolder para cargar los datos\n",
        "dataset = datasets.ImageFolder(root='/content/Spine_X_Ray', transform=transform)\n",
        "\n",
        "# Divide los datos en conjuntos de entrenamiento, prueba y validación\n",
        "train_size = int(0.8 * len(dataset))\n",
        "test_size = int(0.1 * len(dataset))\n",
        "valid_size = len(dataset) - train_size - test_size\n",
        "\n",
        "train_dataset, test_dataset, valid_dataset = torch.utils.data.random_split(dataset, [train_size, test_size, valid_size])\n",
        "\n",
        "# Define dataloaders para cargar los datos en lotes\n",
        "train_loader = torch.utils.data.DataLoader(train_dataset, batch_size=64, shuffle=True)\n",
        "test_loader = torch.utils.data.DataLoader(test_dataset, batch_size=64)\n",
        "valid_loader = torch.utils.data.DataLoader(valid_dataset, batch_size=64)\n"
      ],
      "metadata": {
        "id": "Pn5Y6NrFnk6m"
      },
      "execution_count": 18,
      "outputs": []
    },
    {
      "cell_type": "code",
      "source": [
        "for images, labels in train_loader:\n",
        "  print(labels)"
      ],
      "metadata": {
        "colab": {
          "base_uri": "https://localhost:8080/"
        },
        "id": "c_WwlYTJ9_A7",
        "outputId": "12e59302-c314-4800-aa9d-d4126699d42b"
      },
      "execution_count": 19,
      "outputs": [
        {
          "output_type": "stream",
          "name": "stdout",
          "text": [
            "tensor([5, 1, 5, 7, 7, 3, 1, 4, 6, 3, 0, 4, 3, 4, 4, 0, 6, 4, 7, 3, 0, 2, 2, 3,\n",
            "        0, 5, 7, 4, 0, 7, 2, 7, 5, 6, 7, 6, 2, 3, 0, 6, 3, 6, 1, 5, 3, 0, 7, 4,\n",
            "        3, 2, 2, 1, 5, 7, 1])\n"
          ]
        }
      ]
    },
    {
      "cell_type": "markdown",
      "source": [
        "## Leyendo datos con Keras\n",
        "\n",
        "¿Cómo haríamos esto mismo con Keras (por comparar)?\n",
        "\n",
        "### Estructura Train/Valid/Test"
      ],
      "metadata": {
        "id": "PsYwCnejrEBa"
      }
    },
    {
      "cell_type": "code",
      "source": [
        "# https://keras.io/examples/vision/image_classification_from_scratch/\n",
        "\n",
        "import keras\n",
        "image_size = (224, 224)\n",
        "batch_size = 64\n",
        "\n",
        "train_keras = keras.utils.image_dataset_from_directory(\n",
        "    \"/content/Chest_CT_Scan/train\",\n",
        "    labels=\"inferred\",\n",
        "    label_mode=\"int\",\n",
        "    seed=42, # Fijar una semilla aleatoria para facilitar la repetibilidad de los experimentos\n",
        "    image_size=image_size,\n",
        "    batch_size=batch_size,\n",
        ")"
      ],
      "metadata": {
        "colab": {
          "base_uri": "https://localhost:8080/"
        },
        "id": "XKmSvsjsIpFI",
        "outputId": "b5da6aff-4757-4051-db5c-6640d8a7e7ab"
      },
      "execution_count": 31,
      "outputs": [
        {
          "output_type": "stream",
          "name": "stdout",
          "text": [
            "Found 613 files belonging to 4 classes.\n"
          ]
        }
      ]
    },
    {
      "cell_type": "markdown",
      "source": [
        "¿Cómo puedo saber aquí qué etiqueta es cada imagen?"
      ],
      "metadata": {
        "id": "xc4OAVZEvLuZ"
      }
    },
    {
      "cell_type": "code",
      "source": [
        "# El orden de las etiquetas es alfanumérico, es decir, el 2, por ejemplo, corresponderá con normal.\n",
        "for images, labels in train_keras:\n",
        "    print(\"Etiquetas:\", labels)"
      ],
      "metadata": {
        "colab": {
          "base_uri": "https://localhost:8080/"
        },
        "id": "zegxsmUEr8yy",
        "outputId": "e90277f4-8b6f-4804-b2d0-fe5aa43cefa2"
      },
      "execution_count": 21,
      "outputs": [
        {
          "output_type": "stream",
          "name": "stdout",
          "text": [
            "Etiquetas: tf.Tensor(\n",
            "[1 3 2 0 3 0 3 1 1 0 0 0 1 3 3 2 0 2 2 2 0 3 3 0 3 2 0 2 2 0 3 2 2 2 0 0 0\n",
            " 2 2 1 1 1 0 2 1 0 0 2 3 2 2 0 0 0 2 0 3 1 3 3 2 3 3 0], shape=(64,), dtype=int32)\n",
            "Etiquetas: tf.Tensor(\n",
            "[3 0 3 2 1 0 3 2 3 1 0 0 3 3 2 1 1 1 1 1 0 0 3 1 3 2 0 3 2 0 1 2 1 2 0 1 0\n",
            " 2 3 1 0 1 0 3 2 3 1 0 0 3 2 3 0 0 2 0 3 0 0 3 3 2 0 0], shape=(64,), dtype=int32)\n",
            "Etiquetas: tf.Tensor(\n",
            "[2 1 0 1 0 3 3 3 2 0 2 3 1 3 3 3 0 1 3 2 1 2 0 1 3 0 3 2 2 3 1 2 2 0 1 0 1\n",
            " 1 2 1 3 2 2 0 0 3 0 2 2 2 3 2 3 3 2 0 1 1 2 3 3 3 0 0], shape=(64,), dtype=int32)\n",
            "Etiquetas: tf.Tensor(\n",
            "[0 2 2 3 0 1 0 0 0 3 1 0 1 3 3 3 0 2 3 2 2 3 3 3 0 0 2 1 3 2 1 2 2 2 3 0 1\n",
            " 0 0 0 0 0 1 3 2 3 2 1 1 0 2 1 2 2 0 0 2 0 0 3 2 1 2 3], shape=(64,), dtype=int32)\n",
            "Etiquetas: tf.Tensor(\n",
            "[3 2 3 2 2 2 3 2 2 2 0 0 1 0 1 2 2 2 3 2 3 1 1 2 0 0 2 0 3 1 0 0 3 3 1 0 2\n",
            " 1 2 1 0 0 0 3 0 1 0 2 0 0 0 0 0 3 0 3 3 1 2 2 1 0 0 0], shape=(64,), dtype=int32)\n",
            "Etiquetas: tf.Tensor(\n",
            "[2 0 0 3 2 0 1 3 1 0 2 0 3 3 3 0 3 3 3 2 1 1 3 0 0 1 0 0 0 0 0 0 3 1 2 2 0\n",
            " 0 3 0 0 0 0 0 0 0 2 3 2 2 3 1 0 0 2 2 0 0 0 0 2 1 1 0], shape=(64,), dtype=int32)\n",
            "Etiquetas: tf.Tensor(\n",
            "[1 2 0 1 0 3 1 1 0 2 3 3 0 3 1 2 0 3 2 1 2 1 2 3 3 0 0 1 3 2 0 3 3 0 1 1 0\n",
            " 1 0 3 1 3 1 2 3 0 2 1 0 1 2 3 2 3 2 1 3 1 0 0 3 0 1 2], shape=(64,), dtype=int32)\n",
            "Etiquetas: tf.Tensor(\n",
            "[0 3 0 2 1 1 1 3 3 3 0 3 2 2 1 2 0 3 3 0 0 2 2 3 3 3 0 0 1 2 2 3 3 1 1 1 0\n",
            " 2 0 3 3 3 1 3 2 0 0 1 0 1 3 0 3 2 0 0 0 0 3 3 0 2 0 3], shape=(64,), dtype=int32)\n",
            "Etiquetas: tf.Tensor(\n",
            "[3 0 3 2 0 3 2 2 3 0 3 3 1 2 3 0 2 0 1 1 2 2 0 1 3 2 3 1 0 3 3 2 3 0 3 3 3\n",
            " 3 0 3 0 1 3 1 1 0 3 2 0 2 1 2 0 2 2 2 3 0 0 2 0 0 0 1], shape=(64,), dtype=int32)\n",
            "Etiquetas: tf.Tensor([0 0 1 1 2 0 3 2 2 0 2 0 2 0 1 0 2 3 0 3 0 1 2 1 3 3 0 3 2 2 1 0 1 1 1 0 2], shape=(37,), dtype=int32)\n"
          ]
        }
      ]
    },
    {
      "cell_type": "code",
      "source": [
        "train_keras, val_keras = keras.utils.image_dataset_from_directory(\n",
        "    \"/content/Spine_X_Ray\",\n",
        "    validation_split=0.2,\n",
        "    subset=\"both\",\n",
        "    seed=42,\n",
        "    image_size=image_size,\n",
        "    batch_size=batch_size,\n",
        "    labels=\"inferred\",\n",
        "    label_mode=\"int\",\n",
        ")"
      ],
      "metadata": {
        "colab": {
          "base_uri": "https://localhost:8080/"
        },
        "id": "tpI6RSaEI5Ij",
        "outputId": "5cf6217e-456d-4e58-e9cd-0242b6e64ec0"
      },
      "execution_count": 22,
      "outputs": [
        {
          "output_type": "stream",
          "name": "stdout",
          "text": [
            "Found 69 files belonging to 8 classes.\n",
            "Using 56 files for training.\n",
            "Using 13 files for validation.\n"
          ]
        }
      ]
    },
    {
      "cell_type": "code",
      "source": [
        "# El orden de las etiquetas es alfanumérico, es decir, el 0, en este caso, corresponderá con disability.\n",
        "for images, labels in train_keras:\n",
        "    print(\"Etiquetas:\", labels)"
      ],
      "metadata": {
        "colab": {
          "base_uri": "https://localhost:8080/"
        },
        "id": "pL38WrWlI9pM",
        "outputId": "9d7411da-6743-490f-8fd5-6ac042551626"
      },
      "execution_count": 23,
      "outputs": [
        {
          "output_type": "stream",
          "name": "stdout",
          "text": [
            "Etiquetas: tf.Tensor(\n",
            "[4 5 1 6 2 3 1 5 5 2 0 4 2 7 4 0 2 4 5 0 3 0 1 2 5 7 2 7 6 7 1 3 5 3 6 1 3\n",
            " 4 0 7 3 5 7 6 1 0 4 7 7 3 6 6 0 3 4 3], shape=(56,), dtype=int32)\n"
          ]
        }
      ]
    },
    {
      "cell_type": "markdown",
      "source": [
        "---\n",
        "\n",
        "En resumen, lo que hemos visto hasta aquí son:\n",
        "- Dos maneras diferentes de guardar la información en carpetas:\n",
        "  - Bien por categorías (sin hacer split de train y test explícitamente en las carpetas)\n",
        "  - Bien por train/test y dentro de cada carpeta las categorías\n",
        "\n",
        "- Además, hemos visto dos tipos de sintaxis de cómo acceder: `Keras` y `PyTorch`.\n",
        "\n",
        "---\n"
      ],
      "metadata": {
        "id": "Tx_Ga7QatK0j"
      }
    },
    {
      "cell_type": "markdown",
      "source": [
        "# Creando una Red Neuronal\n",
        "\n",
        "Al igual que con `Keras` podemos crear la red neuronal desde cero, y también tenemos la posibilidad de usar un comando llamado `Sequential()`, pero PyTorch nos permite crear la red neuronal como si fuera un objeto (clase) de Python (y esto tiene sus ventajas)"
      ],
      "metadata": {
        "id": "AadT1nxayOdl"
      }
    },
    {
      "cell_type": "code",
      "source": [
        "from torch import flatten\n",
        "\n",
        "# Definir una red neuronal convolucional sencilla\n",
        "class SimpleCNN(nn.Module):\n",
        "    def __init__(self, num_clases, input_size):\n",
        "        super(SimpleCNN, self).__init__()\n",
        "        self.input_size = input_size\n",
        "        self.conv1 = nn.Conv2d(self.input_size[1], 32, kernel_size=3) # 1 es el número de canales; 32, número de filtros\n",
        "        self.relu = nn.ReLU()\n",
        "        self.pool = nn.MaxPool2d(2, 2)\n",
        "        self.fc1 = nn.Linear(32*111*111, 128) # 128 número de neuronas, 111 es 222/2 (224 sin la parte de la convolución)\n",
        "        self.fc2 = nn.Linear(128, num_clases) # 10 número de clases\n",
        "\n",
        "    def forward(self, x):\n",
        "      # Aquí es donde se define el orden\n",
        "        x = self.conv1(x)\n",
        "        x = self.relu(x)\n",
        "        x = self.pool(x)\n",
        "        print(x.shape)\n",
        "        x = flatten(x, 1)\n",
        "        x = self.fc1(x)\n",
        "        x = self.relu(x)\n",
        "        x = self.fc2(x)\n",
        "        return x\n",
        "\n",
        "# Crear una instancia del modelo\n",
        "num_clases = 8\n",
        "\n",
        "# Para que funcione la red neuronal, tenemos que añadirle una dimensión adicional al principio\n",
        "# Esta dimensión indica el número de imágenes que le pasaremos de forma simultánea.\n",
        "input_size = train_dataset[0][0].unsqueeze(0).size()\n",
        "model = SimpleCNN(num_clases, input_size)"
      ],
      "metadata": {
        "id": "XLq605UnI_8K"
      },
      "execution_count": 40,
      "outputs": []
    },
    {
      "cell_type": "code",
      "source": [
        "model"
      ],
      "metadata": {
        "colab": {
          "base_uri": "https://localhost:8080/"
        },
        "id": "JmXv7hCjt_PF",
        "outputId": "8e6312c8-efce-4bbe-9a09-5d9719d608d6"
      },
      "execution_count": 41,
      "outputs": [
        {
          "output_type": "execute_result",
          "data": {
            "text/plain": [
              "SimpleCNN(\n",
              "  (conv1): Conv2d(3, 32, kernel_size=(3, 3), stride=(1, 1))\n",
              "  (relu): ReLU()\n",
              "  (pool): MaxPool2d(kernel_size=2, stride=2, padding=0, dilation=1, ceil_mode=False)\n",
              "  (fc1): Linear(in_features=394272, out_features=128, bias=True)\n",
              "  (fc2): Linear(in_features=128, out_features=8, bias=True)\n",
              ")"
            ]
          },
          "metadata": {},
          "execution_count": 41
        }
      ]
    },
    {
      "cell_type": "code",
      "source": [
        "# Con esto vamos a medir el tiempo que se tarda en ejecutar cada iteración\n",
        "import time"
      ],
      "metadata": {
        "id": "woSXmpPMvDrK"
      },
      "execution_count": 48,
      "outputs": []
    },
    {
      "cell_type": "code",
      "source": [
        "# Definir la función de pérdida y el optimizador\n",
        "criterion = nn.CrossEntropyLoss()\n",
        "optimizer = optim.SGD(model.parameters(), lr=0.01)\n",
        "model.to('cpu')\n",
        "\n",
        "# Entrenar la CNN\n",
        "for epoch in range(10):\n",
        "    for inputs, labels in train_loader:\n",
        "        start_time = time.time()\n",
        "        optimizer.zero_grad()\n",
        "        outputs = model(inputs)\n",
        "        loss = criterion(outputs, labels)\n",
        "        loss.backward()\n",
        "        optimizer.step()\n",
        "    print(f'Época {epoch + 1}, Pérdida: {loss.item()}, Tiempo: {time.time() - start_time}')\n"
      ],
      "metadata": {
        "colab": {
          "base_uri": "https://localhost:8080/"
        },
        "id": "_0cGocy5uD2B",
        "outputId": "a93e47bf-8621-4d17-b9ed-f0dfea19033c"
      },
      "execution_count": 50,
      "outputs": [
        {
          "output_type": "stream",
          "name": "stdout",
          "text": [
            "torch.Size([55, 32, 111, 111])\n",
            "Época 1, Pérdida: 1.8546369075775146, Tiempo: 2.516867160797119\n",
            "torch.Size([55, 32, 111, 111])\n",
            "Época 2, Pérdida: 1.8398995399475098, Tiempo: 2.683483839035034\n",
            "torch.Size([55, 32, 111, 111])\n",
            "Época 3, Pérdida: 1.8252040147781372, Tiempo: 2.4408559799194336\n",
            "torch.Size([55, 32, 111, 111])\n",
            "Época 4, Pérdida: 1.8098971843719482, Tiempo: 2.456357002258301\n",
            "torch.Size([55, 32, 111, 111])\n",
            "Época 5, Pérdida: 1.793804407119751, Tiempo: 2.801997184753418\n",
            "torch.Size([55, 32, 111, 111])\n",
            "Época 6, Pérdida: 1.7771210670471191, Tiempo: 2.426923990249634\n",
            "torch.Size([55, 32, 111, 111])\n",
            "Época 7, Pérdida: 1.7601875066757202, Tiempo: 2.762653350830078\n",
            "torch.Size([55, 32, 111, 111])\n",
            "Época 8, Pérdida: 1.7459213733673096, Tiempo: 2.442310333251953\n",
            "torch.Size([55, 32, 111, 111])\n",
            "Época 9, Pérdida: 1.735828161239624, Tiempo: 2.4269680976867676\n",
            "torch.Size([55, 32, 111, 111])\n",
            "Época 10, Pérdida: 1.758276343345642, Tiempo: 2.8094890117645264\n"
          ]
        }
      ]
    },
    {
      "cell_type": "code",
      "source": [
        "# Definir la función de pérdida y el optimizador\n",
        "criterion = nn.CrossEntropyLoss()\n",
        "optimizer = optim.SGD(model.parameters(), lr=0.01)\n",
        "model.to(device)\n",
        "\n",
        "# Entrenar la CNN\n",
        "for epoch in range(10):\n",
        "    for inputs, labels in train_loader:\n",
        "        start_time = time.time()\n",
        "        inputs = inputs.to(device)\n",
        "        labels = labels.to(device)\n",
        "        optimizer.zero_grad()\n",
        "        outputs = model(inputs)\n",
        "        loss = criterion(outputs, labels)\n",
        "        loss.backward()\n",
        "        optimizer.step()\n",
        "    print(f'Época {epoch + 1}, Pérdida: {loss.item()}, Tiempo: {time.time() - start_time}')\n"
      ],
      "metadata": {
        "colab": {
          "base_uri": "https://localhost:8080/"
        },
        "id": "n95hTDIqujGj",
        "outputId": "87c806fc-6d42-4119-be79-90af47d0d0a5"
      },
      "execution_count": 52,
      "outputs": [
        {
          "output_type": "stream",
          "name": "stdout",
          "text": [
            "torch.Size([55, 32, 111, 111])\n",
            "Época 1, Pérdida: 1.9904590845108032, Tiempo: 0.05534791946411133\n",
            "torch.Size([55, 32, 111, 111])\n",
            "Época 2, Pérdida: 1.847669243812561, Tiempo: 0.056267499923706055\n",
            "torch.Size([55, 32, 111, 111])\n",
            "Época 3, Pérdida: 1.7214165925979614, Tiempo: 0.05567288398742676\n",
            "torch.Size([55, 32, 111, 111])\n",
            "Época 4, Pérdida: 1.7213284969329834, Tiempo: 0.055493831634521484\n",
            "torch.Size([55, 32, 111, 111])\n",
            "Época 5, Pérdida: 1.6937695741653442, Tiempo: 0.05545616149902344\n",
            "torch.Size([55, 32, 111, 111])\n",
            "Época 6, Pérdida: 1.7147456407546997, Tiempo: 0.05546069145202637\n",
            "torch.Size([55, 32, 111, 111])\n",
            "Época 7, Pérdida: 1.700557827949524, Tiempo: 0.055664777755737305\n",
            "torch.Size([55, 32, 111, 111])\n",
            "Época 8, Pérdida: 1.742448091506958, Tiempo: 0.055505990982055664\n",
            "torch.Size([55, 32, 111, 111])\n",
            "Época 9, Pérdida: 1.6838570833206177, Tiempo: 0.05525517463684082\n",
            "torch.Size([55, 32, 111, 111])\n",
            "Época 10, Pérdida: 1.7188398838043213, Tiempo: 0.055399179458618164\n"
          ]
        }
      ]
    },
    {
      "cell_type": "code",
      "source": [
        "# Evaluar el modelo en el conjunto de prueba\n",
        "correct = 0\n",
        "total = 0\n",
        "model.eval()\n",
        "with torch.no_grad():\n",
        "    for inputs, labels in test_loader:\n",
        "        inputs = inputs.to(device)\n",
        "        labels = labels.to(device)\n",
        "        outputs = model(inputs)\n",
        "        _, predicted = torch.max(outputs.data, 1)\n",
        "        total += labels.size(0)\n",
        "        correct += (predicted == labels).sum().item()\n",
        "\n",
        "print(f'Precisión en el conjunto de prueba: {100 * correct / total}%')\n"
      ],
      "metadata": {
        "colab": {
          "base_uri": "https://localhost:8080/"
        },
        "id": "vDpKESqMNeIf",
        "outputId": "56548efd-d15f-4638-f827-8a93571bbf04"
      },
      "execution_count": 53,
      "outputs": [
        {
          "output_type": "stream",
          "name": "stdout",
          "text": [
            "torch.Size([6, 32, 111, 111])\n",
            "Precisión en el conjunto de prueba: 16.666666666666668%\n"
          ]
        }
      ]
    },
    {
      "cell_type": "markdown",
      "source": [
        "En PyTorch es habitual indicarle cuándo hay que hacer predicciones o validaciones. Es decir, cuándo hay que decirle que pare de entrenar. Para ello, hay dos maneras:\n",
        "\n",
        "- `model.eval()` para indicarle que desde ese momento el modelo está en modo evaluación (haciendo predicciones)\n",
        "- `with torch.no_grad()` para indicarle que para esas operaciones los gradientes no deben actualizarse\n",
        "  - Actualizar los gradientes implica ajustar más datos y por lo tanto aprender"
      ],
      "metadata": {
        "id": "NRVI3updwcD2"
      }
    },
    {
      "cell_type": "markdown",
      "source": [
        "Para ver el modelo que hemos creado, simplemente invocamos al nombre del modelo: `model`"
      ],
      "metadata": {
        "id": "bV6XuYYIxAib"
      }
    },
    {
      "cell_type": "code",
      "source": [
        "model"
      ],
      "metadata": {
        "colab": {
          "base_uri": "https://localhost:8080/"
        },
        "id": "5ASkZ7BTQWzI",
        "outputId": "8482aa4e-422a-449c-fe47-9e05436c3521"
      },
      "execution_count": 54,
      "outputs": [
        {
          "output_type": "execute_result",
          "data": {
            "text/plain": [
              "SimpleCNN(\n",
              "  (conv1): Conv2d(3, 32, kernel_size=(3, 3), stride=(1, 1))\n",
              "  (relu): ReLU()\n",
              "  (pool): MaxPool2d(kernel_size=2, stride=2, padding=0, dilation=1, ceil_mode=False)\n",
              "  (fc1): Linear(in_features=394272, out_features=128, bias=True)\n",
              "  (fc2): Linear(in_features=128, out_features=8, bias=True)\n",
              ")"
            ]
          },
          "metadata": {},
          "execution_count": 54
        }
      ]
    },
    {
      "cell_type": "markdown",
      "source": [
        "## Predicciones con un modelo pre-entrenado (Transfer Learning)\n",
        "\n",
        "Como hemos visto en clase, no es habitual entrenar una red neuronal desde cero. Lo habitual es descargar una red neuronal ya pre-entrenada, y mediante Transfer Learning, adaptarla a nuestras necesidades"
      ],
      "metadata": {
        "id": "yckexsZBzRjD"
      }
    },
    {
      "cell_type": "markdown",
      "source": [
        "Vamos a cargar nuestra conocida VGG16 (puede ser otra cualquiera, pero esta ya la hemos usado en otros contextos)"
      ],
      "metadata": {
        "id": "TNoda0QmzteO"
      }
    },
    {
      "cell_type": "code",
      "source": [
        "from torchvision import models\n",
        "vgg_model = models.vgg16(pretrained=True)"
      ],
      "metadata": {
        "colab": {
          "base_uri": "https://localhost:8080/"
        },
        "id": "_BUEdNgu9x3l",
        "outputId": "6ffc7078-3a89-41dd-ad40-eba139d1d812"
      },
      "execution_count": 55,
      "outputs": [
        {
          "output_type": "stream",
          "name": "stderr",
          "text": [
            "/usr/local/lib/python3.10/dist-packages/torchvision/models/_utils.py:208: UserWarning: The parameter 'pretrained' is deprecated since 0.13 and may be removed in the future, please use 'weights' instead.\n",
            "  warnings.warn(\n",
            "/usr/local/lib/python3.10/dist-packages/torchvision/models/_utils.py:223: UserWarning: Arguments other than a weight enum or `None` for 'weights' are deprecated since 0.13 and may be removed in the future. The current behavior is equivalent to passing `weights=VGG16_Weights.IMAGENET1K_V1`. You can also use `weights=VGG16_Weights.DEFAULT` to get the most up-to-date weights.\n",
            "  warnings.warn(msg)\n",
            "Downloading: \"https://download.pytorch.org/models/vgg16-397923af.pth\" to /root/.cache/torch/hub/checkpoints/vgg16-397923af.pth\n",
            "100%|██████████| 528M/528M [00:07<00:00, 77.9MB/s]\n"
          ]
        }
      ]
    },
    {
      "cell_type": "markdown",
      "source": [
        "Para el aprendizaje por transferencia, fijamos las capas preentrenadas (excepto la última capa de clasificación) para evitar que se actualicen durante el entrenamiento en tus datos.\n"
      ],
      "metadata": {
        "id": "EBimw9AG0ESW"
      }
    },
    {
      "cell_type": "code",
      "source": [
        "for param in vgg_model.features.parameters():\n",
        "    param.requires_grad = False"
      ],
      "metadata": {
        "id": "qWydkqAvzHm7"
      },
      "execution_count": 56,
      "outputs": []
    },
    {
      "cell_type": "markdown",
      "source": [
        "Ahora, reemplazamos la capa de clasificación final para que coincida con el número de clases de nuestro problema."
      ],
      "metadata": {
        "id": "TNmEVj3R1Vrm"
      }
    },
    {
      "cell_type": "code",
      "source": [
        "num_classes = 8  # Número de clases en tu problema\n",
        "vgg_model.classifier[6] = nn.Linear(4096, num_classes)  # Reemplaza la última capa lineal"
      ],
      "metadata": {
        "id": "OUl4Z7I_0QSi"
      },
      "execution_count": 57,
      "outputs": []
    },
    {
      "cell_type": "markdown",
      "source": [
        "Definimos la función pérdida y el optimizador"
      ],
      "metadata": {
        "id": "_xyE87xf1uYk"
      }
    },
    {
      "cell_type": "code",
      "source": [
        "criterion = nn.CrossEntropyLoss()\n",
        "optimizer = optim.SGD(vgg_model.parameters(), lr=0.001, momentum=0.9)"
      ],
      "metadata": {
        "id": "hQSRVQ9X1gp_"
      },
      "execution_count": 58,
      "outputs": []
    },
    {
      "cell_type": "markdown",
      "source": [
        "Realizamos el entrenamiento"
      ],
      "metadata": {
        "id": "hqgA-94P12EQ"
      }
    },
    {
      "cell_type": "code",
      "source": [
        "num_epochs = 10  # Número de épocas de entrenamiento\n",
        "vgg_model.to(device)\n",
        "\n",
        "for epoch in range(num_epochs):\n",
        "    vgg_model.train()  # Cambia al modo de entrenamiento\n",
        "    for inputs, labels in train_loader:\n",
        "        inputs = inputs.to(device)\n",
        "        labels = labels.to(device)\n",
        "        optimizer.zero_grad()\n",
        "        outputs = vgg_model(inputs)\n",
        "        loss = criterion(outputs, labels)\n",
        "        loss.backward()\n",
        "        optimizer.step()\n",
        "\n",
        "    # Validación\n",
        "    vgg_model.eval()  # Cambia al modo de evaluación\n",
        "    correct = 0\n",
        "    total = 0\n",
        "    with torch.no_grad():\n",
        "        for inputs, labels in valid_loader:\n",
        "            inputs = inputs.to(device)\n",
        "            labels = labels.to(device)\n",
        "            outputs = vgg_model(inputs)\n",
        "            _, predicted = torch.max(outputs, 1)\n",
        "            total += labels.size(0)\n",
        "            print(predicted)\n",
        "            print(labels)\n",
        "            correct += (predicted == labels).sum().item()\n",
        "\n",
        "    accuracy = 100 * correct / total\n",
        "    print(f'Epoch {epoch+1}/{num_epochs}, Loss: {loss:.4f}, Validation Accuracy: {accuracy:.2f}%')\n"
      ],
      "metadata": {
        "colab": {
          "base_uri": "https://localhost:8080/"
        },
        "id": "YgH3emeZ1x05",
        "outputId": "b4d3c802-4d9a-428c-fd72-e7d02b291ab8"
      },
      "execution_count": 61,
      "outputs": [
        {
          "output_type": "stream",
          "name": "stdout",
          "text": [
            "tensor([5, 3, 5, 0, 7, 3, 7, 5], device='cuda:0')\n",
            "tensor([2, 5, 2, 3, 7, 6, 5, 0], device='cuda:0')\n",
            "Epoch 1/10, Loss: 1.8125, Validation Accuracy: 12.50%\n",
            "tensor([5, 1, 5, 0, 7, 3, 7, 5], device='cuda:0')\n",
            "tensor([2, 5, 2, 3, 7, 6, 5, 0], device='cuda:0')\n",
            "Epoch 2/10, Loss: 1.7623, Validation Accuracy: 12.50%\n",
            "tensor([5, 1, 5, 0, 4, 3, 7, 5], device='cuda:0')\n",
            "tensor([2, 5, 2, 3, 7, 6, 5, 0], device='cuda:0')\n",
            "Epoch 3/10, Loss: 1.7138, Validation Accuracy: 0.00%\n",
            "tensor([5, 1, 5, 0, 4, 3, 7, 5], device='cuda:0')\n",
            "tensor([2, 5, 2, 3, 7, 6, 5, 0], device='cuda:0')\n",
            "Epoch 4/10, Loss: 1.7079, Validation Accuracy: 0.00%\n",
            "tensor([5, 1, 5, 0, 4, 3, 7, 5], device='cuda:0')\n",
            "tensor([2, 5, 2, 3, 7, 6, 5, 0], device='cuda:0')\n",
            "Epoch 5/10, Loss: 1.6014, Validation Accuracy: 0.00%\n",
            "tensor([5, 3, 5, 0, 4, 3, 7, 5], device='cuda:0')\n",
            "tensor([2, 5, 2, 3, 7, 6, 5, 0], device='cuda:0')\n",
            "Epoch 6/10, Loss: 1.5583, Validation Accuracy: 0.00%\n",
            "tensor([5, 3, 5, 0, 4, 3, 7, 5], device='cuda:0')\n",
            "tensor([2, 5, 2, 3, 7, 6, 5, 0], device='cuda:0')\n",
            "Epoch 7/10, Loss: 1.5632, Validation Accuracy: 0.00%\n",
            "tensor([5, 3, 5, 0, 4, 3, 7, 5], device='cuda:0')\n",
            "tensor([2, 5, 2, 3, 7, 6, 5, 0], device='cuda:0')\n",
            "Epoch 8/10, Loss: 1.5172, Validation Accuracy: 0.00%\n",
            "tensor([5, 3, 5, 0, 4, 3, 3, 5], device='cuda:0')\n",
            "tensor([2, 5, 2, 3, 7, 6, 5, 0], device='cuda:0')\n",
            "Epoch 9/10, Loss: 1.4531, Validation Accuracy: 0.00%\n",
            "tensor([5, 3, 5, 0, 4, 3, 3, 5], device='cuda:0')\n",
            "tensor([2, 5, 2, 3, 7, 6, 5, 0], device='cuda:0')\n",
            "Epoch 10/10, Loss: 1.4116, Validation Accuracy: 0.00%\n"
          ]
        }
      ]
    },
    {
      "cell_type": "code",
      "source": [
        "# Transformada más compleja para Data Augmentation\n",
        "transform_augmentation = transforms.Compose([\n",
        "        transforms.RandomResizedCrop(224),\n",
        "        transforms.RandomHorizontalFlip(),\n",
        "        transforms.ColorJitter(brightness=0.2, contrast=0.2, saturation=0.2, hue=0.2),\n",
        "        transforms.RandomRotation(20),\n",
        "        transforms.ToTensor(),\n",
        "        transforms.Normalize(mean=[0.485, 0.456, 0.406], std=[0.229, 0.224, 0.225])\n",
        "    ])\n",
        "\n",
        "# Crea un objeto ImageFolder para cargar los datos\n",
        "dataset = datasets.ImageFolder(root='/content/Spine_X_Ray', transform=transform_augmentation)\n",
        "\n",
        "# Divide los datos en conjuntos de entrenamiento, prueba y validación\n",
        "train_size = int(0.8 * len(dataset))\n",
        "test_size = int(0.1 * len(dataset))\n",
        "valid_size = len(dataset) - train_size - test_size\n",
        "\n",
        "train_dataset, test_dataset, valid_dataset = torch.utils.data.random_split(dataset, [train_size, test_size, valid_size])\n",
        "\n",
        "# Define dataloaders para cargar los datos en lotes\n",
        "train_loader = torch.utils.data.DataLoader(train_dataset, batch_size=64, shuffle=True)\n",
        "test_loader = torch.utils.data.DataLoader(test_dataset, batch_size=64)\n",
        "valid_loader = torch.utils.data.DataLoader(valid_dataset, batch_size=64)\n"
      ],
      "metadata": {
        "id": "tQ0LZImoAdNV"
      },
      "execution_count": 62,
      "outputs": []
    },
    {
      "cell_type": "code",
      "source": [
        "num_epochs = 100  # Número de épocas de entrenamiento\n",
        "\n",
        "for epoch in range(num_epochs):\n",
        "    vgg_model.train()  # Cambia al modo de entrenamiento\n",
        "    for inputs, labels in train_loader:\n",
        "        optimizer.zero_grad()\n",
        "        inputs = inputs.to(device)\n",
        "        labels = labels.to(device)\n",
        "        outputs = vgg_model(inputs)\n",
        "        loss = criterion(outputs, labels)\n",
        "        loss.backward()\n",
        "        optimizer.step()\n",
        "\n",
        "    # Validación\n",
        "    vgg_model.eval()  # Cambia al modo de evaluación\n",
        "    correct = 0\n",
        "    total = 0\n",
        "    with torch.no_grad():\n",
        "        for inputs, labels in valid_loader:\n",
        "            inputs = inputs.to(device)\n",
        "            labels = labels.to(device)\n",
        "            outputs = vgg_model(inputs)\n",
        "            _, predicted = torch.max(outputs, 1)\n",
        "            total += labels.size(0)\n",
        "            print(predicted)\n",
        "            print(labels)\n",
        "            correct += (predicted == labels).sum().item()\n",
        "\n",
        "    accuracy = 100 * correct / total\n",
        "    print(f'Epoch {epoch+1}/{num_epochs}, Loss: {loss:.4f}, Validation Accuracy: {accuracy:.2f}%')\n"
      ],
      "metadata": {
        "colab": {
          "base_uri": "https://localhost:8080/"
        },
        "id": "AXw7bsZC-CXR",
        "outputId": "91f36607-9bd3-4193-b33e-a7deab9ca879"
      },
      "execution_count": 65,
      "outputs": [
        {
          "output_type": "stream",
          "name": "stdout",
          "text": [
            "tensor([3, 7, 3, 2, 1, 2, 5, 6], device='cuda:0')\n",
            "tensor([0, 6, 0, 4, 4, 0, 1, 6], device='cuda:0')\n",
            "Epoch 1/100, Loss: 1.8162, Validation Accuracy: 12.50%\n",
            "tensor([1, 3, 0, 7, 2, 0, 5, 3], device='cuda:0')\n",
            "tensor([0, 6, 0, 4, 4, 0, 1, 6], device='cuda:0')\n",
            "Epoch 2/100, Loss: 1.8317, Validation Accuracy: 25.00%\n",
            "tensor([2, 2, 0, 2, 1, 5, 5, 3], device='cuda:0')\n",
            "tensor([0, 6, 0, 4, 4, 0, 1, 6], device='cuda:0')\n",
            "Epoch 3/100, Loss: 1.9260, Validation Accuracy: 12.50%\n",
            "tensor([2, 2, 0, 2, 5, 5, 5, 5], device='cuda:0')\n",
            "tensor([0, 6, 0, 4, 4, 0, 1, 6], device='cuda:0')\n",
            "Epoch 4/100, Loss: 1.7382, Validation Accuracy: 12.50%\n",
            "tensor([3, 1, 3, 2, 1, 3, 5, 6], device='cuda:0')\n",
            "tensor([0, 6, 0, 4, 4, 0, 1, 6], device='cuda:0')\n",
            "Epoch 5/100, Loss: 1.7492, Validation Accuracy: 12.50%\n",
            "tensor([2, 7, 0, 7, 1, 7, 3, 5], device='cuda:0')\n",
            "tensor([0, 6, 0, 4, 4, 0, 1, 6], device='cuda:0')\n",
            "Epoch 6/100, Loss: 1.8239, Validation Accuracy: 12.50%\n",
            "tensor([3, 5, 0, 6, 5, 3, 5, 1], device='cuda:0')\n",
            "tensor([0, 6, 0, 4, 4, 0, 1, 6], device='cuda:0')\n",
            "Epoch 7/100, Loss: 1.8445, Validation Accuracy: 12.50%\n",
            "tensor([2, 3, 3, 3, 7, 6, 1, 7], device='cuda:0')\n",
            "tensor([0, 6, 0, 4, 4, 0, 1, 6], device='cuda:0')\n",
            "Epoch 8/100, Loss: 1.7297, Validation Accuracy: 12.50%\n",
            "tensor([3, 5, 0, 7, 1, 3, 3, 7], device='cuda:0')\n",
            "tensor([0, 6, 0, 4, 4, 0, 1, 6], device='cuda:0')\n",
            "Epoch 9/100, Loss: 1.8837, Validation Accuracy: 12.50%\n",
            "tensor([3, 7, 0, 7, 2, 6, 5, 3], device='cuda:0')\n",
            "tensor([0, 6, 0, 4, 4, 0, 1, 6], device='cuda:0')\n",
            "Epoch 10/100, Loss: 1.7537, Validation Accuracy: 12.50%\n",
            "tensor([2, 7, 0, 3, 7, 3, 5, 1], device='cuda:0')\n",
            "tensor([0, 6, 0, 4, 4, 0, 1, 6], device='cuda:0')\n",
            "Epoch 11/100, Loss: 1.8189, Validation Accuracy: 12.50%\n",
            "tensor([3, 7, 0, 5, 1, 6, 7, 5], device='cuda:0')\n",
            "tensor([0, 6, 0, 4, 4, 0, 1, 6], device='cuda:0')\n",
            "Epoch 12/100, Loss: 1.7586, Validation Accuracy: 12.50%\n",
            "tensor([3, 7, 0, 1, 1, 7, 5, 7], device='cuda:0')\n",
            "tensor([0, 6, 0, 4, 4, 0, 1, 6], device='cuda:0')\n",
            "Epoch 13/100, Loss: 1.7837, Validation Accuracy: 12.50%\n",
            "tensor([2, 1, 0, 7, 1, 5, 7, 5], device='cuda:0')\n",
            "tensor([0, 6, 0, 4, 4, 0, 1, 6], device='cuda:0')\n",
            "Epoch 14/100, Loss: 1.8944, Validation Accuracy: 12.50%\n",
            "tensor([2, 2, 7, 7, 1, 1, 2, 1], device='cuda:0')\n",
            "tensor([0, 6, 0, 4, 4, 0, 1, 6], device='cuda:0')\n",
            "Epoch 15/100, Loss: 1.7809, Validation Accuracy: 0.00%\n",
            "tensor([2, 5, 0, 3, 1, 7, 5, 1], device='cuda:0')\n",
            "tensor([0, 6, 0, 4, 4, 0, 1, 6], device='cuda:0')\n",
            "Epoch 16/100, Loss: 1.6768, Validation Accuracy: 12.50%\n",
            "tensor([1, 5, 6, 2, 5, 3, 5, 1], device='cuda:0')\n",
            "tensor([0, 6, 0, 4, 4, 0, 1, 6], device='cuda:0')\n",
            "Epoch 17/100, Loss: 1.7884, Validation Accuracy: 0.00%\n",
            "tensor([6, 3, 2, 3, 1, 6, 2, 6], device='cuda:0')\n",
            "tensor([0, 6, 0, 4, 4, 0, 1, 6], device='cuda:0')\n",
            "Epoch 18/100, Loss: 1.7018, Validation Accuracy: 12.50%\n",
            "tensor([6, 5, 0, 7, 1, 5, 1, 3], device='cuda:0')\n",
            "tensor([0, 6, 0, 4, 4, 0, 1, 6], device='cuda:0')\n",
            "Epoch 19/100, Loss: 1.7874, Validation Accuracy: 25.00%\n",
            "tensor([2, 2, 6, 5, 1, 6, 7, 6], device='cuda:0')\n",
            "tensor([0, 6, 0, 4, 4, 0, 1, 6], device='cuda:0')\n",
            "Epoch 20/100, Loss: 1.7242, Validation Accuracy: 12.50%\n",
            "tensor([2, 5, 0, 6, 1, 1, 2, 6], device='cuda:0')\n",
            "tensor([0, 6, 0, 4, 4, 0, 1, 6], device='cuda:0')\n",
            "Epoch 21/100, Loss: 1.8293, Validation Accuracy: 25.00%\n",
            "tensor([2, 3, 0, 2, 1, 2, 1, 7], device='cuda:0')\n",
            "tensor([0, 6, 0, 4, 4, 0, 1, 6], device='cuda:0')\n",
            "Epoch 22/100, Loss: 1.6458, Validation Accuracy: 25.00%\n",
            "tensor([2, 2, 0, 2, 2, 3, 5, 1], device='cuda:0')\n",
            "tensor([0, 6, 0, 4, 4, 0, 1, 6], device='cuda:0')\n",
            "Epoch 23/100, Loss: 1.7494, Validation Accuracy: 12.50%\n",
            "tensor([2, 7, 2, 2, 2, 2, 1, 1], device='cuda:0')\n",
            "tensor([0, 6, 0, 4, 4, 0, 1, 6], device='cuda:0')\n",
            "Epoch 24/100, Loss: 1.7578, Validation Accuracy: 12.50%\n",
            "tensor([3, 7, 0, 7, 1, 6, 1, 6], device='cuda:0')\n",
            "tensor([0, 6, 0, 4, 4, 0, 1, 6], device='cuda:0')\n",
            "Epoch 25/100, Loss: 1.5861, Validation Accuracy: 37.50%\n",
            "tensor([2, 2, 0, 7, 5, 3, 1, 1], device='cuda:0')\n",
            "tensor([0, 6, 0, 4, 4, 0, 1, 6], device='cuda:0')\n",
            "Epoch 26/100, Loss: 1.5581, Validation Accuracy: 25.00%\n",
            "tensor([3, 7, 0, 2, 7, 0, 5, 6], device='cuda:0')\n",
            "tensor([0, 6, 0, 4, 4, 0, 1, 6], device='cuda:0')\n",
            "Epoch 27/100, Loss: 1.7642, Validation Accuracy: 37.50%\n",
            "tensor([3, 1, 0, 4, 1, 7, 1, 1], device='cuda:0')\n",
            "tensor([0, 6, 0, 4, 4, 0, 1, 6], device='cuda:0')\n",
            "Epoch 28/100, Loss: 1.5676, Validation Accuracy: 37.50%\n",
            "tensor([1, 5, 0, 2, 1, 3, 2, 1], device='cuda:0')\n",
            "tensor([0, 6, 0, 4, 4, 0, 1, 6], device='cuda:0')\n",
            "Epoch 29/100, Loss: 1.6137, Validation Accuracy: 12.50%\n",
            "tensor([1, 5, 0, 0, 1, 3, 3, 1], device='cuda:0')\n",
            "tensor([0, 6, 0, 4, 4, 0, 1, 6], device='cuda:0')\n",
            "Epoch 30/100, Loss: 1.6450, Validation Accuracy: 12.50%\n",
            "tensor([3, 1, 0, 3, 1, 7, 7, 3], device='cuda:0')\n",
            "tensor([0, 6, 0, 4, 4, 0, 1, 6], device='cuda:0')\n",
            "Epoch 31/100, Loss: 1.7017, Validation Accuracy: 12.50%\n",
            "tensor([1, 2, 0, 2, 5, 6, 5, 1], device='cuda:0')\n",
            "tensor([0, 6, 0, 4, 4, 0, 1, 6], device='cuda:0')\n",
            "Epoch 32/100, Loss: 1.7534, Validation Accuracy: 12.50%\n",
            "tensor([3, 5, 3, 3, 5, 7, 1, 5], device='cuda:0')\n",
            "tensor([0, 6, 0, 4, 4, 0, 1, 6], device='cuda:0')\n",
            "Epoch 33/100, Loss: 1.5864, Validation Accuracy: 12.50%\n",
            "tensor([2, 7, 7, 3, 1, 3, 1, 1], device='cuda:0')\n",
            "tensor([0, 6, 0, 4, 4, 0, 1, 6], device='cuda:0')\n",
            "Epoch 34/100, Loss: 1.6926, Validation Accuracy: 12.50%\n",
            "tensor([6, 7, 7, 7, 1, 7, 1, 7], device='cuda:0')\n",
            "tensor([0, 6, 0, 4, 4, 0, 1, 6], device='cuda:0')\n",
            "Epoch 35/100, Loss: 1.5804, Validation Accuracy: 12.50%\n",
            "tensor([1, 2, 0, 3, 1, 6, 7, 3], device='cuda:0')\n",
            "tensor([0, 6, 0, 4, 4, 0, 1, 6], device='cuda:0')\n",
            "Epoch 36/100, Loss: 1.5869, Validation Accuracy: 12.50%\n",
            "tensor([2, 2, 0, 2, 5, 6, 7, 1], device='cuda:0')\n",
            "tensor([0, 6, 0, 4, 4, 0, 1, 6], device='cuda:0')\n",
            "Epoch 37/100, Loss: 1.5736, Validation Accuracy: 12.50%\n",
            "tensor([1, 2, 6, 2, 1, 3, 7, 1], device='cuda:0')\n",
            "tensor([0, 6, 0, 4, 4, 0, 1, 6], device='cuda:0')\n",
            "Epoch 38/100, Loss: 1.4555, Validation Accuracy: 0.00%\n",
            "tensor([3, 2, 0, 7, 1, 3, 1, 1], device='cuda:0')\n",
            "tensor([0, 6, 0, 4, 4, 0, 1, 6], device='cuda:0')\n",
            "Epoch 39/100, Loss: 1.5024, Validation Accuracy: 25.00%\n",
            "tensor([2, 7, 0, 4, 1, 3, 7, 1], device='cuda:0')\n",
            "tensor([0, 6, 0, 4, 4, 0, 1, 6], device='cuda:0')\n",
            "Epoch 40/100, Loss: 1.6619, Validation Accuracy: 25.00%\n",
            "tensor([3, 1, 0, 3, 1, 6, 5, 1], device='cuda:0')\n",
            "tensor([0, 6, 0, 4, 4, 0, 1, 6], device='cuda:0')\n",
            "Epoch 41/100, Loss: 1.6592, Validation Accuracy: 12.50%\n",
            "tensor([1, 7, 0, 5, 1, 3, 5, 1], device='cuda:0')\n",
            "tensor([0, 6, 0, 4, 4, 0, 1, 6], device='cuda:0')\n",
            "Epoch 42/100, Loss: 1.5860, Validation Accuracy: 12.50%\n",
            "tensor([2, 2, 0, 7, 5, 7, 1, 6], device='cuda:0')\n",
            "tensor([0, 6, 0, 4, 4, 0, 1, 6], device='cuda:0')\n",
            "Epoch 43/100, Loss: 1.6357, Validation Accuracy: 37.50%\n",
            "tensor([3, 2, 0, 7, 5, 3, 7, 1], device='cuda:0')\n",
            "tensor([0, 6, 0, 4, 4, 0, 1, 6], device='cuda:0')\n",
            "Epoch 44/100, Loss: 1.5177, Validation Accuracy: 12.50%\n",
            "tensor([5, 3, 6, 7, 1, 7, 5, 1], device='cuda:0')\n",
            "tensor([0, 6, 0, 4, 4, 0, 1, 6], device='cuda:0')\n",
            "Epoch 45/100, Loss: 1.6038, Validation Accuracy: 0.00%\n",
            "tensor([2, 1, 0, 7, 1, 7, 1, 3], device='cuda:0')\n",
            "tensor([0, 6, 0, 4, 4, 0, 1, 6], device='cuda:0')\n",
            "Epoch 46/100, Loss: 1.5393, Validation Accuracy: 25.00%\n",
            "tensor([1, 2, 0, 3, 1, 0, 5, 5], device='cuda:0')\n",
            "tensor([0, 6, 0, 4, 4, 0, 1, 6], device='cuda:0')\n",
            "Epoch 47/100, Loss: 1.5681, Validation Accuracy: 25.00%\n",
            "tensor([3, 2, 0, 7, 1, 7, 3, 1], device='cuda:0')\n",
            "tensor([0, 6, 0, 4, 4, 0, 1, 6], device='cuda:0')\n",
            "Epoch 48/100, Loss: 1.5953, Validation Accuracy: 12.50%\n",
            "tensor([1, 3, 0, 2, 1, 0, 1, 1], device='cuda:0')\n",
            "tensor([0, 6, 0, 4, 4, 0, 1, 6], device='cuda:0')\n",
            "Epoch 49/100, Loss: 1.4560, Validation Accuracy: 37.50%\n",
            "tensor([3, 2, 0, 2, 7, 7, 5, 1], device='cuda:0')\n",
            "tensor([0, 6, 0, 4, 4, 0, 1, 6], device='cuda:0')\n",
            "Epoch 50/100, Loss: 1.5032, Validation Accuracy: 12.50%\n",
            "tensor([2, 5, 2, 2, 1, 7, 1, 1], device='cuda:0')\n",
            "tensor([0, 6, 0, 4, 4, 0, 1, 6], device='cuda:0')\n",
            "Epoch 51/100, Loss: 1.6342, Validation Accuracy: 12.50%\n",
            "tensor([2, 5, 2, 2, 5, 7, 1, 6], device='cuda:0')\n",
            "tensor([0, 6, 0, 4, 4, 0, 1, 6], device='cuda:0')\n",
            "Epoch 52/100, Loss: 1.4556, Validation Accuracy: 25.00%\n",
            "tensor([2, 2, 0, 5, 7, 0, 1, 6], device='cuda:0')\n",
            "tensor([0, 6, 0, 4, 4, 0, 1, 6], device='cuda:0')\n",
            "Epoch 53/100, Loss: 1.5650, Validation Accuracy: 50.00%\n",
            "tensor([2, 3, 0, 3, 2, 6, 5, 3], device='cuda:0')\n",
            "tensor([0, 6, 0, 4, 4, 0, 1, 6], device='cuda:0')\n",
            "Epoch 54/100, Loss: 1.4268, Validation Accuracy: 12.50%\n",
            "tensor([6, 1, 0, 2, 1, 6, 3, 1], device='cuda:0')\n",
            "tensor([0, 6, 0, 4, 4, 0, 1, 6], device='cuda:0')\n",
            "Epoch 55/100, Loss: 1.7103, Validation Accuracy: 12.50%\n",
            "tensor([2, 3, 2, 5, 1, 3, 1, 1], device='cuda:0')\n",
            "tensor([0, 6, 0, 4, 4, 0, 1, 6], device='cuda:0')\n",
            "Epoch 56/100, Loss: 1.5663, Validation Accuracy: 12.50%\n",
            "tensor([2, 5, 0, 2, 3, 7, 1, 1], device='cuda:0')\n",
            "tensor([0, 6, 0, 4, 4, 0, 1, 6], device='cuda:0')\n",
            "Epoch 57/100, Loss: 1.5312, Validation Accuracy: 25.00%\n",
            "tensor([2, 5, 0, 1, 1, 2, 1, 1], device='cuda:0')\n",
            "tensor([0, 6, 0, 4, 4, 0, 1, 6], device='cuda:0')\n",
            "Epoch 58/100, Loss: 1.5806, Validation Accuracy: 25.00%\n",
            "tensor([5, 7, 0, 4, 1, 6, 3, 1], device='cuda:0')\n",
            "tensor([0, 6, 0, 4, 4, 0, 1, 6], device='cuda:0')\n",
            "Epoch 59/100, Loss: 1.5345, Validation Accuracy: 25.00%\n",
            "tensor([2, 3, 0, 4, 1, 2, 1, 6], device='cuda:0')\n",
            "tensor([0, 6, 0, 4, 4, 0, 1, 6], device='cuda:0')\n",
            "Epoch 60/100, Loss: 1.5481, Validation Accuracy: 50.00%\n",
            "tensor([5, 2, 0, 7, 1, 3, 1, 6], device='cuda:0')\n",
            "tensor([0, 6, 0, 4, 4, 0, 1, 6], device='cuda:0')\n",
            "Epoch 61/100, Loss: 1.5189, Validation Accuracy: 37.50%\n",
            "tensor([2, 2, 0, 7, 1, 1, 7, 1], device='cuda:0')\n",
            "tensor([0, 6, 0, 4, 4, 0, 1, 6], device='cuda:0')\n",
            "Epoch 62/100, Loss: 1.5278, Validation Accuracy: 12.50%\n",
            "tensor([2, 5, 2, 1, 1, 6, 3, 1], device='cuda:0')\n",
            "tensor([0, 6, 0, 4, 4, 0, 1, 6], device='cuda:0')\n",
            "Epoch 63/100, Loss: 1.6050, Validation Accuracy: 0.00%\n",
            "tensor([6, 5, 0, 3, 3, 7, 1, 7], device='cuda:0')\n",
            "tensor([0, 6, 0, 4, 4, 0, 1, 6], device='cuda:0')\n",
            "Epoch 64/100, Loss: 1.5993, Validation Accuracy: 25.00%\n",
            "tensor([7, 2, 0, 3, 3, 1, 3, 1], device='cuda:0')\n",
            "tensor([0, 6, 0, 4, 4, 0, 1, 6], device='cuda:0')\n",
            "Epoch 65/100, Loss: 1.4314, Validation Accuracy: 12.50%\n",
            "tensor([3, 5, 0, 4, 1, 2, 1, 1], device='cuda:0')\n",
            "tensor([0, 6, 0, 4, 4, 0, 1, 6], device='cuda:0')\n",
            "Epoch 66/100, Loss: 1.4036, Validation Accuracy: 37.50%\n",
            "tensor([7, 5, 0, 2, 5, 7, 5, 6], device='cuda:0')\n",
            "tensor([0, 6, 0, 4, 4, 0, 1, 6], device='cuda:0')\n",
            "Epoch 67/100, Loss: 1.4383, Validation Accuracy: 25.00%\n",
            "tensor([3, 7, 0, 7, 1, 2, 3, 1], device='cuda:0')\n",
            "tensor([0, 6, 0, 4, 4, 0, 1, 6], device='cuda:0')\n",
            "Epoch 68/100, Loss: 1.4709, Validation Accuracy: 12.50%\n",
            "tensor([6, 5, 0, 3, 1, 2, 1, 6], device='cuda:0')\n",
            "tensor([0, 6, 0, 4, 4, 0, 1, 6], device='cuda:0')\n",
            "Epoch 69/100, Loss: 1.5221, Validation Accuracy: 37.50%\n",
            "tensor([4, 5, 0, 7, 1, 0, 0, 6], device='cuda:0')\n",
            "tensor([0, 6, 0, 4, 4, 0, 1, 6], device='cuda:0')\n",
            "Epoch 70/100, Loss: 1.4436, Validation Accuracy: 37.50%\n",
            "tensor([2, 2, 2, 7, 2, 6, 2, 6], device='cuda:0')\n",
            "tensor([0, 6, 0, 4, 4, 0, 1, 6], device='cuda:0')\n",
            "Epoch 71/100, Loss: 1.4702, Validation Accuracy: 12.50%\n",
            "tensor([5, 2, 0, 5, 1, 6, 1, 1], device='cuda:0')\n",
            "tensor([0, 6, 0, 4, 4, 0, 1, 6], device='cuda:0')\n",
            "Epoch 72/100, Loss: 1.3325, Validation Accuracy: 25.00%\n",
            "tensor([2, 3, 0, 4, 1, 2, 5, 6], device='cuda:0')\n",
            "tensor([0, 6, 0, 4, 4, 0, 1, 6], device='cuda:0')\n",
            "Epoch 73/100, Loss: 1.6497, Validation Accuracy: 37.50%\n",
            "tensor([2, 5, 0, 7, 1, 5, 7, 6], device='cuda:0')\n",
            "tensor([0, 6, 0, 4, 4, 0, 1, 6], device='cuda:0')\n",
            "Epoch 74/100, Loss: 1.3129, Validation Accuracy: 25.00%\n",
            "tensor([6, 2, 0, 2, 1, 1, 3, 6], device='cuda:0')\n",
            "tensor([0, 6, 0, 4, 4, 0, 1, 6], device='cuda:0')\n",
            "Epoch 75/100, Loss: 1.3850, Validation Accuracy: 25.00%\n",
            "tensor([7, 5, 0, 2, 1, 7, 1, 1], device='cuda:0')\n",
            "tensor([0, 6, 0, 4, 4, 0, 1, 6], device='cuda:0')\n",
            "Epoch 76/100, Loss: 1.4466, Validation Accuracy: 25.00%\n",
            "tensor([2, 2, 0, 7, 1, 1, 5, 6], device='cuda:0')\n",
            "tensor([0, 6, 0, 4, 4, 0, 1, 6], device='cuda:0')\n",
            "Epoch 77/100, Loss: 1.3471, Validation Accuracy: 25.00%\n",
            "tensor([1, 2, 0, 7, 5, 2, 1, 6], device='cuda:0')\n",
            "tensor([0, 6, 0, 4, 4, 0, 1, 6], device='cuda:0')\n",
            "Epoch 78/100, Loss: 1.4984, Validation Accuracy: 37.50%\n",
            "tensor([2, 2, 0, 2, 1, 2, 1, 6], device='cuda:0')\n",
            "tensor([0, 6, 0, 4, 4, 0, 1, 6], device='cuda:0')\n",
            "Epoch 79/100, Loss: 1.7125, Validation Accuracy: 37.50%\n",
            "tensor([3, 2, 0, 5, 1, 6, 2, 1], device='cuda:0')\n",
            "tensor([0, 6, 0, 4, 4, 0, 1, 6], device='cuda:0')\n",
            "Epoch 80/100, Loss: 1.4392, Validation Accuracy: 12.50%\n",
            "tensor([2, 2, 0, 4, 5, 6, 7, 1], device='cuda:0')\n",
            "tensor([0, 6, 0, 4, 4, 0, 1, 6], device='cuda:0')\n",
            "Epoch 81/100, Loss: 1.3690, Validation Accuracy: 25.00%\n",
            "tensor([2, 2, 0, 0, 1, 7, 5, 1], device='cuda:0')\n",
            "tensor([0, 6, 0, 4, 4, 0, 1, 6], device='cuda:0')\n",
            "Epoch 82/100, Loss: 1.2431, Validation Accuracy: 12.50%\n",
            "tensor([2, 7, 0, 5, 1, 2, 1, 1], device='cuda:0')\n",
            "tensor([0, 6, 0, 4, 4, 0, 1, 6], device='cuda:0')\n",
            "Epoch 83/100, Loss: 1.3706, Validation Accuracy: 25.00%\n",
            "tensor([7, 3, 0, 4, 1, 0, 1, 3], device='cuda:0')\n",
            "tensor([0, 6, 0, 4, 4, 0, 1, 6], device='cuda:0')\n",
            "Epoch 84/100, Loss: 1.5664, Validation Accuracy: 50.00%\n",
            "tensor([3, 2, 0, 3, 1, 6, 7, 0], device='cuda:0')\n",
            "tensor([0, 6, 0, 4, 4, 0, 1, 6], device='cuda:0')\n",
            "Epoch 85/100, Loss: 1.2907, Validation Accuracy: 12.50%\n",
            "tensor([2, 2, 6, 4, 1, 0, 1, 5], device='cuda:0')\n",
            "tensor([0, 6, 0, 4, 4, 0, 1, 6], device='cuda:0')\n",
            "Epoch 86/100, Loss: 1.5053, Validation Accuracy: 37.50%\n",
            "tensor([1, 2, 0, 3, 1, 7, 3, 1], device='cuda:0')\n",
            "tensor([0, 6, 0, 4, 4, 0, 1, 6], device='cuda:0')\n",
            "Epoch 87/100, Loss: 1.3588, Validation Accuracy: 12.50%\n",
            "tensor([2, 5, 0, 3, 1, 6, 2, 6], device='cuda:0')\n",
            "tensor([0, 6, 0, 4, 4, 0, 1, 6], device='cuda:0')\n",
            "Epoch 88/100, Loss: 1.6460, Validation Accuracy: 25.00%\n",
            "tensor([6, 2, 0, 5, 4, 7, 1, 7], device='cuda:0')\n",
            "tensor([0, 6, 0, 4, 4, 0, 1, 6], device='cuda:0')\n",
            "Epoch 89/100, Loss: 1.4530, Validation Accuracy: 37.50%\n",
            "tensor([2, 3, 6, 3, 1, 6, 1, 6], device='cuda:0')\n",
            "tensor([0, 6, 0, 4, 4, 0, 1, 6], device='cuda:0')\n",
            "Epoch 90/100, Loss: 1.3171, Validation Accuracy: 25.00%\n",
            "tensor([7, 2, 0, 7, 1, 3, 1, 6], device='cuda:0')\n",
            "tensor([0, 6, 0, 4, 4, 0, 1, 6], device='cuda:0')\n",
            "Epoch 91/100, Loss: 1.5530, Validation Accuracy: 37.50%\n",
            "tensor([1, 2, 0, 7, 1, 5, 1, 1], device='cuda:0')\n",
            "tensor([0, 6, 0, 4, 4, 0, 1, 6], device='cuda:0')\n",
            "Epoch 92/100, Loss: 1.4409, Validation Accuracy: 25.00%\n",
            "tensor([3, 2, 0, 2, 1, 1, 5, 6], device='cuda:0')\n",
            "tensor([0, 6, 0, 4, 4, 0, 1, 6], device='cuda:0')\n",
            "Epoch 93/100, Loss: 1.3342, Validation Accuracy: 25.00%\n",
            "tensor([7, 2, 0, 2, 1, 6, 1, 0], device='cuda:0')\n",
            "tensor([0, 6, 0, 4, 4, 0, 1, 6], device='cuda:0')\n",
            "Epoch 94/100, Loss: 1.4852, Validation Accuracy: 25.00%\n",
            "tensor([2, 2, 0, 7, 1, 1, 2, 1], device='cuda:0')\n",
            "tensor([0, 6, 0, 4, 4, 0, 1, 6], device='cuda:0')\n",
            "Epoch 95/100, Loss: 1.3633, Validation Accuracy: 12.50%\n",
            "tensor([2, 2, 0, 5, 1, 6, 7, 6], device='cuda:0')\n",
            "tensor([0, 6, 0, 4, 4, 0, 1, 6], device='cuda:0')\n",
            "Epoch 96/100, Loss: 1.4842, Validation Accuracy: 25.00%\n",
            "tensor([2, 3, 0, 4, 4, 6, 0, 1], device='cuda:0')\n",
            "tensor([0, 6, 0, 4, 4, 0, 1, 6], device='cuda:0')\n",
            "Epoch 97/100, Loss: 1.2392, Validation Accuracy: 37.50%\n",
            "tensor([2, 5, 0, 7, 1, 3, 1, 1], device='cuda:0')\n",
            "tensor([0, 6, 0, 4, 4, 0, 1, 6], device='cuda:0')\n",
            "Epoch 98/100, Loss: 1.2761, Validation Accuracy: 25.00%\n",
            "tensor([2, 5, 0, 2, 3, 6, 1, 1], device='cuda:0')\n",
            "tensor([0, 6, 0, 4, 4, 0, 1, 6], device='cuda:0')\n",
            "Epoch 99/100, Loss: 1.4379, Validation Accuracy: 25.00%\n",
            "tensor([2, 5, 0, 4, 1, 7, 1, 1], device='cuda:0')\n",
            "tensor([0, 6, 0, 4, 4, 0, 1, 6], device='cuda:0')\n",
            "Epoch 100/100, Loss: 1.3704, Validation Accuracy: 37.50%\n"
          ]
        }
      ]
    },
    {
      "cell_type": "markdown",
      "source": [
        "# Segmentación\n",
        "\n",
        "En clase vimos el modelo UNet.\n",
        "\n",
        "![UNet](https://miro.medium.com/v2/resize:fit:1400/0*aflJajr9JansHq8k.jpg)\n",
        "\n",
        "Vamos a ejecutar un modelo preentrenado de UNet y ver qué tal resultado tiene en la competición que hicimos (_Find the nuclei in divergent images to advance medical discovery_).\n",
        "\n"
      ],
      "metadata": {
        "id": "WRm5jTodfC7-"
      }
    },
    {
      "cell_type": "code",
      "source": [
        "import torch\n",
        "import torch.nn as nn\n",
        "\n",
        "# Define un bloque convolucional con dos capas de convolución\n",
        "class DoubleConv(nn.Module):\n",
        "    def __init__(self, in_channels, out_channels):\n",
        "        super(DoubleConv, self).__init__()\n",
        "        self.double_conv = nn.Sequential(\n",
        "            nn.Conv2d(in_channels, out_channels, kernel_size=3, padding=1),\n",
        "            nn.ReLU(inplace=True),\n",
        "            nn.Conv2d(out_channels, out_channels, kernel_size=3, padding=1),\n",
        "            nn.ReLU(inplace=True)\n",
        "        )\n",
        "\n",
        "    def forward(self, x):\n",
        "        return self.double_conv(x)\n",
        "\n",
        "# Define la arquitectura de la U-Net\n",
        "class UNet(nn.Module):\n",
        "    def __init__(self, in_channels, out_channels):\n",
        "        super(UNet, self).__init__()\n",
        "\n",
        "        # Encoder (camino descendente)\n",
        "        self.encoder = nn.Sequential(\n",
        "            DoubleConv(in_channels, 64),\n",
        "            nn.MaxPool2d(kernel_size=2, stride=2),\n",
        "            DoubleConv(64, 128),\n",
        "            nn.MaxPool2d(kernel_size=2, stride=2),\n",
        "            DoubleConv(128, 256),\n",
        "            nn.MaxPool2d(kernel_size=2, stride=2),\n",
        "            DoubleConv(256, 512),\n",
        "            nn.MaxPool2d(kernel_size=2, stride=2)\n",
        "        )\n",
        "\n",
        "        # Capa central\n",
        "        self.center = DoubleConv(512, 1024)\n",
        "\n",
        "        # Decoder (camino ascendente)\n",
        "        self.decoder = nn.Sequential(\n",
        "            nn.ConvTranspose2d(1024, 512, kernel_size=2, stride=2),\n",
        "            DoubleConv(1024, 512),\n",
        "            nn.ConvTranspose2d(512, 256, kernel_size=2, stride=2),\n",
        "            DoubleConv(512, 256),\n",
        "            nn.ConvTranspose2d(256, 128, kernel_size=2, stride=2),\n",
        "            DoubleConv(256, 128),\n",
        "            nn.ConvTranspose2d(128, 64, kernel_size=2, stride=2),\n",
        "            DoubleConv(128, 64)\n",
        "        )\n",
        "\n",
        "        # Capa de salida\n",
        "        self.out = nn.Conv2d(64, out_channels, kernel_size=1)\n",
        "\n",
        "    def forward(self, x):\n",
        "        # Paso a través del encoder\n",
        "        encoders = []\n",
        "        for layer in self.encoder:\n",
        "            x = layer(x)\n",
        "            encoders.append(x)\n",
        "\n",
        "        # Paso a través del centro\n",
        "        x = self.center(x)\n",
        "\n",
        "        # Paso a través del decoder\n",
        "        for i in range(len(self.decoder) // 2):\n",
        "            x = self.decoder[i](x)\n",
        "            x = torch.cat([x, encoders[-(i + 1)]], dim=1)\n",
        "\n",
        "        # Capa de salida\n",
        "        x = self.out(x)\n",
        "        return x\n",
        "\n",
        "# Crea una instancia de la U-Net\n",
        "unet = UNet(in_channels=3, out_channels=1)  # Por ejemplo, 3 canales de entrada y 1 canal de salida\n",
        "\n",
        "# Imprime la arquitectura de la U-Net\n",
        "print(unet)\n"
      ],
      "metadata": {
        "colab": {
          "base_uri": "https://localhost:8080/"
        },
        "id": "qlq27w21-a2F",
        "outputId": "db431d50-f68f-45b2-ef70-2ab2db2c5a35"
      },
      "execution_count": 24,
      "outputs": [
        {
          "output_type": "stream",
          "name": "stdout",
          "text": [
            "UNet(\n",
            "  (encoder): Sequential(\n",
            "    (0): DoubleConv(\n",
            "      (double_conv): Sequential(\n",
            "        (0): Conv2d(3, 64, kernel_size=(3, 3), stride=(1, 1), padding=(1, 1))\n",
            "        (1): ReLU(inplace=True)\n",
            "        (2): Conv2d(64, 64, kernel_size=(3, 3), stride=(1, 1), padding=(1, 1))\n",
            "        (3): ReLU(inplace=True)\n",
            "      )\n",
            "    )\n",
            "    (1): MaxPool2d(kernel_size=2, stride=2, padding=0, dilation=1, ceil_mode=False)\n",
            "    (2): DoubleConv(\n",
            "      (double_conv): Sequential(\n",
            "        (0): Conv2d(64, 128, kernel_size=(3, 3), stride=(1, 1), padding=(1, 1))\n",
            "        (1): ReLU(inplace=True)\n",
            "        (2): Conv2d(128, 128, kernel_size=(3, 3), stride=(1, 1), padding=(1, 1))\n",
            "        (3): ReLU(inplace=True)\n",
            "      )\n",
            "    )\n",
            "    (3): MaxPool2d(kernel_size=2, stride=2, padding=0, dilation=1, ceil_mode=False)\n",
            "    (4): DoubleConv(\n",
            "      (double_conv): Sequential(\n",
            "        (0): Conv2d(128, 256, kernel_size=(3, 3), stride=(1, 1), padding=(1, 1))\n",
            "        (1): ReLU(inplace=True)\n",
            "        (2): Conv2d(256, 256, kernel_size=(3, 3), stride=(1, 1), padding=(1, 1))\n",
            "        (3): ReLU(inplace=True)\n",
            "      )\n",
            "    )\n",
            "    (5): MaxPool2d(kernel_size=2, stride=2, padding=0, dilation=1, ceil_mode=False)\n",
            "    (6): DoubleConv(\n",
            "      (double_conv): Sequential(\n",
            "        (0): Conv2d(256, 512, kernel_size=(3, 3), stride=(1, 1), padding=(1, 1))\n",
            "        (1): ReLU(inplace=True)\n",
            "        (2): Conv2d(512, 512, kernel_size=(3, 3), stride=(1, 1), padding=(1, 1))\n",
            "        (3): ReLU(inplace=True)\n",
            "      )\n",
            "    )\n",
            "    (7): MaxPool2d(kernel_size=2, stride=2, padding=0, dilation=1, ceil_mode=False)\n",
            "  )\n",
            "  (center): DoubleConv(\n",
            "    (double_conv): Sequential(\n",
            "      (0): Conv2d(512, 1024, kernel_size=(3, 3), stride=(1, 1), padding=(1, 1))\n",
            "      (1): ReLU(inplace=True)\n",
            "      (2): Conv2d(1024, 1024, kernel_size=(3, 3), stride=(1, 1), padding=(1, 1))\n",
            "      (3): ReLU(inplace=True)\n",
            "    )\n",
            "  )\n",
            "  (decoder): Sequential(\n",
            "    (0): ConvTranspose2d(1024, 512, kernel_size=(2, 2), stride=(2, 2))\n",
            "    (1): DoubleConv(\n",
            "      (double_conv): Sequential(\n",
            "        (0): Conv2d(1024, 512, kernel_size=(3, 3), stride=(1, 1), padding=(1, 1))\n",
            "        (1): ReLU(inplace=True)\n",
            "        (2): Conv2d(512, 512, kernel_size=(3, 3), stride=(1, 1), padding=(1, 1))\n",
            "        (3): ReLU(inplace=True)\n",
            "      )\n",
            "    )\n",
            "    (2): ConvTranspose2d(512, 256, kernel_size=(2, 2), stride=(2, 2))\n",
            "    (3): DoubleConv(\n",
            "      (double_conv): Sequential(\n",
            "        (0): Conv2d(512, 256, kernel_size=(3, 3), stride=(1, 1), padding=(1, 1))\n",
            "        (1): ReLU(inplace=True)\n",
            "        (2): Conv2d(256, 256, kernel_size=(3, 3), stride=(1, 1), padding=(1, 1))\n",
            "        (3): ReLU(inplace=True)\n",
            "      )\n",
            "    )\n",
            "    (4): ConvTranspose2d(256, 128, kernel_size=(2, 2), stride=(2, 2))\n",
            "    (5): DoubleConv(\n",
            "      (double_conv): Sequential(\n",
            "        (0): Conv2d(256, 128, kernel_size=(3, 3), stride=(1, 1), padding=(1, 1))\n",
            "        (1): ReLU(inplace=True)\n",
            "        (2): Conv2d(128, 128, kernel_size=(3, 3), stride=(1, 1), padding=(1, 1))\n",
            "        (3): ReLU(inplace=True)\n",
            "      )\n",
            "    )\n",
            "    (6): ConvTranspose2d(128, 64, kernel_size=(2, 2), stride=(2, 2))\n",
            "    (7): DoubleConv(\n",
            "      (double_conv): Sequential(\n",
            "        (0): Conv2d(128, 64, kernel_size=(3, 3), stride=(1, 1), padding=(1, 1))\n",
            "        (1): ReLU(inplace=True)\n",
            "        (2): Conv2d(64, 64, kernel_size=(3, 3), stride=(1, 1), padding=(1, 1))\n",
            "        (3): ReLU(inplace=True)\n",
            "      )\n",
            "    )\n",
            "  )\n",
            "  (out): Conv2d(64, 1, kernel_size=(1, 1), stride=(1, 1))\n",
            ")\n"
          ]
        }
      ]
    },
    {
      "cell_type": "markdown",
      "source": [
        "En general, no vamos a usar la UNet desde cero (como el caso anterior).\n",
        "\n",
        "Ahora, vamos a hacer uso de una biblioteca que ya tiene varios modelos de UNet pre-entrenados.\n",
        "\n",
        "Esta biblioteca se llama `segmentation-models-pytorch`."
      ],
      "metadata": {
        "id": "cNGCMd73frj8"
      }
    },
    {
      "cell_type": "code",
      "source": [
        "!pip install segmentation-models-pytorch"
      ],
      "metadata": {
        "colab": {
          "base_uri": "https://localhost:8080/"
        },
        "id": "ij-NCfOHf4MO",
        "outputId": "45a6a175-c914-4cb7-f02f-a1df2d9a62c4"
      },
      "execution_count": 25,
      "outputs": [
        {
          "output_type": "stream",
          "name": "stdout",
          "text": [
            "Collecting segmentation-models-pytorch\n",
            "  Downloading segmentation_models_pytorch-0.3.3-py3-none-any.whl (106 kB)\n",
            "\u001b[?25l     \u001b[90m━━━━━━━━━━━━━━━━━━━━━━━━━━━━━━━━━━━━━━━━\u001b[0m \u001b[32m0.0/106.7 kB\u001b[0m \u001b[31m?\u001b[0m eta \u001b[36m-:--:--\u001b[0m\r\u001b[2K     \u001b[90m━━━━━━━━━━━━━━━━━━━━━━━━━━━━━━━━━━━━━━━━\u001b[0m \u001b[32m106.7/106.7 kB\u001b[0m \u001b[31m3.5 MB/s\u001b[0m eta \u001b[36m0:00:00\u001b[0m\n",
            "\u001b[?25hRequirement already satisfied: torchvision>=0.5.0 in /usr/local/lib/python3.10/dist-packages (from segmentation-models-pytorch) (0.16.0+cu118)\n",
            "Collecting pretrainedmodels==0.7.4 (from segmentation-models-pytorch)\n",
            "  Downloading pretrainedmodels-0.7.4.tar.gz (58 kB)\n",
            "\u001b[?25l     \u001b[90m━━━━━━━━━━━━━━━━━━━━━━━━━━━━━━━━━━━━━━━━\u001b[0m \u001b[32m0.0/58.8 kB\u001b[0m \u001b[31m?\u001b[0m eta \u001b[36m-:--:--\u001b[0m\r\u001b[2K     \u001b[90m━━━━━━━━━━━━━━━━━━━━━━━━━━━━━━━━━━━━━━━━\u001b[0m \u001b[32m58.8/58.8 kB\u001b[0m \u001b[31m7.3 MB/s\u001b[0m eta \u001b[36m0:00:00\u001b[0m\n",
            "\u001b[?25h  Preparing metadata (setup.py) ... \u001b[?25l\u001b[?25hdone\n",
            "Collecting efficientnet-pytorch==0.7.1 (from segmentation-models-pytorch)\n",
            "  Downloading efficientnet_pytorch-0.7.1.tar.gz (21 kB)\n",
            "  Preparing metadata (setup.py) ... \u001b[?25l\u001b[?25hdone\n",
            "Collecting timm==0.9.2 (from segmentation-models-pytorch)\n",
            "  Downloading timm-0.9.2-py3-none-any.whl (2.2 MB)\n",
            "\u001b[2K     \u001b[90m━━━━━━━━━━━━━━━━━━━━━━━━━━━━━━━━━━━━━━━━\u001b[0m \u001b[32m2.2/2.2 MB\u001b[0m \u001b[31m20.4 MB/s\u001b[0m eta \u001b[36m0:00:00\u001b[0m\n",
            "\u001b[?25hRequirement already satisfied: tqdm in /usr/local/lib/python3.10/dist-packages (from segmentation-models-pytorch) (4.66.1)\n",
            "Requirement already satisfied: pillow in /usr/local/lib/python3.10/dist-packages (from segmentation-models-pytorch) (9.4.0)\n",
            "Requirement already satisfied: torch in /usr/local/lib/python3.10/dist-packages (from efficientnet-pytorch==0.7.1->segmentation-models-pytorch) (2.1.0+cu118)\n",
            "Collecting munch (from pretrainedmodels==0.7.4->segmentation-models-pytorch)\n",
            "  Downloading munch-4.0.0-py2.py3-none-any.whl (9.9 kB)\n",
            "Requirement already satisfied: pyyaml in /usr/local/lib/python3.10/dist-packages (from timm==0.9.2->segmentation-models-pytorch) (6.0.1)\n",
            "Collecting huggingface-hub (from timm==0.9.2->segmentation-models-pytorch)\n",
            "  Downloading huggingface_hub-0.18.0-py3-none-any.whl (301 kB)\n",
            "\u001b[2K     \u001b[90m━━━━━━━━━━━━━━━━━━━━━━━━━━━━━━━━━━━━━━━━\u001b[0m \u001b[32m302.0/302.0 kB\u001b[0m \u001b[31m22.8 MB/s\u001b[0m eta \u001b[36m0:00:00\u001b[0m\n",
            "\u001b[?25hCollecting safetensors (from timm==0.9.2->segmentation-models-pytorch)\n",
            "  Downloading safetensors-0.4.0-cp310-cp310-manylinux_2_17_x86_64.manylinux2014_x86_64.whl (1.3 MB)\n",
            "\u001b[2K     \u001b[90m━━━━━━━━━━━━━━━━━━━━━━━━━━━━━━━━━━━━━━━━\u001b[0m \u001b[32m1.3/1.3 MB\u001b[0m \u001b[31m35.4 MB/s\u001b[0m eta \u001b[36m0:00:00\u001b[0m\n",
            "\u001b[?25hRequirement already satisfied: numpy in /usr/local/lib/python3.10/dist-packages (from torchvision>=0.5.0->segmentation-models-pytorch) (1.23.5)\n",
            "Requirement already satisfied: requests in /usr/local/lib/python3.10/dist-packages (from torchvision>=0.5.0->segmentation-models-pytorch) (2.31.0)\n",
            "Requirement already satisfied: filelock in /usr/local/lib/python3.10/dist-packages (from torch->efficientnet-pytorch==0.7.1->segmentation-models-pytorch) (3.12.4)\n",
            "Requirement already satisfied: typing-extensions in /usr/local/lib/python3.10/dist-packages (from torch->efficientnet-pytorch==0.7.1->segmentation-models-pytorch) (4.5.0)\n",
            "Requirement already satisfied: sympy in /usr/local/lib/python3.10/dist-packages (from torch->efficientnet-pytorch==0.7.1->segmentation-models-pytorch) (1.12)\n",
            "Requirement already satisfied: networkx in /usr/local/lib/python3.10/dist-packages (from torch->efficientnet-pytorch==0.7.1->segmentation-models-pytorch) (3.2)\n",
            "Requirement already satisfied: jinja2 in /usr/local/lib/python3.10/dist-packages (from torch->efficientnet-pytorch==0.7.1->segmentation-models-pytorch) (3.1.2)\n",
            "Requirement already satisfied: fsspec in /usr/local/lib/python3.10/dist-packages (from torch->efficientnet-pytorch==0.7.1->segmentation-models-pytorch) (2023.6.0)\n",
            "Requirement already satisfied: triton==2.1.0 in /usr/local/lib/python3.10/dist-packages (from torch->efficientnet-pytorch==0.7.1->segmentation-models-pytorch) (2.1.0)\n",
            "Requirement already satisfied: packaging>=20.9 in /usr/local/lib/python3.10/dist-packages (from huggingface-hub->timm==0.9.2->segmentation-models-pytorch) (23.2)\n",
            "Requirement already satisfied: charset-normalizer<4,>=2 in /usr/local/lib/python3.10/dist-packages (from requests->torchvision>=0.5.0->segmentation-models-pytorch) (3.3.1)\n",
            "Requirement already satisfied: idna<4,>=2.5 in /usr/local/lib/python3.10/dist-packages (from requests->torchvision>=0.5.0->segmentation-models-pytorch) (3.4)\n",
            "Requirement already satisfied: urllib3<3,>=1.21.1 in /usr/local/lib/python3.10/dist-packages (from requests->torchvision>=0.5.0->segmentation-models-pytorch) (2.0.7)\n",
            "Requirement already satisfied: certifi>=2017.4.17 in /usr/local/lib/python3.10/dist-packages (from requests->torchvision>=0.5.0->segmentation-models-pytorch) (2023.7.22)\n",
            "Requirement already satisfied: MarkupSafe>=2.0 in /usr/local/lib/python3.10/dist-packages (from jinja2->torch->efficientnet-pytorch==0.7.1->segmentation-models-pytorch) (2.1.3)\n",
            "Requirement already satisfied: mpmath>=0.19 in /usr/local/lib/python3.10/dist-packages (from sympy->torch->efficientnet-pytorch==0.7.1->segmentation-models-pytorch) (1.3.0)\n",
            "Building wheels for collected packages: efficientnet-pytorch, pretrainedmodels\n",
            "  Building wheel for efficientnet-pytorch (setup.py) ... \u001b[?25l\u001b[?25hdone\n",
            "  Created wheel for efficientnet-pytorch: filename=efficientnet_pytorch-0.7.1-py3-none-any.whl size=16428 sha256=6f27a963126d57eeceba2b04b33415ef0289e9897c353df3448fe5f2502d8022\n",
            "  Stored in directory: /root/.cache/pip/wheels/03/3f/e9/911b1bc46869644912bda90a56bcf7b960f20b5187feea3baf\n",
            "  Building wheel for pretrainedmodels (setup.py) ... \u001b[?25l\u001b[?25hdone\n",
            "  Created wheel for pretrainedmodels: filename=pretrainedmodels-0.7.4-py3-none-any.whl size=60943 sha256=c6e58c168a169e1592184bd78311351a9fa2a0bf11b0b82beb7d7af801856dc9\n",
            "  Stored in directory: /root/.cache/pip/wheels/35/cb/a5/8f534c60142835bfc889f9a482e4a67e0b817032d9c6883b64\n",
            "Successfully built efficientnet-pytorch pretrainedmodels\n",
            "Installing collected packages: safetensors, munch, huggingface-hub, efficientnet-pytorch, timm, pretrainedmodels, segmentation-models-pytorch\n",
            "Successfully installed efficientnet-pytorch-0.7.1 huggingface-hub-0.18.0 munch-4.0.0 pretrainedmodels-0.7.4 safetensors-0.4.0 segmentation-models-pytorch-0.3.3 timm-0.9.2\n"
          ]
        }
      ]
    },
    {
      "cell_type": "markdown",
      "source": [
        "Podemos encontrar la base de datos de entrenamiento (no sólo la muestra que hicimos en clase, que eran 7 imágenes) en el siguiente enlace."
      ],
      "metadata": {
        "id": "u0xX5-7o146l"
      }
    },
    {
      "cell_type": "code",
      "source": [
        "download(url = 'https://universidadfv-my.sharepoint.com/:u:/g/personal/alberto_desantos_ufv_es/EXw-gUGitJZNi9TQJJdZ4O0B8dsomtRxZYDlUz_wOi0QCQ?e=qJ2cGB',\n",
        "         filename = \"stage1_train.zip\", unzip=False, force_download=True, clean=False)"
      ],
      "metadata": {
        "colab": {
          "base_uri": "https://localhost:8080/",
          "height": 53
        },
        "id": "_fGFG0eCzjaV",
        "outputId": "fa7deb61-ac20-411c-f28b-f82e5fb76c40"
      },
      "execution_count": 26,
      "outputs": [
        {
          "output_type": "stream",
          "name": "stderr",
          "text": [
            "100%|██████████| 82.9M/82.9M [00:02<00:00, 32.8MiB/s]\n"
          ]
        },
        {
          "output_type": "execute_result",
          "data": {
            "text/plain": [
              "'stage1_train.zip'"
            ],
            "application/vnd.google.colaboratory.intrinsic+json": {
              "type": "string"
            }
          },
          "metadata": {},
          "execution_count": 26
        }
      ]
    },
    {
      "cell_type": "code",
      "source": [
        "!mkdir /content/stage1_train\n",
        "!unzip -q stage1_train.zip -d /content/stage1_train"
      ],
      "metadata": {
        "id": "oArjlFg-0Nvs"
      },
      "execution_count": 27,
      "outputs": []
    },
    {
      "cell_type": "markdown",
      "source": [
        "A continuación, he reutilizado código que ya compartí para la competición:\n",
        "- Conseguir todas las máscaras/segmentaciones (ya que venían de manera individual)\n",
        "- Pintar una imagen cualquiera\n"
      ],
      "metadata": {
        "id": "xOHiOJAe2BKL"
      }
    },
    {
      "cell_type": "code",
      "source": [
        "import glob\n",
        "from skimage import io, img_as_bool, img_as_uint\n",
        "import numpy as np\n",
        "import os\n",
        "\n",
        "import matplotlib.pyplot as plt\n",
        "\n",
        "from skimage import color, data, filters, graph, measure, morphology"
      ],
      "metadata": {
        "id": "8vxWupGsg1vL"
      },
      "execution_count": 32,
      "outputs": []
    },
    {
      "cell_type": "code",
      "source": [
        "# Directorio donde se encuentran las imágenes PNG\n",
        "def get_mask(path_dir_images_and_masks):\n",
        "\n",
        "  # Obtén la lista de archivos PNG en el directorio\n",
        "  archivos_png = glob.glob(os.path.join(f'{path_dir_images_and_masks}/masks/', '*.png'))\n",
        "\n",
        "  # Asegúrate de que haya al menos una imagen\n",
        "  if not archivos_png:\n",
        "      print(\"No se encontraron archivos PNG en el directorio.\")\n",
        "      imagen_resultante = []\n",
        "  else:\n",
        "      # Leer la primera imagen para obtener dimensiones\n",
        "      primera_imagen = io.imread(archivos_png[0], as_gray=True)[::2,::2]\n",
        "      ancho, alto = primera_imagen.shape\n",
        "\n",
        "      # Crear una imagen en blanco\n",
        "      imagen_resultante = np.zeros((ancho, alto), dtype=bool)\n",
        "\n",
        "      # Iterar a través de todas las imágenes y realizar OR lógico\n",
        "      for archivo_png in archivos_png:\n",
        "          imagen_actual = io.imread(archivo_png, as_gray=True)[::2,::2]\n",
        "          imagen_resultante |= img_as_bool(imagen_actual)\n",
        "\n",
        "      # Guardar la imagen resultante\n",
        "      imagen_resultante = img_as_uint(imagen_resultante)\n",
        "\n",
        "  return imagen_resultante"
      ],
      "metadata": {
        "id": "v9TAJLzsgkwQ"
      },
      "execution_count": 33,
      "outputs": []
    },
    {
      "cell_type": "code",
      "source": [
        "path_competicion = '/content/stage1_train/'\n",
        "lista_nombre_carpetas = glob.glob(path_competicion + \"*/\")\n",
        "print(len(lista_nombre_carpetas))"
      ],
      "metadata": {
        "colab": {
          "base_uri": "https://localhost:8080/"
        },
        "id": "Pfy_maeBgzz9",
        "outputId": "6e2e7aea-c4f0-4116-e6a0-d115be5b945c"
      },
      "execution_count": 41,
      "outputs": [
        {
          "output_type": "stream",
          "name": "stdout",
          "text": [
            "670\n"
          ]
        }
      ]
    },
    {
      "cell_type": "code",
      "source": [
        "from skimage import io\n",
        "\n",
        "# Este id_carpeta_competicion nos ayuda a escoger la primera/segunda/... carpeta\n",
        "# dentro del directorio Competicion\n",
        "id_carpeta_competicion = 125\n",
        "\n",
        "# Lee la imagen\n",
        "nombre_archivo = lista_nombre_carpetas[id_carpeta_competicion].split('/')[-2]\n",
        "nombre_imagen_png = f'{lista_nombre_carpetas[id_carpeta_competicion]}/images/{nombre_archivo}.png'\n",
        "imagen_rgba = io.imread(nombre_imagen_png)[::2,::2,:]\n",
        "\n",
        "alto, ancho, canales = imagen_rgba.shape\n",
        "print(f\"Ancho: {ancho}, Alto: {alto}, Canales: {canales}\")\n",
        "\n",
        "# Porque es una imagen que tiene 4 capas (RGBA)\n",
        "imagen = (color.rgba2rgb(imagen_rgba))\n",
        "\n",
        "# Realiza operaciones en la imagen si es necesario\n",
        "# Por ejemplo, puedes obtener su tamaño\n",
        "\n",
        "# Puedes mostrar la imagen usando matplotlib (opcional)\n",
        "import matplotlib.pyplot as plt\n",
        "plt.imshow(imagen)\n",
        "plt.show()\n"
      ],
      "metadata": {
        "colab": {
          "base_uri": "https://localhost:8080/",
          "height": 451
        },
        "id": "DY1dnBaigtcq",
        "outputId": "e76ac335-698e-40ac-9f14-7bc78c28598a"
      },
      "execution_count": 42,
      "outputs": [
        {
          "output_type": "stream",
          "name": "stdout",
          "text": [
            "Ancho: 128, Alto: 128, Canales: 4\n"
          ]
        },
        {
          "output_type": "display_data",
          "data": {
            "text/plain": [
              "<Figure size 640x480 with 1 Axes>"
            ],
            "image/png": "[encoded data removed]"
          },
          "metadata": {}
        }
      ]
    },
    {
      "cell_type": "markdown",
      "source": [
        "Tomando una imagen cualquiera, vamos a convertirla a tensor y a pasarla por la UNet para ver su resultado."
      ],
      "metadata": {
        "id": "NIGhOYLk2au3"
      }
    },
    {
      "cell_type": "code",
      "source": [
        "from PIL import Image\n",
        "\n",
        "import torch\n",
        "import torch.nn as nn\n",
        "import torch.nn.functional as F\n",
        "import torch.optim as optim\n",
        "import torchvision\n",
        "import torchvision.transforms as transforms\n",
        "import torchvision.datasets as datasets\n",
        "\n",
        "# Define una transformación que reescala la imagen a 192x192\n",
        "transform = transforms.Compose([\n",
        "    transforms.Resize((192, 192)),\n",
        "    transforms.ToTensor()  # Convierte la imagen en un tensor\n",
        "])\n",
        "\n",
        "# Aplica la transformación a la imagen\n",
        "image_pil = Image.fromarray((imagen*255).astype('uint8'))\n",
        "tensor = transform(image_pil)\n",
        "\n",
        "# Agrega una dimensión adicional para representar el batch (1)\n",
        "tensor = tensor.unsqueeze(0)"
      ],
      "metadata": {
        "id": "2q9GshjehMB8"
      },
      "execution_count": null,
      "outputs": []
    },
    {
      "cell_type": "markdown",
      "source": [
        "Vamos a cargar una UNet que está preentrenada con `imagenet`. Ésta es una base de datos con objetos variados. Con lo cual, no es exáctamente lo que necesitamos, pero nos servirá para aprender cómo usarlo."
      ],
      "metadata": {
        "id": "T8wTSWyh2lg9"
      }
    },
    {
      "cell_type": "code",
      "source": [
        "import torch\n",
        "import segmentation_models_pytorch as smp\n",
        "\n",
        "# Cargar un modelo preentrenado de U-Net++\n",
        "model_unet = smp.Unet('resnet50', in_channels=3, classes=1, encoder_weights='imagenet')  # Ejemplo con ResNet-34 y 1 canal de salida\n",
        "\n",
        "# Poner el modelo en modo de evaluación\n",
        "model_unet.eval()"
      ],
      "metadata": {
        "colab": {
          "base_uri": "https://localhost:8080/"
        },
        "id": "k55ySHy5oS8w",
        "outputId": "2844cff2-dd50-41b6-d4f1-269c2838f47a"
      },
      "execution_count": 3,
      "outputs": [
        {
          "output_type": "execute_result",
          "data": {
            "text/plain": [
              "Unet(\n",
              "  (encoder): ResNetEncoder(\n",
              "    (conv1): Conv2d(3, 64, kernel_size=(7, 7), stride=(2, 2), padding=(3, 3), bias=False)\n",
              "    (bn1): BatchNorm2d(64, eps=1e-05, momentum=0.1, affine=True, track_running_stats=True)\n",
              "    (relu): ReLU(inplace=True)\n",
              "    (maxpool): MaxPool2d(kernel_size=3, stride=2, padding=1, dilation=1, ceil_mode=False)\n",
              "    (layer1): Sequential(\n",
              "      (0): Bottleneck(\n",
              "        (conv1): Conv2d(64, 64, kernel_size=(1, 1), stride=(1, 1), bias=False)\n",
              "        (bn1): BatchNorm2d(64, eps=1e-05, momentum=0.1, affine=True, track_running_stats=True)\n",
              "        (conv2): Conv2d(64, 64, kernel_size=(3, 3), stride=(1, 1), padding=(1, 1), bias=False)\n",
              "        (bn2): BatchNorm2d(64, eps=1e-05, momentum=0.1, affine=True, track_running_stats=True)\n",
              "        (conv3): Conv2d(64, 256, kernel_size=(1, 1), stride=(1, 1), bias=False)\n",
              "        (bn3): BatchNorm2d(256, eps=1e-05, momentum=0.1, affine=True, track_running_stats=True)\n",
              "        (relu): ReLU(inplace=True)\n",
              "        (downsample): Sequential(\n",
              "          (0): Conv2d(64, 256, kernel_size=(1, 1), stride=(1, 1), bias=False)\n",
              "          (1): BatchNorm2d(256, eps=1e-05, momentum=0.1, affine=True, track_running_stats=True)\n",
              "        )\n",
              "      )\n",
              "      (1): Bottleneck(\n",
              "        (conv1): Conv2d(256, 64, kernel_size=(1, 1), stride=(1, 1), bias=False)\n",
              "        (bn1): BatchNorm2d(64, eps=1e-05, momentum=0.1, affine=True, track_running_stats=True)\n",
              "        (conv2): Conv2d(64, 64, kernel_size=(3, 3), stride=(1, 1), padding=(1, 1), bias=False)\n",
              "        (bn2): BatchNorm2d(64, eps=1e-05, momentum=0.1, affine=True, track_running_stats=True)\n",
              "        (conv3): Conv2d(64, 256, kernel_size=(1, 1), stride=(1, 1), bias=False)\n",
              "        (bn3): BatchNorm2d(256, eps=1e-05, momentum=0.1, affine=True, track_running_stats=True)\n",
              "        (relu): ReLU(inplace=True)\n",
              "      )\n",
              "      (2): Bottleneck(\n",
              "        (conv1): Conv2d(256, 64, kernel_size=(1, 1), stride=(1, 1), bias=False)\n",
              "        (bn1): BatchNorm2d(64, eps=1e-05, momentum=0.1, affine=True, track_running_stats=True)\n",
              "        (conv2): Conv2d(64, 64, kernel_size=(3, 3), stride=(1, 1), padding=(1, 1), bias=False)\n",
              "        (bn2): BatchNorm2d(64, eps=1e-05, momentum=0.1, affine=True, track_running_stats=True)\n",
              "        (conv3): Conv2d(64, 256, kernel_size=(1, 1), stride=(1, 1), bias=False)\n",
              "        (bn3): BatchNorm2d(256, eps=1e-05, momentum=0.1, affine=True, track_running_stats=True)\n",
              "        (relu): ReLU(inplace=True)\n",
              "      )\n",
              "    )\n",
              "    (layer2): Sequential(\n",
              "      (0): Bottleneck(\n",
              "        (conv1): Conv2d(256, 128, kernel_size=(1, 1), stride=(1, 1), bias=False)\n",
              "        (bn1): BatchNorm2d(128, eps=1e-05, momentum=0.1, affine=True, track_running_stats=True)\n",
              "        (conv2): Conv2d(128, 128, kernel_size=(3, 3), stride=(2, 2), padding=(1, 1), bias=False)\n",
              "        (bn2): BatchNorm2d(128, eps=1e-05, momentum=0.1, affine=True, track_running_stats=True)\n",
              "        (conv3): Conv2d(128, 512, kernel_size=(1, 1), stride=(1, 1), bias=False)\n",
              "        (bn3): BatchNorm2d(512, eps=1e-05, momentum=0.1, affine=True, track_running_stats=True)\n",
              "        (relu): ReLU(inplace=True)\n",
              "        (downsample): Sequential(\n",
              "          (0): Conv2d(256, 512, kernel_size=(1, 1), stride=(2, 2), bias=False)\n",
              "          (1): BatchNorm2d(512, eps=1e-05, momentum=0.1, affine=True, track_running_stats=True)\n",
              "        )\n",
              "      )\n",
              "      (1): Bottleneck(\n",
              "        (conv1): Conv2d(512, 128, kernel_size=(1, 1), stride=(1, 1), bias=False)\n",
              "        (bn1): BatchNorm2d(128, eps=1e-05, momentum=0.1, affine=True, track_running_stats=True)\n",
              "        (conv2): Conv2d(128, 128, kernel_size=(3, 3), stride=(1, 1), padding=(1, 1), bias=False)\n",
              "        (bn2): BatchNorm2d(128, eps=1e-05, momentum=0.1, affine=True, track_running_stats=True)\n",
              "        (conv3): Conv2d(128, 512, kernel_size=(1, 1), stride=(1, 1), bias=False)\n",
              "        (bn3): BatchNorm2d(512, eps=1e-05, momentum=0.1, affine=True, track_running_stats=True)\n",
              "        (relu): ReLU(inplace=True)\n",
              "      )\n",
              "      (2): Bottleneck(\n",
              "        (conv1): Conv2d(512, 128, kernel_size=(1, 1), stride=(1, 1), bias=False)\n",
              "        (bn1): BatchNorm2d(128, eps=1e-05, momentum=0.1, affine=True, track_running_stats=True)\n",
              "        (conv2): Conv2d(128, 128, kernel_size=(3, 3), stride=(1, 1), padding=(1, 1), bias=False)\n",
              "        (bn2): BatchNorm2d(128, eps=1e-05, momentum=0.1, affine=True, track_running_stats=True)\n",
              "        (conv3): Conv2d(128, 512, kernel_size=(1, 1), stride=(1, 1), bias=False)\n",
              "        (bn3): BatchNorm2d(512, eps=1e-05, momentum=0.1, affine=True, track_running_stats=True)\n",
              "        (relu): ReLU(inplace=True)\n",
              "      )\n",
              "      (3): Bottleneck(\n",
              "        (conv1): Conv2d(512, 128, kernel_size=(1, 1), stride=(1, 1), bias=False)\n",
              "        (bn1): BatchNorm2d(128, eps=1e-05, momentum=0.1, affine=True, track_running_stats=True)\n",
              "        (conv2): Conv2d(128, 128, kernel_size=(3, 3), stride=(1, 1), padding=(1, 1), bias=False)\n",
              "        (bn2): BatchNorm2d(128, eps=1e-05, momentum=0.1, affine=True, track_running_stats=True)\n",
              "        (conv3): Conv2d(128, 512, kernel_size=(1, 1), stride=(1, 1), bias=False)\n",
              "        (bn3): BatchNorm2d(512, eps=1e-05, momentum=0.1, affine=True, track_running_stats=True)\n",
              "        (relu): ReLU(inplace=True)\n",
              "      )\n",
              "    )\n",
              "    (layer3): Sequential(\n",
              "      (0): Bottleneck(\n",
              "        (conv1): Conv2d(512, 256, kernel_size=(1, 1), stride=(1, 1), bias=False)\n",
              "        (bn1): BatchNorm2d(256, eps=1e-05, momentum=0.1, affine=True, track_running_stats=True)\n",
              "        (conv2): Conv2d(256, 256, kernel_size=(3, 3), stride=(2, 2), padding=(1, 1), bias=False)\n",
              "        (bn2): BatchNorm2d(256, eps=1e-05, momentum=0.1, affine=True, track_running_stats=True)\n",
              "        (conv3): Conv2d(256, 1024, kernel_size=(1, 1), stride=(1, 1), bias=False)\n",
              "        (bn3): BatchNorm2d(1024, eps=1e-05, momentum=0.1, affine=True, track_running_stats=True)\n",
              "        (relu): ReLU(inplace=True)\n",
              "        (downsample): Sequential(\n",
              "          (0): Conv2d(512, 1024, kernel_size=(1, 1), stride=(2, 2), bias=False)\n",
              "          (1): BatchNorm2d(1024, eps=1e-05, momentum=0.1, affine=True, track_running_stats=True)\n",
              "        )\n",
              "      )\n",
              "      (1): Bottleneck(\n",
              "        (conv1): Conv2d(1024, 256, kernel_size=(1, 1), stride=(1, 1), bias=False)\n",
              "        (bn1): BatchNorm2d(256, eps=1e-05, momentum=0.1, affine=True, track_running_stats=True)\n",
              "        (conv2): Conv2d(256, 256, kernel_size=(3, 3), stride=(1, 1), padding=(1, 1), bias=False)\n",
              "        (bn2): BatchNorm2d(256, eps=1e-05, momentum=0.1, affine=True, track_running_stats=True)\n",
              "        (conv3): Conv2d(256, 1024, kernel_size=(1, 1), stride=(1, 1), bias=False)\n",
              "        (bn3): BatchNorm2d(1024, eps=1e-05, momentum=0.1, affine=True, track_running_stats=True)\n",
              "        (relu): ReLU(inplace=True)\n",
              "      )\n",
              "      (2): Bottleneck(\n",
              "        (conv1): Conv2d(1024, 256, kernel_size=(1, 1), stride=(1, 1), bias=False)\n",
              "        (bn1): BatchNorm2d(256, eps=1e-05, momentum=0.1, affine=True, track_running_stats=True)\n",
              "        (conv2): Conv2d(256, 256, kernel_size=(3, 3), stride=(1, 1), padding=(1, 1), bias=False)\n",
              "        (bn2): BatchNorm2d(256, eps=1e-05, momentum=0.1, affine=True, track_running_stats=True)\n",
              "        (conv3): Conv2d(256, 1024, kernel_size=(1, 1), stride=(1, 1), bias=False)\n",
              "        (bn3): BatchNorm2d(1024, eps=1e-05, momentum=0.1, affine=True, track_running_stats=True)\n",
              "        (relu): ReLU(inplace=True)\n",
              "      )\n",
              "      (3): Bottleneck(\n",
              "        (conv1): Conv2d(1024, 256, kernel_size=(1, 1), stride=(1, 1), bias=False)\n",
              "        (bn1): BatchNorm2d(256, eps=1e-05, momentum=0.1, affine=True, track_running_stats=True)\n",
              "        (conv2): Conv2d(256, 256, kernel_size=(3, 3), stride=(1, 1), padding=(1, 1), bias=False)\n",
              "        (bn2): BatchNorm2d(256, eps=1e-05, momentum=0.1, affine=True, track_running_stats=True)\n",
              "        (conv3): Conv2d(256, 1024, kernel_size=(1, 1), stride=(1, 1), bias=False)\n",
              "        (bn3): BatchNorm2d(1024, eps=1e-05, momentum=0.1, affine=True, track_running_stats=True)\n",
              "        (relu): ReLU(inplace=True)\n",
              "      )\n",
              "      (4): Bottleneck(\n",
              "        (conv1): Conv2d(1024, 256, kernel_size=(1, 1), stride=(1, 1), bias=False)\n",
              "        (bn1): BatchNorm2d(256, eps=1e-05, momentum=0.1, affine=True, track_running_stats=True)\n",
              "        (conv2): Conv2d(256, 256, kernel_size=(3, 3), stride=(1, 1), padding=(1, 1), bias=False)\n",
              "        (bn2): BatchNorm2d(256, eps=1e-05, momentum=0.1, affine=True, track_running_stats=True)\n",
              "        (conv3): Conv2d(256, 1024, kernel_size=(1, 1), stride=(1, 1), bias=False)\n",
              "        (bn3): BatchNorm2d(1024, eps=1e-05, momentum=0.1, affine=True, track_running_stats=True)\n",
              "        (relu): ReLU(inplace=True)\n",
              "      )\n",
              "      (5): Bottleneck(\n",
              "        (conv1): Conv2d(1024, 256, kernel_size=(1, 1), stride=(1, 1), bias=False)\n",
              "        (bn1): BatchNorm2d(256, eps=1e-05, momentum=0.1, affine=True, track_running_stats=True)\n",
              "        (conv2): Conv2d(256, 256, kernel_size=(3, 3), stride=(1, 1), padding=(1, 1), bias=False)\n",
              "        (bn2): BatchNorm2d(256, eps=1e-05, momentum=0.1, affine=True, track_running_stats=True)\n",
              "        (conv3): Conv2d(256, 1024, kernel_size=(1, 1), stride=(1, 1), bias=False)\n",
              "        (bn3): BatchNorm2d(1024, eps=1e-05, momentum=0.1, affine=True, track_running_stats=True)\n",
              "        (relu): ReLU(inplace=True)\n",
              "      )\n",
              "    )\n",
              "    (layer4): Sequential(\n",
              "      (0): Bottleneck(\n",
              "        (conv1): Conv2d(1024, 512, kernel_size=(1, 1), stride=(1, 1), bias=False)\n",
              "        (bn1): BatchNorm2d(512, eps=1e-05, momentum=0.1, affine=True, track_running_stats=True)\n",
              "        (conv2): Conv2d(512, 512, kernel_size=(3, 3), stride=(2, 2), padding=(1, 1), bias=False)\n",
              "        (bn2): BatchNorm2d(512, eps=1e-05, momentum=0.1, affine=True, track_running_stats=True)\n",
              "        (conv3): Conv2d(512, 2048, kernel_size=(1, 1), stride=(1, 1), bias=False)\n",
              "        (bn3): BatchNorm2d(2048, eps=1e-05, momentum=0.1, affine=True, track_running_stats=True)\n",
              "        (relu): ReLU(inplace=True)\n",
              "        (downsample): Sequential(\n",
              "          (0): Conv2d(1024, 2048, kernel_size=(1, 1), stride=(2, 2), bias=False)\n",
              "          (1): BatchNorm2d(2048, eps=1e-05, momentum=0.1, affine=True, track_running_stats=True)\n",
              "        )\n",
              "      )\n",
              "      (1): Bottleneck(\n",
              "        (conv1): Conv2d(2048, 512, kernel_size=(1, 1), stride=(1, 1), bias=False)\n",
              "        (bn1): BatchNorm2d(512, eps=1e-05, momentum=0.1, affine=True, track_running_stats=True)\n",
              "        (conv2): Conv2d(512, 512, kernel_size=(3, 3), stride=(1, 1), padding=(1, 1), bias=False)\n",
              "        (bn2): BatchNorm2d(512, eps=1e-05, momentum=0.1, affine=True, track_running_stats=True)\n",
              "        (conv3): Conv2d(512, 2048, kernel_size=(1, 1), stride=(1, 1), bias=False)\n",
              "        (bn3): BatchNorm2d(2048, eps=1e-05, momentum=0.1, affine=True, track_running_stats=True)\n",
              "        (relu): ReLU(inplace=True)\n",
              "      )\n",
              "      (2): Bottleneck(\n",
              "        (conv1): Conv2d(2048, 512, kernel_size=(1, 1), stride=(1, 1), bias=False)\n",
              "        (bn1): BatchNorm2d(512, eps=1e-05, momentum=0.1, affine=True, track_running_stats=True)\n",
              "        (conv2): Conv2d(512, 512, kernel_size=(3, 3), stride=(1, 1), padding=(1, 1), bias=False)\n",
              "        (bn2): BatchNorm2d(512, eps=1e-05, momentum=0.1, affine=True, track_running_stats=True)\n",
              "        (conv3): Conv2d(512, 2048, kernel_size=(1, 1), stride=(1, 1), bias=False)\n",
              "        (bn3): BatchNorm2d(2048, eps=1e-05, momentum=0.1, affine=True, track_running_stats=True)\n",
              "        (relu): ReLU(inplace=True)\n",
              "      )\n",
              "    )\n",
              "  )\n",
              "  (decoder): UnetDecoder(\n",
              "    (center): Identity()\n",
              "    (blocks): ModuleList(\n",
              "      (0): DecoderBlock(\n",
              "        (conv1): Conv2dReLU(\n",
              "          (0): Conv2d(3072, 256, kernel_size=(3, 3), stride=(1, 1), padding=(1, 1), bias=False)\n",
              "          (1): BatchNorm2d(256, eps=1e-05, momentum=0.1, affine=True, track_running_stats=True)\n",
              "          (2): ReLU(inplace=True)\n",
              "        )\n",
              "        (attention1): Attention(\n",
              "          (attention): Identity()\n",
              "        )\n",
              "        (conv2): Conv2dReLU(\n",
              "          (0): Conv2d(256, 256, kernel_size=(3, 3), stride=(1, 1), padding=(1, 1), bias=False)\n",
              "          (1): BatchNorm2d(256, eps=1e-05, momentum=0.1, affine=True, track_running_stats=True)\n",
              "          (2): ReLU(inplace=True)\n",
              "        )\n",
              "        (attention2): Attention(\n",
              "          (attention): Identity()\n",
              "        )\n",
              "      )\n",
              "      (1): DecoderBlock(\n",
              "        (conv1): Conv2dReLU(\n",
              "          (0): Conv2d(768, 128, kernel_size=(3, 3), stride=(1, 1), padding=(1, 1), bias=False)\n",
              "          (1): BatchNorm2d(128, eps=1e-05, momentum=0.1, affine=True, track_running_stats=True)\n",
              "          (2): ReLU(inplace=True)\n",
              "        )\n",
              "        (attention1): Attention(\n",
              "          (attention): Identity()\n",
              "        )\n",
              "        (conv2): Conv2dReLU(\n",
              "          (0): Conv2d(128, 128, kernel_size=(3, 3), stride=(1, 1), padding=(1, 1), bias=False)\n",
              "          (1): BatchNorm2d(128, eps=1e-05, momentum=0.1, affine=True, track_running_stats=True)\n",
              "          (2): ReLU(inplace=True)\n",
              "        )\n",
              "        (attention2): Attention(\n",
              "          (attention): Identity()\n",
              "        )\n",
              "      )\n",
              "      (2): DecoderBlock(\n",
              "        (conv1): Conv2dReLU(\n",
              "          (0): Conv2d(384, 64, kernel_size=(3, 3), stride=(1, 1), padding=(1, 1), bias=False)\n",
              "          (1): BatchNorm2d(64, eps=1e-05, momentum=0.1, affine=True, track_running_stats=True)\n",
              "          (2): ReLU(inplace=True)\n",
              "        )\n",
              "        (attention1): Attention(\n",
              "          (attention): Identity()\n",
              "        )\n",
              "        (conv2): Conv2dReLU(\n",
              "          (0): Conv2d(64, 64, kernel_size=(3, 3), stride=(1, 1), padding=(1, 1), bias=False)\n",
              "          (1): BatchNorm2d(64, eps=1e-05, momentum=0.1, affine=True, track_running_stats=True)\n",
              "          (2): ReLU(inplace=True)\n",
              "        )\n",
              "        (attention2): Attention(\n",
              "          (attention): Identity()\n",
              "        )\n",
              "      )\n",
              "      (3): DecoderBlock(\n",
              "        (conv1): Conv2dReLU(\n",
              "          (0): Conv2d(128, 32, kernel_size=(3, 3), stride=(1, 1), padding=(1, 1), bias=False)\n",
              "          (1): BatchNorm2d(32, eps=1e-05, momentum=0.1, affine=True, track_running_stats=True)\n",
              "          (2): ReLU(inplace=True)\n",
              "        )\n",
              "        (attention1): Attention(\n",
              "          (attention): Identity()\n",
              "        )\n",
              "        (conv2): Conv2dReLU(\n",
              "          (0): Conv2d(32, 32, kernel_size=(3, 3), stride=(1, 1), padding=(1, 1), bias=False)\n",
              "          (1): BatchNorm2d(32, eps=1e-05, momentum=0.1, affine=True, track_running_stats=True)\n",
              "          (2): ReLU(inplace=True)\n",
              "        )\n",
              "        (attention2): Attention(\n",
              "          (attention): Identity()\n",
              "        )\n",
              "      )\n",
              "      (4): DecoderBlock(\n",
              "        (conv1): Conv2dReLU(\n",
              "          (0): Conv2d(32, 16, kernel_size=(3, 3), stride=(1, 1), padding=(1, 1), bias=False)\n",
              "          (1): BatchNorm2d(16, eps=1e-05, momentum=0.1, affine=True, track_running_stats=True)\n",
              "          (2): ReLU(inplace=True)\n",
              "        )\n",
              "        (attention1): Attention(\n",
              "          (attention): Identity()\n",
              "        )\n",
              "        (conv2): Conv2dReLU(\n",
              "          (0): Conv2d(16, 16, kernel_size=(3, 3), stride=(1, 1), padding=(1, 1), bias=False)\n",
              "          (1): BatchNorm2d(16, eps=1e-05, momentum=0.1, affine=True, track_running_stats=True)\n",
              "          (2): ReLU(inplace=True)\n",
              "        )\n",
              "        (attention2): Attention(\n",
              "          (attention): Identity()\n",
              "        )\n",
              "      )\n",
              "    )\n",
              "  )\n",
              "  (segmentation_head): SegmentationHead(\n",
              "    (0): Conv2d(16, 1, kernel_size=(3, 3), stride=(1, 1), padding=(1, 1))\n",
              "    (1): Identity()\n",
              "    (2): Activation(\n",
              "      (activation): Identity()\n",
              "    )\n",
              "  )\n",
              ")"
            ]
          },
          "metadata": {},
          "execution_count": 3
        }
      ]
    },
    {
      "cell_type": "code",
      "source": [
        "# Hacemos la predicción\n",
        "segmentation = model_unet(tensor)"
      ],
      "metadata": {
        "id": "KsSrqytLlHoj"
      },
      "execution_count": 88,
      "outputs": []
    },
    {
      "cell_type": "code",
      "source": [
        "# Convierte el tensor en un arreglo NumPy\n",
        "mask_array = segmentation[0][0].detach().numpy()  # Suponemos un solo elemento en el batch\n",
        "\n",
        "# Muestra la máscara como una imagen\n",
        "plt.imshow((mask_array), cmap='viridis')  # Puedes ajustar el mapa de colores según tus necesidades\n",
        "plt.show()"
      ],
      "metadata": {
        "colab": {
          "base_uri": "https://localhost:8080/",
          "height": 434
        },
        "id": "N_NnGsmKlJlu",
        "outputId": "56d39bee-4552-4725-8387-89e0855a4a2d"
      },
      "execution_count": 89,
      "outputs": [
        {
          "output_type": "display_data",
          "data": {
            "text/plain": [
              "<Figure size 640x480 with 1 Axes>"
            ],
            "image/png": "[encoded data removed]"
          },
          "metadata": {}
        }
      ]
    },
    {
      "cell_type": "code",
      "source": [
        "# Esta es la imagen original (sin segmentar)\n",
        "plt.imshow((image_pil), cmap='viridis')  # Puedes ajustar el mapa de colores según tus necesidades\n",
        "plt.show()"
      ],
      "metadata": {
        "colab": {
          "base_uri": "https://localhost:8080/",
          "height": 434
        },
        "id": "euxBVWbjccSJ",
        "outputId": "bb9692fb-8fa8-4dcc-892e-8ac78d0ffb78"
      },
      "execution_count": 71,
      "outputs": [
        {
          "output_type": "display_data",
          "data": {
            "text/plain": [
              "<Figure size 640x480 with 1 Axes>"
            ],
            "image/png": "[encoded data removed]"
          },
          "metadata": {}
        }
      ]
    },
    {
      "cell_type": "markdown",
      "source": [
        "Realmente los resultados (como se esperaba) no han sido muy buenos. Es normal, pues las bases de datos empleadas para el entrenamiento no son afines (no tienen la misma distribución).\n",
        "\n",
        "Sin embargo, ahora vamos a tomar otra UNet que ha sido entrenada con imágenes biomédicas (concretamente imágenes MRI)."
      ],
      "metadata": {
        "id": "ZnVOBXaL3AD2"
      }
    },
    {
      "cell_type": "code",
      "source": [
        "# Solo funciona en modo CPU\n",
        "import torch\n",
        "model = torch.hub.load('mateuszbuda/brain-segmentation-pytorch', 'unet',\n",
        "    in_channels=3, out_channels=1, init_features=32, pretrained=True)"
      ],
      "metadata": {
        "colab": {
          "base_uri": "https://localhost:8080/"
        },
        "id": "pjwA3Jk2n1oe",
        "outputId": "810db276-c148-4fd6-b507-e4ea614735fd"
      },
      "execution_count": 79,
      "outputs": [
        {
          "output_type": "stream",
          "name": "stderr",
          "text": [
            "Using cache found in /root/.cache/torch/hub/mateuszbuda_brain-segmentation-pytorch_master\n"
          ]
        }
      ]
    },
    {
      "cell_type": "code",
      "source": [
        "import numpy as np\n",
        "from PIL import Image\n",
        "from torchvision import transforms\n",
        "\n",
        "input_image = Image.open(nombre_imagen_png).convert(\"RGB\")\n",
        "\n",
        "m, s = np.mean(input_image, axis=(0, 1)), np.std(input_image, axis=(0, 1))\n",
        "preprocess = transforms.Compose([\n",
        "    transforms.Resize((256, 256)),\n",
        "    transforms.ToTensor(),\n",
        "    transforms.Normalize(mean=m, std=s),\n",
        "])\n",
        "input_tensor = preprocess(input_image)\n",
        "input_batch = input_tensor.unsqueeze(0)\n",
        "\n",
        "if torch.cuda.is_available():\n",
        "    input_batch = input_batch.to('cuda')\n",
        "    model = model.to('cuda')\n",
        "\n",
        "with torch.no_grad():\n",
        "    output = model(input_batch)\n",
        "\n",
        "print(torch.round(output[0]))"
      ],
      "metadata": {
        "colab": {
          "base_uri": "https://localhost:8080/"
        },
        "id": "Cs1xbqHilld5",
        "outputId": "6303275a-9970-450e-f17a-f1103ab1dca3"
      },
      "execution_count": 80,
      "outputs": [
        {
          "output_type": "stream",
          "name": "stdout",
          "text": [
            "tensor([[[0., 0., 0.,  ..., 0., 0., 0.],\n",
            "         [0., 0., 0.,  ..., 0., 0., 0.],\n",
            "         [0., 0., 0.,  ..., 0., 0., 0.],\n",
            "         ...,\n",
            "         [0., 0., 0.,  ..., 0., 0., 0.],\n",
            "         [0., 0., 0.,  ..., 0., 0., 0.],\n",
            "         [0., 0., 0.,  ..., 0., 0., 0.]]], device='cuda:0')\n"
          ]
        }
      ]
    },
    {
      "cell_type": "code",
      "source": [
        "import matplotlib.pyplot as plt\n",
        "\n",
        "# Convierte el tensor en un arreglo NumPy\n",
        "mask_array = output[0][0].cpu().detach().numpy()  # Suponemos un solo elemento en el batch\n",
        "\n",
        "# Muestra la máscara como una imagen\n",
        "plt.imshow((mask_array), cmap='viridis')  # Puedes ajustar el mapa de colores según tus necesidades\n",
        "plt.show()"
      ],
      "metadata": {
        "colab": {
          "base_uri": "https://localhost:8080/",
          "height": 246
        },
        "id": "67SYvOqQxMut",
        "outputId": "ed2c2820-3a1a-420b-9003-cf0a07fdc952"
      },
      "execution_count": 18,
      "outputs": [
        {
          "output_type": "error",
          "ename": "NameError",
          "evalue": "ignored",
          "traceback": [
            "\u001b[0;31m---------------------------------------------------------------------------\u001b[0m",
            "\u001b[0;31mNameError\u001b[0m                                 Traceback (most recent call last)",
            "\u001b[0;32m<ipython-input-18-7a609373233d>\u001b[0m in \u001b[0;36m<cell line: 5>\u001b[0;34m()\u001b[0m\n\u001b[1;32m      3\u001b[0m \u001b[0;34m\u001b[0m\u001b[0m\n\u001b[1;32m      4\u001b[0m \u001b[0;31m# Convierte el tensor en un arreglo NumPy\u001b[0m\u001b[0;34m\u001b[0m\u001b[0;34m\u001b[0m\u001b[0m\n\u001b[0;32m----> 5\u001b[0;31m \u001b[0mmask_array\u001b[0m \u001b[0;34m=\u001b[0m \u001b[0moutput\u001b[0m\u001b[0;34m[\u001b[0m\u001b[0;36m0\u001b[0m\u001b[0;34m]\u001b[0m\u001b[0;34m[\u001b[0m\u001b[0;36m0\u001b[0m\u001b[0;34m]\u001b[0m\u001b[0;34m.\u001b[0m\u001b[0mcpu\u001b[0m\u001b[0;34m(\u001b[0m\u001b[0;34m)\u001b[0m\u001b[0;34m.\u001b[0m\u001b[0mdetach\u001b[0m\u001b[0;34m(\u001b[0m\u001b[0;34m)\u001b[0m\u001b[0;34m.\u001b[0m\u001b[0mnumpy\u001b[0m\u001b[0;34m(\u001b[0m\u001b[0;34m)\u001b[0m  \u001b[0;31m# Suponemos un solo elemento en el batch\u001b[0m\u001b[0;34m\u001b[0m\u001b[0;34m\u001b[0m\u001b[0m\n\u001b[0m\u001b[1;32m      6\u001b[0m \u001b[0;34m\u001b[0m\u001b[0m\n\u001b[1;32m      7\u001b[0m \u001b[0;31m# Muestra la máscara como una imagen\u001b[0m\u001b[0;34m\u001b[0m\u001b[0;34m\u001b[0m\u001b[0m\n",
            "\u001b[0;31mNameError\u001b[0m: name 'output' is not defined"
          ]
        }
      ]
    },
    {
      "cell_type": "markdown",
      "source": [
        "De nuevo vemos como el resultado no es el esperado.\n",
        "\n",
        "¿Qué implica esto? Que es difícil hacer uso de una red neuronal que ya ha sido entrenada con un determinado fin. Sí que podemos, mediante transfer learning, hacer uso de todo lo que ya ha aprendido (en términos de representación/embeddings) para el fin que nosotros persigamos."
      ],
      "metadata": {
        "id": "6rCYjqCC3VwJ"
      }
    },
    {
      "cell_type": "markdown",
      "source": [
        "Vamos a adaptar una red ya entrenada con nuestros datos (`stage1_train`).\n",
        "Para ello, vamos a crearnos una clase (`CustomDataset`) que se encargará de realizar toda la lógica para leer imágenes:\n",
        "- Tendrá en cuenta donde están las carpetas\n",
        "- Qué estructura tienen\n",
        "- Dónde están las máscaras/segmentaciones"
      ],
      "metadata": {
        "id": "lcJ2pSIB3tbh"
      }
    },
    {
      "cell_type": "code",
      "source": [
        "from PIL import Image\n",
        "from torch.utils.data import Dataset, DataLoader\n",
        "\n",
        "\n",
        "class CustomDataset(Dataset):\n",
        "    def __init__(self, data_dir, transform=None):\n",
        "        self.data_dir = data_dir\n",
        "        self.image_dir = data_dir\n",
        "        self.images = os.listdir(self.image_dir)\n",
        "        self.nombre_archivo =  self.image_dir.split('/')[-2]\n",
        "        self.lista_nombre_carpetas = glob.glob(self.image_dir + \"*/\")\n",
        "        self.transform = transform\n",
        "\n",
        "    def __len__(self):\n",
        "        return len(self.images)\n",
        "\n",
        "    def __getitem__(self, idx):\n",
        "\n",
        "        image = Image.open(f'{self.lista_nombre_carpetas[idx]}images/{self.lista_nombre_carpetas[idx].split(\"/\")[-2]}.png').convert(\"RGB\")\n",
        "        mask = Image.fromarray((get_mask(f'{self.lista_nombre_carpetas[idx]}')).astype('uint8'))\n",
        "\n",
        "        if self.transform:\n",
        "            image = self.transform(image)\n",
        "            mask = self.transform(mask)\n",
        "\n",
        "        return image, mask"
      ],
      "metadata": {
        "id": "QE0Ua88zc_eR"
      },
      "execution_count": 34,
      "outputs": []
    },
    {
      "cell_type": "markdown",
      "source": [
        "Cargaremos ese conjunto de datos e iremos iterando sobre él"
      ],
      "metadata": {
        "id": "K_WqS3PK4HNF"
      }
    },
    {
      "cell_type": "code",
      "source": [
        "import os, glob\n",
        "from skimage import io\n",
        "\n",
        "dataset = CustomDataset('/content/stage1_train/', transform=transform)\n",
        "dataloader = DataLoader(dataset, batch_size=64, shuffle=True)"
      ],
      "metadata": {
        "id": "yUT5TX9Uj7KV"
      },
      "execution_count": 35,
      "outputs": []
    },
    {
      "cell_type": "code",
      "source": [
        "# Definir función de pérdida y optimizador\n",
        "\n",
        "device = torch.device(\"cuda:0\" if torch.cuda.is_available() else \"cpu\")\n",
        "\n",
        "criterion = torch.nn.BCEWithLogitsLoss()\n",
        "optimizer = torch.optim.Adam(model_unet.parameters(), lr=0.001)\n",
        "\n",
        "num_epochs = 10\n",
        "\n",
        "# Mandamos el modelo a la GPU\n",
        "model_unet.to(device)\n",
        "\n",
        "\n",
        "for epoch in range(num_epochs):\n",
        "    model_unet.train()\n",
        "    running_loss = 0.0\n",
        "\n",
        "    for inputs, masks in dataloader:\n",
        "        # Mandamos los datos a la GPU\n",
        "        inputs, masks = inputs.to(device), masks.to(device)\n",
        "\n",
        "        optimizer.zero_grad() # Inicializamos los gradientes (no los pesos)\n",
        "        outputs = model_unet(inputs)\n",
        "        loss = criterion(outputs, masks)\n",
        "        loss.backward()\n",
        "        optimizer.step()\n",
        "        running_loss += loss.item()\n",
        "\n",
        "    print(f'Epoch {epoch + 1}/{num_epochs}, Loss: {running_loss}')\n",
        "\n",
        "print('Entrenamiento completado.')"
      ],
      "metadata": {
        "colab": {
          "base_uri": "https://localhost:8080/"
        },
        "id": "eFZ-3i0al-pW",
        "outputId": "a6b53ff7-bf01-4c2a-9e82-a69acdb0e651"
      },
      "execution_count": 36,
      "outputs": [
        {
          "output_type": "stream",
          "name": "stdout",
          "text": [
            "Epoch 1/10, Loss: 5.964756160974503\n",
            "Epoch 2/10, Loss: 3.050567850470543\n",
            "Epoch 3/10, Loss: 2.1905840635299683\n",
            "Epoch 4/10, Loss: 1.6695463955402374\n",
            "Epoch 5/10, Loss: 1.3840450048446655\n",
            "Epoch 6/10, Loss: 1.2316166013479233\n",
            "Epoch 7/10, Loss: 1.1538474336266518\n",
            "Epoch 8/10, Loss: 1.0882817581295967\n",
            "Epoch 9/10, Loss: 1.0539060086011887\n",
            "Epoch 10/10, Loss: 1.018436186015606\n",
            "Entrenamiento completado.\n"
          ]
        }
      ]
    },
    {
      "cell_type": "code",
      "source": [
        "# Guardamos el modelo\n",
        "torch.save(model_unet, 'unet_model.pth')\n",
        "# loaded_model = torch.load('unet_model.pth')"
      ],
      "metadata": {
        "id": "HVNQFbvyjP8N"
      },
      "execution_count": 37,
      "outputs": []
    },
    {
      "cell_type": "markdown",
      "source": [
        "Hacemos una prueba rápida para ver que funciona utilizando la última imagen que se ha empleado para el entrenamiento.\n",
        "\n",
        "- Esto no es del todo correcto para sacar conclusiones sobre la bondad de la segmentación, pero sí que sirve para ver qué resultados está dando en el entrenamiento"
      ],
      "metadata": {
        "id": "mIZY3RON4XOt"
      }
    },
    {
      "cell_type": "code",
      "source": [
        "model_unet.eval()\n",
        "segmentation = model_unet(inputs)"
      ],
      "metadata": {
        "id": "jRtfazH2t-ku"
      },
      "execution_count": 51,
      "outputs": []
    },
    {
      "cell_type": "code",
      "source": [
        "# Convierte el tensor en un arreglo NumPy\n",
        "mask_array = segmentation[0][0].cpu().detach().numpy()  # Suponemos un solo elemento en el batch\n",
        "\n",
        "# Muestra la máscara como una imagen\n",
        "plt.imshow((mask_array)>0, cmap='viridis')  # Puedes ajustar el mapa de colores según tus necesidades\n",
        "plt.show()"
      ],
      "metadata": {
        "colab": {
          "base_uri": "https://localhost:8080/",
          "height": 434
        },
        "id": "5tEuQpggukBz",
        "outputId": "d1a00c26-44f0-4db6-d72b-da9e9d5dcfb8"
      },
      "execution_count": 54,
      "outputs": [
        {
          "output_type": "display_data",
          "data": {
            "text/plain": [
              "<Figure size 640x480 with 1 Axes>"
            ],
            "image/png": "[encoded data removed]"
          },
          "metadata": {}
        }
      ]
    },
    {
      "cell_type": "markdown",
      "source": [
        "Vamos a probar con el conjunto de test"
      ],
      "metadata": {
        "id": "8OvfiY3K4m0D"
      }
    },
    {
      "cell_type": "code",
      "source": [
        "from onedrivedownloader import download\n",
        "download(url = 'https://universidadfv-my.sharepoint.com/:u:/g/personal/alberto_desantos_ufv_es/EbFNPmnK0DBKsjf7RtAHwJ8BlNKrxStwOwN5FuzzEN1_fg?e=boiGsh',\n",
        "         filename = \"stage1_test.zip\", unzip=False, force_download=True, clean=False)\n",
        "!mkdir /content/stage1_test\n",
        "!unzip -q stage1_test.zip -d /content/stage1_test"
      ],
      "metadata": {
        "colab": {
          "base_uri": "https://localhost:8080/"
        },
        "id": "vHU4okXcu44-",
        "outputId": "40d2ab23-5371-43fd-a8be-faa021ca99f1"
      },
      "execution_count": 56,
      "outputs": [
        {
          "output_type": "stream",
          "name": "stderr",
          "text": [
            "100%|██████████| 9.55M/9.55M [00:00<00:00, 56.2MiB/s]\n"
          ]
        }
      ]
    },
    {
      "cell_type": "code",
      "source": [
        "dataset_test = CustomDataset('/content/stage1_test/', transform=transform)\n",
        "dataloader_test = DataLoader(dataset_test, batch_size=64, shuffle=True)"
      ],
      "metadata": {
        "id": "F7mzG6Tjv87s"
      },
      "execution_count": 57,
      "outputs": []
    },
    {
      "cell_type": "code",
      "source": [
        "from sklearn.metrics import f1_score\n",
        "\n",
        "def calcula_evaluacion(imagen_segmentada, mask):\n",
        "\n",
        "  # Calcular f1_score\n",
        "  f_score = f1_score(imagen_segmentada.ravel(), mask.ravel(), average='weighted')\n",
        "  f_score_comp = f1_score((1-imagen_segmentada).ravel(), mask.ravel(), average='weighted')\n",
        "  f_score = np.max([f_score, f_score_comp])\n",
        "\n",
        "  # Calcular IoU\n",
        "  intersection = np.logical_and(imagen_segmentada, mask).sum()\n",
        "  union = np.logical_or(imagen_segmentada, mask).sum()\n",
        "  iou = intersection / union\n",
        "\n",
        "  intersection_comp = np.logical_and((1-imagen_segmentada), mask).sum()\n",
        "  union_comp = np.logical_or((1-imagen_segmentada), mask).sum()\n",
        "  iou_comp = intersection_comp / union_comp\n",
        "  iou = np.max([iou, iou_comp])\n",
        "\n",
        "  return f'El factor f1_score es de {np.round(100*f_score, 2)}% \\nLa intersection over union (iou) es de {np.round(100*iou, 2)}%.\\nPor lo tanto, la métrica definitiva es: {np.round(100*np.min([f_score, iou]),2)}%'\n"
      ],
      "metadata": {
        "id": "rzf-77fUwRgC"
      },
      "execution_count": 58,
      "outputs": []
    },
    {
      "cell_type": "markdown",
      "source": [
        "Iteramos el conjunto de test con la función `calcula_evaluacion` y vemos qué los resultados obtenidos son muy interesantes (y eso que no hemos hecho nada de Data Augmentation)."
      ],
      "metadata": {
        "id": "kR2AuO8I4rBF"
      }
    },
    {
      "cell_type": "code",
      "source": [
        "for inputs, masks in dataloader:\n",
        "  inputs, masks = inputs.to(device), masks.to(device)\n",
        "  segmentation = model_unet(inputs)\n",
        "  mask_array = segmentation[0][0].cpu().detach().numpy()\n",
        "  print(calcula_evaluacion(mask_array>3,\n",
        "                         masks[0][0].cpu().detach().numpy().astype('uint8')\n",
        "                         ))\n",
        "  print('------------------')"
      ],
      "metadata": {
        "colab": {
          "base_uri": "https://localhost:8080/",
          "height": 1000
        },
        "id": "CJ2sQNwLwbU_",
        "outputId": "13d2d1e4-698e-413f-a020-fa32863e2344"
      },
      "execution_count": 80,
      "outputs": [
        {
          "output_type": "stream",
          "name": "stdout",
          "text": [
            "El factor f1_score es de 99.6% \n",
            "La intersection over union (iou) es de 79.7%.\n",
            "Por lo tanto, la métrica definitiva es: 79.7%\n",
            "------------------\n",
            "El factor f1_score es de 94.55% \n",
            "La intersection over union (iou) es de 68.29%.\n",
            "Por lo tanto, la métrica definitiva es: 68.29%\n",
            "------------------\n",
            "El factor f1_score es de 99.69% \n",
            "La intersection over union (iou) es de 77.47%.\n",
            "Por lo tanto, la métrica definitiva es: 77.47%\n",
            "------------------\n",
            "El factor f1_score es de 98.57% \n",
            "La intersection over union (iou) es de 21.28%.\n",
            "Por lo tanto, la métrica definitiva es: 21.28%\n",
            "------------------\n",
            "El factor f1_score es de 95.44% \n",
            "La intersection over union (iou) es de 27.22%.\n",
            "Por lo tanto, la métrica definitiva es: 27.22%\n",
            "------------------\n",
            "El factor f1_score es de 99.08% \n",
            "La intersection over union (iou) es de 62.51%.\n",
            "Por lo tanto, la métrica definitiva es: 62.51%\n",
            "------------------\n",
            "El factor f1_score es de 92.92% \n",
            "La intersection over union (iou) es de 56.89%.\n",
            "Por lo tanto, la métrica definitiva es: 56.89%\n",
            "------------------\n",
            "El factor f1_score es de 99.44% \n",
            "La intersection over union (iou) es de 78.53%.\n",
            "Por lo tanto, la métrica definitiva es: 78.53%\n",
            "------------------\n",
            "El factor f1_score es de 92.56% \n",
            "La intersection over union (iou) es de 39.86%.\n",
            "Por lo tanto, la métrica definitiva es: 39.86%\n",
            "------------------\n"
          ]
        },
        {
          "output_type": "error",
          "ename": "KeyboardInterrupt",
          "evalue": "ignored",
          "traceback": [
            "\u001b[0;31m---------------------------------------------------------------------------\u001b[0m",
            "\u001b[0;31mKeyboardInterrupt\u001b[0m                         Traceback (most recent call last)",
            "\u001b[0;32m<ipython-input-80-ce89303f6159>\u001b[0m in \u001b[0;36m<cell line: 1>\u001b[0;34m()\u001b[0m\n\u001b[0;32m----> 1\u001b[0;31m \u001b[0;32mfor\u001b[0m \u001b[0minputs\u001b[0m\u001b[0;34m,\u001b[0m \u001b[0mmasks\u001b[0m \u001b[0;32min\u001b[0m \u001b[0mdataloader\u001b[0m\u001b[0;34m:\u001b[0m\u001b[0;34m\u001b[0m\u001b[0;34m\u001b[0m\u001b[0m\n\u001b[0m\u001b[1;32m      2\u001b[0m   \u001b[0minputs\u001b[0m\u001b[0;34m,\u001b[0m \u001b[0mmasks\u001b[0m \u001b[0;34m=\u001b[0m \u001b[0minputs\u001b[0m\u001b[0;34m.\u001b[0m\u001b[0mto\u001b[0m\u001b[0;34m(\u001b[0m\u001b[0mdevice\u001b[0m\u001b[0;34m)\u001b[0m\u001b[0;34m,\u001b[0m \u001b[0mmasks\u001b[0m\u001b[0;34m.\u001b[0m\u001b[0mto\u001b[0m\u001b[0;34m(\u001b[0m\u001b[0mdevice\u001b[0m\u001b[0;34m)\u001b[0m\u001b[0;34m\u001b[0m\u001b[0;34m\u001b[0m\u001b[0m\n\u001b[1;32m      3\u001b[0m   \u001b[0msegmentation\u001b[0m \u001b[0;34m=\u001b[0m \u001b[0mmodel_unet\u001b[0m\u001b[0;34m(\u001b[0m\u001b[0minputs\u001b[0m\u001b[0;34m)\u001b[0m\u001b[0;34m\u001b[0m\u001b[0;34m\u001b[0m\u001b[0m\n\u001b[1;32m      4\u001b[0m   \u001b[0mmask_array\u001b[0m \u001b[0;34m=\u001b[0m \u001b[0msegmentation\u001b[0m\u001b[0;34m[\u001b[0m\u001b[0;36m0\u001b[0m\u001b[0;34m]\u001b[0m\u001b[0;34m[\u001b[0m\u001b[0;36m0\u001b[0m\u001b[0;34m]\u001b[0m\u001b[0;34m.\u001b[0m\u001b[0mcpu\u001b[0m\u001b[0;34m(\u001b[0m\u001b[0;34m)\u001b[0m\u001b[0;34m.\u001b[0m\u001b[0mdetach\u001b[0m\u001b[0;34m(\u001b[0m\u001b[0;34m)\u001b[0m\u001b[0;34m.\u001b[0m\u001b[0mnumpy\u001b[0m\u001b[0;34m(\u001b[0m\u001b[0;34m)\u001b[0m\u001b[0;34m\u001b[0m\u001b[0;34m\u001b[0m\u001b[0m\n\u001b[1;32m      5\u001b[0m   print(calcula_evaluacion(mask_array>3, \n",
            "\u001b[0;32m/usr/local/lib/python3.10/dist-packages/torch/utils/data/dataloader.py\u001b[0m in \u001b[0;36m__next__\u001b[0;34m(self)\u001b[0m\n\u001b[1;32m    628\u001b[0m                 \u001b[0;31m# TODO(https://github.com/pytorch/pytorch/issues/76750)\u001b[0m\u001b[0;34m\u001b[0m\u001b[0;34m\u001b[0m\u001b[0m\n\u001b[1;32m    629\u001b[0m                 \u001b[0mself\u001b[0m\u001b[0;34m.\u001b[0m\u001b[0m_reset\u001b[0m\u001b[0;34m(\u001b[0m\u001b[0;34m)\u001b[0m  \u001b[0;31m# type: ignore[call-arg]\u001b[0m\u001b[0;34m\u001b[0m\u001b[0;34m\u001b[0m\u001b[0m\n\u001b[0;32m--> 630\u001b[0;31m             \u001b[0mdata\u001b[0m \u001b[0;34m=\u001b[0m \u001b[0mself\u001b[0m\u001b[0;34m.\u001b[0m\u001b[0m_next_data\u001b[0m\u001b[0;34m(\u001b[0m\u001b[0;34m)\u001b[0m\u001b[0;34m\u001b[0m\u001b[0;34m\u001b[0m\u001b[0m\n\u001b[0m\u001b[1;32m    631\u001b[0m             \u001b[0mself\u001b[0m\u001b[0;34m.\u001b[0m\u001b[0m_num_yielded\u001b[0m \u001b[0;34m+=\u001b[0m \u001b[0;36m1\u001b[0m\u001b[0;34m\u001b[0m\u001b[0;34m\u001b[0m\u001b[0m\n\u001b[1;32m    632\u001b[0m             \u001b[0;32mif\u001b[0m \u001b[0mself\u001b[0m\u001b[0;34m.\u001b[0m\u001b[0m_dataset_kind\u001b[0m \u001b[0;34m==\u001b[0m \u001b[0m_DatasetKind\u001b[0m\u001b[0;34m.\u001b[0m\u001b[0mIterable\u001b[0m \u001b[0;32mand\u001b[0m\u001b[0;31m \u001b[0m\u001b[0;31m\\\u001b[0m\u001b[0;34m\u001b[0m\u001b[0;34m\u001b[0m\u001b[0m\n",
            "\u001b[0;32m/usr/local/lib/python3.10/dist-packages/torch/utils/data/dataloader.py\u001b[0m in \u001b[0;36m_next_data\u001b[0;34m(self)\u001b[0m\n\u001b[1;32m    672\u001b[0m     \u001b[0;32mdef\u001b[0m \u001b[0m_next_data\u001b[0m\u001b[0;34m(\u001b[0m\u001b[0mself\u001b[0m\u001b[0;34m)\u001b[0m\u001b[0;34m:\u001b[0m\u001b[0;34m\u001b[0m\u001b[0;34m\u001b[0m\u001b[0m\n\u001b[1;32m    673\u001b[0m         \u001b[0mindex\u001b[0m \u001b[0;34m=\u001b[0m \u001b[0mself\u001b[0m\u001b[0;34m.\u001b[0m\u001b[0m_next_index\u001b[0m\u001b[0;34m(\u001b[0m\u001b[0;34m)\u001b[0m  \u001b[0;31m# may raise StopIteration\u001b[0m\u001b[0;34m\u001b[0m\u001b[0;34m\u001b[0m\u001b[0m\n\u001b[0;32m--> 674\u001b[0;31m         \u001b[0mdata\u001b[0m \u001b[0;34m=\u001b[0m \u001b[0mself\u001b[0m\u001b[0;34m.\u001b[0m\u001b[0m_dataset_fetcher\u001b[0m\u001b[0;34m.\u001b[0m\u001b[0mfetch\u001b[0m\u001b[0;34m(\u001b[0m\u001b[0mindex\u001b[0m\u001b[0;34m)\u001b[0m  \u001b[0;31m# may raise StopIteration\u001b[0m\u001b[0;34m\u001b[0m\u001b[0;34m\u001b[0m\u001b[0m\n\u001b[0m\u001b[1;32m    675\u001b[0m         \u001b[0;32mif\u001b[0m \u001b[0mself\u001b[0m\u001b[0;34m.\u001b[0m\u001b[0m_pin_memory\u001b[0m\u001b[0;34m:\u001b[0m\u001b[0;34m\u001b[0m\u001b[0;34m\u001b[0m\u001b[0m\n\u001b[1;32m    676\u001b[0m             \u001b[0mdata\u001b[0m \u001b[0;34m=\u001b[0m \u001b[0m_utils\u001b[0m\u001b[0;34m.\u001b[0m\u001b[0mpin_memory\u001b[0m\u001b[0;34m.\u001b[0m\u001b[0mpin_memory\u001b[0m\u001b[0;34m(\u001b[0m\u001b[0mdata\u001b[0m\u001b[0;34m,\u001b[0m \u001b[0mself\u001b[0m\u001b[0;34m.\u001b[0m\u001b[0m_pin_memory_device\u001b[0m\u001b[0;34m)\u001b[0m\u001b[0;34m\u001b[0m\u001b[0;34m\u001b[0m\u001b[0m\n",
            "\u001b[0;32m/usr/local/lib/python3.10/dist-packages/torch/utils/data/_utils/fetch.py\u001b[0m in \u001b[0;36mfetch\u001b[0;34m(self, possibly_batched_index)\u001b[0m\n\u001b[1;32m     49\u001b[0m                 \u001b[0mdata\u001b[0m \u001b[0;34m=\u001b[0m \u001b[0mself\u001b[0m\u001b[0;34m.\u001b[0m\u001b[0mdataset\u001b[0m\u001b[0;34m.\u001b[0m\u001b[0m__getitems__\u001b[0m\u001b[0;34m(\u001b[0m\u001b[0mpossibly_batched_index\u001b[0m\u001b[0;34m)\u001b[0m\u001b[0;34m\u001b[0m\u001b[0;34m\u001b[0m\u001b[0m\n\u001b[1;32m     50\u001b[0m             \u001b[0;32melse\u001b[0m\u001b[0;34m:\u001b[0m\u001b[0;34m\u001b[0m\u001b[0;34m\u001b[0m\u001b[0m\n\u001b[0;32m---> 51\u001b[0;31m                 \u001b[0mdata\u001b[0m \u001b[0;34m=\u001b[0m \u001b[0;34m[\u001b[0m\u001b[0mself\u001b[0m\u001b[0;34m.\u001b[0m\u001b[0mdataset\u001b[0m\u001b[0;34m[\u001b[0m\u001b[0midx\u001b[0m\u001b[0;34m]\u001b[0m \u001b[0;32mfor\u001b[0m \u001b[0midx\u001b[0m \u001b[0;32min\u001b[0m \u001b[0mpossibly_batched_index\u001b[0m\u001b[0;34m]\u001b[0m\u001b[0;34m\u001b[0m\u001b[0;34m\u001b[0m\u001b[0m\n\u001b[0m\u001b[1;32m     52\u001b[0m         \u001b[0;32melse\u001b[0m\u001b[0;34m:\u001b[0m\u001b[0;34m\u001b[0m\u001b[0;34m\u001b[0m\u001b[0m\n\u001b[1;32m     53\u001b[0m             \u001b[0mdata\u001b[0m \u001b[0;34m=\u001b[0m \u001b[0mself\u001b[0m\u001b[0;34m.\u001b[0m\u001b[0mdataset\u001b[0m\u001b[0;34m[\u001b[0m\u001b[0mpossibly_batched_index\u001b[0m\u001b[0;34m]\u001b[0m\u001b[0;34m\u001b[0m\u001b[0;34m\u001b[0m\u001b[0m\n",
            "\u001b[0;32m/usr/local/lib/python3.10/dist-packages/torch/utils/data/_utils/fetch.py\u001b[0m in \u001b[0;36m<listcomp>\u001b[0;34m(.0)\u001b[0m\n\u001b[1;32m     49\u001b[0m                 \u001b[0mdata\u001b[0m \u001b[0;34m=\u001b[0m \u001b[0mself\u001b[0m\u001b[0;34m.\u001b[0m\u001b[0mdataset\u001b[0m\u001b[0;34m.\u001b[0m\u001b[0m__getitems__\u001b[0m\u001b[0;34m(\u001b[0m\u001b[0mpossibly_batched_index\u001b[0m\u001b[0;34m)\u001b[0m\u001b[0;34m\u001b[0m\u001b[0;34m\u001b[0m\u001b[0m\n\u001b[1;32m     50\u001b[0m             \u001b[0;32melse\u001b[0m\u001b[0;34m:\u001b[0m\u001b[0;34m\u001b[0m\u001b[0;34m\u001b[0m\u001b[0m\n\u001b[0;32m---> 51\u001b[0;31m                 \u001b[0mdata\u001b[0m \u001b[0;34m=\u001b[0m \u001b[0;34m[\u001b[0m\u001b[0mself\u001b[0m\u001b[0;34m.\u001b[0m\u001b[0mdataset\u001b[0m\u001b[0;34m[\u001b[0m\u001b[0midx\u001b[0m\u001b[0;34m]\u001b[0m \u001b[0;32mfor\u001b[0m \u001b[0midx\u001b[0m \u001b[0;32min\u001b[0m \u001b[0mpossibly_batched_index\u001b[0m\u001b[0;34m]\u001b[0m\u001b[0;34m\u001b[0m\u001b[0;34m\u001b[0m\u001b[0m\n\u001b[0m\u001b[1;32m     52\u001b[0m         \u001b[0;32melse\u001b[0m\u001b[0;34m:\u001b[0m\u001b[0;34m\u001b[0m\u001b[0;34m\u001b[0m\u001b[0m\n\u001b[1;32m     53\u001b[0m             \u001b[0mdata\u001b[0m \u001b[0;34m=\u001b[0m \u001b[0mself\u001b[0m\u001b[0;34m.\u001b[0m\u001b[0mdataset\u001b[0m\u001b[0;34m[\u001b[0m\u001b[0mpossibly_batched_index\u001b[0m\u001b[0;34m]\u001b[0m\u001b[0;34m\u001b[0m\u001b[0;34m\u001b[0m\u001b[0m\n",
            "\u001b[0;32m<ipython-input-34-a3a8d6202fa9>\u001b[0m in \u001b[0;36m__getitem__\u001b[0;34m(self, idx)\u001b[0m\n\u001b[1;32m     18\u001b[0m \u001b[0;34m\u001b[0m\u001b[0m\n\u001b[1;32m     19\u001b[0m         \u001b[0mimage\u001b[0m \u001b[0;34m=\u001b[0m \u001b[0mImage\u001b[0m\u001b[0;34m.\u001b[0m\u001b[0mopen\u001b[0m\u001b[0;34m(\u001b[0m\u001b[0;34mf'{self.lista_nombre_carpetas[idx]}images/{self.lista_nombre_carpetas[idx].split(\"/\")[-2]}.png'\u001b[0m\u001b[0;34m)\u001b[0m\u001b[0;34m.\u001b[0m\u001b[0mconvert\u001b[0m\u001b[0;34m(\u001b[0m\u001b[0;34m\"RGB\"\u001b[0m\u001b[0;34m)\u001b[0m\u001b[0;34m\u001b[0m\u001b[0;34m\u001b[0m\u001b[0m\n\u001b[0;32m---> 20\u001b[0;31m         \u001b[0mmask\u001b[0m \u001b[0;34m=\u001b[0m \u001b[0mImage\u001b[0m\u001b[0;34m.\u001b[0m\u001b[0mfromarray\u001b[0m\u001b[0;34m(\u001b[0m\u001b[0;34m(\u001b[0m\u001b[0mget_mask\u001b[0m\u001b[0;34m(\u001b[0m\u001b[0;34mf'{self.lista_nombre_carpetas[idx]}'\u001b[0m\u001b[0;34m)\u001b[0m\u001b[0;34m)\u001b[0m\u001b[0;34m.\u001b[0m\u001b[0mastype\u001b[0m\u001b[0;34m(\u001b[0m\u001b[0;34m'uint8'\u001b[0m\u001b[0;34m)\u001b[0m\u001b[0;34m)\u001b[0m\u001b[0;34m\u001b[0m\u001b[0;34m\u001b[0m\u001b[0m\n\u001b[0m\u001b[1;32m     21\u001b[0m \u001b[0;34m\u001b[0m\u001b[0m\n\u001b[1;32m     22\u001b[0m         \u001b[0;32mif\u001b[0m \u001b[0mself\u001b[0m\u001b[0;34m.\u001b[0m\u001b[0mtransform\u001b[0m\u001b[0;34m:\u001b[0m\u001b[0;34m\u001b[0m\u001b[0;34m\u001b[0m\u001b[0m\n",
            "\u001b[0;32m<ipython-input-33-71ab7708b493>\u001b[0m in \u001b[0;36mget_mask\u001b[0;34m(path_dir_images_and_masks)\u001b[0m\n\u001b[1;32m     19\u001b[0m       \u001b[0;31m# Iterar a través de todas las imágenes y realizar OR lógico\u001b[0m\u001b[0;34m\u001b[0m\u001b[0;34m\u001b[0m\u001b[0m\n\u001b[1;32m     20\u001b[0m       \u001b[0;32mfor\u001b[0m \u001b[0marchivo_png\u001b[0m \u001b[0;32min\u001b[0m \u001b[0marchivos_png\u001b[0m\u001b[0;34m:\u001b[0m\u001b[0;34m\u001b[0m\u001b[0;34m\u001b[0m\u001b[0m\n\u001b[0;32m---> 21\u001b[0;31m           \u001b[0mimagen_actual\u001b[0m \u001b[0;34m=\u001b[0m \u001b[0mio\u001b[0m\u001b[0;34m.\u001b[0m\u001b[0mimread\u001b[0m\u001b[0;34m(\u001b[0m\u001b[0marchivo_png\u001b[0m\u001b[0;34m,\u001b[0m \u001b[0mas_gray\u001b[0m\u001b[0;34m=\u001b[0m\u001b[0;32mTrue\u001b[0m\u001b[0;34m)\u001b[0m\u001b[0;34m[\u001b[0m\u001b[0;34m:\u001b[0m\u001b[0;34m:\u001b[0m\u001b[0;36m2\u001b[0m\u001b[0;34m,\u001b[0m\u001b[0;34m:\u001b[0m\u001b[0;34m:\u001b[0m\u001b[0;36m2\u001b[0m\u001b[0;34m]\u001b[0m\u001b[0;34m\u001b[0m\u001b[0;34m\u001b[0m\u001b[0m\n\u001b[0m\u001b[1;32m     22\u001b[0m           \u001b[0mimagen_resultante\u001b[0m \u001b[0;34m|=\u001b[0m \u001b[0mimg_as_bool\u001b[0m\u001b[0;34m(\u001b[0m\u001b[0mimagen_actual\u001b[0m\u001b[0;34m)\u001b[0m\u001b[0;34m\u001b[0m\u001b[0;34m\u001b[0m\u001b[0m\n\u001b[1;32m     23\u001b[0m \u001b[0;34m\u001b[0m\u001b[0m\n",
            "\u001b[0;32m/usr/local/lib/python3.10/dist-packages/skimage/io/_io.py\u001b[0m in \u001b[0;36mimread\u001b[0;34m(fname, as_gray, plugin, **plugin_args)\u001b[0m\n\u001b[1;32m     51\u001b[0m \u001b[0;34m\u001b[0m\u001b[0m\n\u001b[1;32m     52\u001b[0m     \u001b[0;32mwith\u001b[0m \u001b[0mfile_or_url_context\u001b[0m\u001b[0;34m(\u001b[0m\u001b[0mfname\u001b[0m\u001b[0;34m)\u001b[0m \u001b[0;32mas\u001b[0m \u001b[0mfname\u001b[0m\u001b[0;34m:\u001b[0m\u001b[0;34m\u001b[0m\u001b[0;34m\u001b[0m\u001b[0m\n\u001b[0;32m---> 53\u001b[0;31m         \u001b[0mimg\u001b[0m \u001b[0;34m=\u001b[0m \u001b[0mcall_plugin\u001b[0m\u001b[0;34m(\u001b[0m\u001b[0;34m'imread'\u001b[0m\u001b[0;34m,\u001b[0m \u001b[0mfname\u001b[0m\u001b[0;34m,\u001b[0m \u001b[0mplugin\u001b[0m\u001b[0;34m=\u001b[0m\u001b[0mplugin\u001b[0m\u001b[0;34m,\u001b[0m \u001b[0;34m**\u001b[0m\u001b[0mplugin_args\u001b[0m\u001b[0;34m)\u001b[0m\u001b[0;34m\u001b[0m\u001b[0;34m\u001b[0m\u001b[0m\n\u001b[0m\u001b[1;32m     54\u001b[0m \u001b[0;34m\u001b[0m\u001b[0m\n\u001b[1;32m     55\u001b[0m     \u001b[0;32mif\u001b[0m \u001b[0;32mnot\u001b[0m \u001b[0mhasattr\u001b[0m\u001b[0;34m(\u001b[0m\u001b[0mimg\u001b[0m\u001b[0;34m,\u001b[0m \u001b[0;34m'ndim'\u001b[0m\u001b[0;34m)\u001b[0m\u001b[0;34m:\u001b[0m\u001b[0;34m\u001b[0m\u001b[0;34m\u001b[0m\u001b[0m\n",
            "\u001b[0;32m/usr/local/lib/python3.10/dist-packages/skimage/io/manage_plugins.py\u001b[0m in \u001b[0;36mcall_plugin\u001b[0;34m(kind, *args, **kwargs)\u001b[0m\n\u001b[1;32m    205\u001b[0m                                (plugin, kind))\n\u001b[1;32m    206\u001b[0m \u001b[0;34m\u001b[0m\u001b[0m\n\u001b[0;32m--> 207\u001b[0;31m     \u001b[0;32mreturn\u001b[0m \u001b[0mfunc\u001b[0m\u001b[0;34m(\u001b[0m\u001b[0;34m*\u001b[0m\u001b[0margs\u001b[0m\u001b[0;34m,\u001b[0m \u001b[0;34m**\u001b[0m\u001b[0mkwargs\u001b[0m\u001b[0;34m)\u001b[0m\u001b[0;34m\u001b[0m\u001b[0;34m\u001b[0m\u001b[0m\n\u001b[0m\u001b[1;32m    208\u001b[0m \u001b[0;34m\u001b[0m\u001b[0m\n\u001b[1;32m    209\u001b[0m \u001b[0;34m\u001b[0m\u001b[0m\n",
            "\u001b[0;32m/usr/local/lib/python3.10/dist-packages/skimage/io/_plugins/imageio_plugin.py\u001b[0m in \u001b[0;36mimread\u001b[0;34m(*args, **kwargs)\u001b[0m\n\u001b[1;32m     13\u001b[0m \u001b[0;34m@\u001b[0m\u001b[0mwraps\u001b[0m\u001b[0;34m(\u001b[0m\u001b[0mimageio_imread\u001b[0m\u001b[0;34m)\u001b[0m\u001b[0;34m\u001b[0m\u001b[0;34m\u001b[0m\u001b[0m\n\u001b[1;32m     14\u001b[0m \u001b[0;32mdef\u001b[0m \u001b[0mimread\u001b[0m\u001b[0;34m(\u001b[0m\u001b[0;34m*\u001b[0m\u001b[0margs\u001b[0m\u001b[0;34m,\u001b[0m \u001b[0;34m**\u001b[0m\u001b[0mkwargs\u001b[0m\u001b[0;34m)\u001b[0m\u001b[0;34m:\u001b[0m\u001b[0;34m\u001b[0m\u001b[0;34m\u001b[0m\u001b[0m\n\u001b[0;32m---> 15\u001b[0;31m     \u001b[0;32mreturn\u001b[0m \u001b[0mnp\u001b[0m\u001b[0;34m.\u001b[0m\u001b[0masarray\u001b[0m\u001b[0;34m(\u001b[0m\u001b[0mimageio_imread\u001b[0m\u001b[0;34m(\u001b[0m\u001b[0;34m*\u001b[0m\u001b[0margs\u001b[0m\u001b[0;34m,\u001b[0m \u001b[0;34m**\u001b[0m\u001b[0mkwargs\u001b[0m\u001b[0;34m)\u001b[0m\u001b[0;34m)\u001b[0m\u001b[0;34m\u001b[0m\u001b[0;34m\u001b[0m\u001b[0m\n\u001b[0m",
            "\u001b[0;32m/usr/local/lib/python3.10/dist-packages/imageio/v2.py\u001b[0m in \u001b[0;36mimread\u001b[0;34m(uri, format, **kwargs)\u001b[0m\n\u001b[1;32m    358\u001b[0m \u001b[0;34m\u001b[0m\u001b[0m\n\u001b[1;32m    359\u001b[0m     \u001b[0;32mwith\u001b[0m \u001b[0mimopen\u001b[0m\u001b[0;34m(\u001b[0m\u001b[0muri\u001b[0m\u001b[0;34m,\u001b[0m \u001b[0;34m\"ri\"\u001b[0m\u001b[0;34m,\u001b[0m \u001b[0;34m**\u001b[0m\u001b[0mimopen_args\u001b[0m\u001b[0;34m)\u001b[0m \u001b[0;32mas\u001b[0m \u001b[0mfile\u001b[0m\u001b[0;34m:\u001b[0m\u001b[0;34m\u001b[0m\u001b[0;34m\u001b[0m\u001b[0m\n\u001b[0;32m--> 360\u001b[0;31m         \u001b[0mresult\u001b[0m \u001b[0;34m=\u001b[0m \u001b[0mfile\u001b[0m\u001b[0;34m.\u001b[0m\u001b[0mread\u001b[0m\u001b[0;34m(\u001b[0m\u001b[0mindex\u001b[0m\u001b[0;34m=\u001b[0m\u001b[0;36m0\u001b[0m\u001b[0;34m,\u001b[0m \u001b[0;34m**\u001b[0m\u001b[0mkwargs\u001b[0m\u001b[0;34m)\u001b[0m\u001b[0;34m\u001b[0m\u001b[0;34m\u001b[0m\u001b[0m\n\u001b[0m\u001b[1;32m    361\u001b[0m \u001b[0;34m\u001b[0m\u001b[0m\n\u001b[1;32m    362\u001b[0m     \u001b[0;32mreturn\u001b[0m \u001b[0mresult\u001b[0m\u001b[0;34m\u001b[0m\u001b[0;34m\u001b[0m\u001b[0m\n",
            "\u001b[0;32m/usr/local/lib/python3.10/dist-packages/imageio/plugins/pillow.py\u001b[0m in \u001b[0;36mread\u001b[0;34m(self, index, mode, rotate, apply_gamma, writeable_output, pilmode, exifrotate, as_gray)\u001b[0m\n\u001b[1;32m    229\u001b[0m             \u001b[0;31m# will raise IO error if index >= number of frames in image\u001b[0m\u001b[0;34m\u001b[0m\u001b[0;34m\u001b[0m\u001b[0m\n\u001b[1;32m    230\u001b[0m             \u001b[0mself\u001b[0m\u001b[0;34m.\u001b[0m\u001b[0m_image\u001b[0m\u001b[0;34m.\u001b[0m\u001b[0mseek\u001b[0m\u001b[0;34m(\u001b[0m\u001b[0mindex\u001b[0m\u001b[0;34m)\u001b[0m\u001b[0;34m\u001b[0m\u001b[0;34m\u001b[0m\u001b[0m\n\u001b[0;32m--> 231\u001b[0;31m             image = self._apply_transforms(\n\u001b[0m\u001b[1;32m    232\u001b[0m                 \u001b[0mself\u001b[0m\u001b[0;34m.\u001b[0m\u001b[0m_image\u001b[0m\u001b[0;34m,\u001b[0m \u001b[0mmode\u001b[0m\u001b[0;34m,\u001b[0m \u001b[0mrotate\u001b[0m\u001b[0;34m,\u001b[0m \u001b[0mapply_gamma\u001b[0m\u001b[0;34m,\u001b[0m \u001b[0mwriteable_output\u001b[0m\u001b[0;34m\u001b[0m\u001b[0;34m\u001b[0m\u001b[0m\n\u001b[1;32m    233\u001b[0m             )\n",
            "\u001b[0;32m/usr/local/lib/python3.10/dist-packages/imageio/plugins/pillow.py\u001b[0m in \u001b[0;36m_apply_transforms\u001b[0;34m(self, image, mode, rotate, apply_gamma, writeable_output)\u001b[0m\n\u001b[1;32m    312\u001b[0m                 \u001b[0mimage\u001b[0m\u001b[0;34m.\u001b[0m\u001b[0mmode\u001b[0m \u001b[0;34m=\u001b[0m \u001b[0mdesired_mode\u001b[0m\u001b[0;34m\u001b[0m\u001b[0;34m\u001b[0m\u001b[0m\n\u001b[1;32m    313\u001b[0m \u001b[0;34m\u001b[0m\u001b[0m\n\u001b[0;32m--> 314\u001b[0;31m         \u001b[0mimage\u001b[0m \u001b[0;34m=\u001b[0m \u001b[0mnp\u001b[0m\u001b[0;34m.\u001b[0m\u001b[0masarray\u001b[0m\u001b[0;34m(\u001b[0m\u001b[0mimage\u001b[0m\u001b[0;34m)\u001b[0m\u001b[0;34m\u001b[0m\u001b[0;34m\u001b[0m\u001b[0m\n\u001b[0m\u001b[1;32m    315\u001b[0m \u001b[0;34m\u001b[0m\u001b[0m\n\u001b[1;32m    316\u001b[0m         \u001b[0mmeta\u001b[0m \u001b[0;34m=\u001b[0m \u001b[0mself\u001b[0m\u001b[0;34m.\u001b[0m\u001b[0mmetadata\u001b[0m\u001b[0;34m(\u001b[0m\u001b[0mindex\u001b[0m\u001b[0;34m=\u001b[0m\u001b[0mself\u001b[0m\u001b[0;34m.\u001b[0m\u001b[0m_image\u001b[0m\u001b[0;34m.\u001b[0m\u001b[0mtell\u001b[0m\u001b[0;34m(\u001b[0m\u001b[0;34m)\u001b[0m\u001b[0;34m,\u001b[0m \u001b[0mexclude_applied\u001b[0m\u001b[0;34m=\u001b[0m\u001b[0;32mFalse\u001b[0m\u001b[0;34m)\u001b[0m\u001b[0;34m\u001b[0m\u001b[0;34m\u001b[0m\u001b[0m\n",
            "\u001b[0;32m/usr/local/lib/python3.10/dist-packages/PIL/Image.py\u001b[0m in \u001b[0;36m__array_interface__\u001b[0;34m(self)\u001b[0m\n\u001b[1;32m    699\u001b[0m                 \u001b[0mnew\u001b[0m\u001b[0;34m[\u001b[0m\u001b[0;34m\"data\"\u001b[0m\u001b[0;34m]\u001b[0m \u001b[0;34m=\u001b[0m \u001b[0mself\u001b[0m\u001b[0;34m.\u001b[0m\u001b[0mtobytes\u001b[0m\u001b[0;34m(\u001b[0m\u001b[0;34m\"raw\"\u001b[0m\u001b[0;34m,\u001b[0m \u001b[0;34m\"L\"\u001b[0m\u001b[0;34m)\u001b[0m\u001b[0;34m\u001b[0m\u001b[0;34m\u001b[0m\u001b[0m\n\u001b[1;32m    700\u001b[0m             \u001b[0;32melse\u001b[0m\u001b[0;34m:\u001b[0m\u001b[0;34m\u001b[0m\u001b[0;34m\u001b[0m\u001b[0m\n\u001b[0;32m--> 701\u001b[0;31m                 \u001b[0mnew\u001b[0m\u001b[0;34m[\u001b[0m\u001b[0;34m\"data\"\u001b[0m\u001b[0;34m]\u001b[0m \u001b[0;34m=\u001b[0m \u001b[0mself\u001b[0m\u001b[0;34m.\u001b[0m\u001b[0mtobytes\u001b[0m\u001b[0;34m(\u001b[0m\u001b[0;34m)\u001b[0m\u001b[0;34m\u001b[0m\u001b[0;34m\u001b[0m\u001b[0m\n\u001b[0m\u001b[1;32m    702\u001b[0m         \u001b[0;32mexcept\u001b[0m \u001b[0mException\u001b[0m \u001b[0;32mas\u001b[0m \u001b[0me\u001b[0m\u001b[0;34m:\u001b[0m\u001b[0;34m\u001b[0m\u001b[0;34m\u001b[0m\u001b[0m\n\u001b[1;32m    703\u001b[0m             \u001b[0;32mif\u001b[0m \u001b[0;32mnot\u001b[0m \u001b[0misinstance\u001b[0m\u001b[0;34m(\u001b[0m\u001b[0me\u001b[0m\u001b[0;34m,\u001b[0m \u001b[0;34m(\u001b[0m\u001b[0mMemoryError\u001b[0m\u001b[0;34m,\u001b[0m \u001b[0mRecursionError\u001b[0m\u001b[0;34m)\u001b[0m\u001b[0;34m)\u001b[0m\u001b[0;34m:\u001b[0m\u001b[0;34m\u001b[0m\u001b[0;34m\u001b[0m\u001b[0m\n",
            "\u001b[0;32m/usr/local/lib/python3.10/dist-packages/PIL/Image.py\u001b[0m in \u001b[0;36mtobytes\u001b[0;34m(self, encoder_name, *args)\u001b[0m\n\u001b[1;32m    756\u001b[0m             \u001b[0margs\u001b[0m \u001b[0;34m=\u001b[0m \u001b[0mself\u001b[0m\u001b[0;34m.\u001b[0m\u001b[0mmode\u001b[0m\u001b[0;34m\u001b[0m\u001b[0;34m\u001b[0m\u001b[0m\n\u001b[1;32m    757\u001b[0m \u001b[0;34m\u001b[0m\u001b[0m\n\u001b[0;32m--> 758\u001b[0;31m         \u001b[0mself\u001b[0m\u001b[0;34m.\u001b[0m\u001b[0mload\u001b[0m\u001b[0;34m(\u001b[0m\u001b[0;34m)\u001b[0m\u001b[0;34m\u001b[0m\u001b[0;34m\u001b[0m\u001b[0m\n\u001b[0m\u001b[1;32m    759\u001b[0m \u001b[0;34m\u001b[0m\u001b[0m\n\u001b[1;32m    760\u001b[0m         \u001b[0;32mif\u001b[0m \u001b[0mself\u001b[0m\u001b[0;34m.\u001b[0m\u001b[0mwidth\u001b[0m \u001b[0;34m==\u001b[0m \u001b[0;36m0\u001b[0m \u001b[0;32mor\u001b[0m \u001b[0mself\u001b[0m\u001b[0;34m.\u001b[0m\u001b[0mheight\u001b[0m \u001b[0;34m==\u001b[0m \u001b[0;36m0\u001b[0m\u001b[0;34m:\u001b[0m\u001b[0;34m\u001b[0m\u001b[0;34m\u001b[0m\u001b[0m\n",
            "\u001b[0;32m/usr/local/lib/python3.10/dist-packages/PIL/ImageFile.py\u001b[0m in \u001b[0;36mload\u001b[0;34m(self)\u001b[0m\n\u001b[1;32m    267\u001b[0m \u001b[0;34m\u001b[0m\u001b[0m\n\u001b[1;32m    268\u001b[0m                             \u001b[0mb\u001b[0m \u001b[0;34m=\u001b[0m \u001b[0mb\u001b[0m \u001b[0;34m+\u001b[0m \u001b[0ms\u001b[0m\u001b[0;34m\u001b[0m\u001b[0;34m\u001b[0m\u001b[0m\n\u001b[0;32m--> 269\u001b[0;31m                             \u001b[0mn\u001b[0m\u001b[0;34m,\u001b[0m \u001b[0merr_code\u001b[0m \u001b[0;34m=\u001b[0m \u001b[0mdecoder\u001b[0m\u001b[0;34m.\u001b[0m\u001b[0mdecode\u001b[0m\u001b[0;34m(\u001b[0m\u001b[0mb\u001b[0m\u001b[0;34m)\u001b[0m\u001b[0;34m\u001b[0m\u001b[0;34m\u001b[0m\u001b[0m\n\u001b[0m\u001b[1;32m    270\u001b[0m                             \u001b[0;32mif\u001b[0m \u001b[0mn\u001b[0m \u001b[0;34m<\u001b[0m \u001b[0;36m0\u001b[0m\u001b[0;34m:\u001b[0m\u001b[0;34m\u001b[0m\u001b[0;34m\u001b[0m\u001b[0m\n\u001b[1;32m    271\u001b[0m                                 \u001b[0;32mbreak\u001b[0m\u001b[0;34m\u001b[0m\u001b[0;34m\u001b[0m\u001b[0m\n",
            "\u001b[0;31mKeyboardInterrupt\u001b[0m: "
          ]
        }
      ]
    },
    {
      "cell_type": "code",
      "source": [
        "# Opción 1: subplot\n",
        "plt.figure(figsize=(10, 5))  # Tamaño de la figura (ancho, alto)\n",
        "plt.subplot(1, 2, 1)  # 1 fila, 2 columnas, primer subplot\n",
        "plt.imshow(mask_array>0, cmap='viridis')  # Mostrar la primera imagen\n",
        "plt.title('Segmentación')\n",
        "\n",
        "plt.subplot(1, 2, 2)  # 1 fila, 2 columnas, segundo subplot\n",
        "plt.imshow(masks[0][0].cpu().detach().numpy().astype('uint8'), cmap='gray')  # Mostrar la segunda imagen\n",
        "plt.title('Ground Truth')"
      ],
      "metadata": {
        "colab": {
          "base_uri": "https://localhost:8080/",
          "height": 452
        },
        "id": "N3EQY9oJx_tP",
        "outputId": "b0d2006a-b55a-47af-b119-4a130567a7a7"
      },
      "execution_count": 82,
      "outputs": [
        {
          "output_type": "execute_result",
          "data": {
            "text/plain": [
              "Text(0.5, 1.0, 'Ground Truth')"
            ]
          },
          "metadata": {},
          "execution_count": 82
        },
        {
          "output_type": "display_data",
          "data": {
            "text/plain": [
              "<Figure size 1000x500 with 2 Axes>"
            ],
            "image/png": "[encoded data removed]"
          },
          "metadata": {}
        }
      ]
    },
    {
      "cell_type": "code",
      "source": [
        "plt.imshow(mask_array>0, cmap='viridis')  # Puedes ajustar el mapa de colores según tus necesidades\n",
        "plt.show()"
      ],
      "metadata": {
        "colab": {
          "base_uri": "https://localhost:8080/",
          "height": 434
        },
        "id": "JQOtcDdlw6D5",
        "outputId": "2a1a0dc5-1255-4f21-ffc6-a160481b999f"
      },
      "execution_count": 67,
      "outputs": [
        {
          "output_type": "display_data",
          "data": {
            "text/plain": [
              "<Figure size 640x480 with 1 Axes>"
            ],
            "image/png": "[encoded data removed]"
          },
          "metadata": {}
        }
      ]
    },
    {
      "cell_type": "markdown",
      "source": [
        "Con esto acabamos el tutorial donde hemos visto:\n",
        "- Una iniciación a Markdown\n",
        "- Una iniciación a Debugging en Notebooks\n",
        "- Introducción a PyTorch\n",
        "- Lectura de datos desde diferentes estructuras de carpetas con PyTorch y Keras\n",
        "- Entrenamiento de una CNN\n",
        "- Segmentación mediante UNets (entrenamiento y evaluación)"
      ],
      "metadata": {
        "id": "jIeKC7oO47HP"
      }
    },
    {
      "cell_type": "code",
      "source": [],
      "metadata": {
        "id": "CNf674K75K4A"
      },
      "execution_count": null,
      "outputs": []
    }
  ]
}